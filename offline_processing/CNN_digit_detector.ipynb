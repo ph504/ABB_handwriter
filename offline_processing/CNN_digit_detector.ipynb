{
 "cells": [
  {
   "cell_type": "markdown",
   "id": "e8bb6ac9",
   "metadata": {},
   "source": [
    "# CNN model"
   ]
  },
  {
   "cell_type": "markdown",
   "id": "1259ef05",
   "metadata": {},
   "source": [
    "## Libraries"
   ]
  },
  {
   "cell_type": "code",
   "execution_count": 1,
   "id": "1fd958d7",
   "metadata": {},
   "outputs": [
    {
     "ename": "ModuleNotFoundError",
     "evalue": "No module named 'tensorflow'",
     "output_type": "error",
     "traceback": [
      "\u001b[1;31m---------------------------------------------------------------------------\u001b[0m",
      "\u001b[1;31mModuleNotFoundError\u001b[0m                       Traceback (most recent call last)",
      "Input \u001b[1;32mIn [1]\u001b[0m, in \u001b[0;36m<cell line: 3>\u001b[1;34m()\u001b[0m\n\u001b[0;32m      1\u001b[0m \u001b[38;5;28;01mimport\u001b[39;00m \u001b[38;5;21;01mmatplotlib\u001b[39;00m\u001b[38;5;21;01m.\u001b[39;00m\u001b[38;5;21;01mpyplot\u001b[39;00m \u001b[38;5;28;01mas\u001b[39;00m \u001b[38;5;21;01mplt\u001b[39;00m\n\u001b[0;32m      2\u001b[0m \u001b[38;5;28;01mimport\u001b[39;00m \u001b[38;5;21;01mnumpy\u001b[39;00m \u001b[38;5;28;01mas\u001b[39;00m \u001b[38;5;21;01mnp\u001b[39;00m\n\u001b[1;32m----> 3\u001b[0m \u001b[38;5;28;01mfrom\u001b[39;00m \u001b[38;5;21;01mtensorflow\u001b[39;00m \u001b[38;5;28;01mimport\u001b[39;00m keras\n\u001b[0;32m      4\u001b[0m \u001b[38;5;28;01mimport\u001b[39;00m \u001b[38;5;21;01mtensorflow\u001b[39;00m \u001b[38;5;28;01mas\u001b[39;00m \u001b[38;5;21;01mtf\u001b[39;00m\n",
      "\u001b[1;31mModuleNotFoundError\u001b[0m: No module named 'tensorflow'"
     ]
    }
   ],
   "source": [
    "import matplotlib.pyplot as plt\n",
    "import numpy as np\n",
    "from tensorflow import keras\n",
    "import tensorflow as tf"
   ]
  },
  {
   "cell_type": "markdown",
   "id": "c3497a67",
   "metadata": {},
   "source": [
    "## Fetching data"
   ]
  },
  {
   "cell_type": "code",
   "execution_count": null,
   "id": "ae68d914",
   "metadata": {},
   "outputs": [],
   "source": [
    "(X_train, Y_train), (X_test, Y_test) = keras.datasets.mnist.load_data()"
   ]
  },
  {
   "cell_type": "code",
   "execution_count": null,
   "id": "3dc39b1a",
   "metadata": {},
   "outputs": [],
   "source": [
    "X_train.shape"
   ]
  },
  {
   "cell_type": "code",
   "execution_count": null,
   "id": "3d22c4c4",
   "metadata": {},
   "outputs": [],
   "source": [
    "X_test.shape"
   ]
  },
  {
   "cell_type": "markdown",
   "id": "e6ecd1cb",
   "metadata": {},
   "source": [
    "## Constants"
   ]
  },
  {
   "cell_type": "code",
   "execution_count": null,
   "id": "143bcdd0",
   "metadata": {},
   "outputs": [],
   "source": [
    "IMG_HEIGHT = 28\n",
    "IMG_WIDTH = 28\n",
    "NUMOF_CLASSES = 10"
   ]
  },
  {
   "cell_type": "markdown",
   "id": "cb76f551",
   "metadata": {},
   "source": [
    "### model dependent constants\n",
    "the following belong to model 1"
   ]
  },
  {
   "cell_type": "code",
   "execution_count": null,
   "id": "b2ba733d",
   "metadata": {},
   "outputs": [],
   "source": [
    "TRAIN_DATASET_SIZE = X_train.shape[0]\n",
    "VALIDATION_DATASET_SIZE = int(0.15 * TRAIN_DATASET_SIZE)\n",
    "TEST_DATASET_SIZE = X_test.shape[0]\n",
    "BATCH_SIZE = 64\n",
    "BUFFER_SIZE = int(1.1*TRAIN_DATASET_SIZE) # the buffer size for shuffling the dataset.\n",
    "# the size should be greater than or equal to the dataset in order to have perfect shuffling."
   ]
  },
  {
   "cell_type": "markdown",
   "id": "ccc21539",
   "metadata": {},
   "source": [
    "## Dataset examples"
   ]
  },
  {
   "cell_type": "code",
   "execution_count": null,
   "id": "b45cd0fa",
   "metadata": {},
   "outputs": [],
   "source": [
    "X_train\n",
    "plt.figure(figsize=(27, 7))\n",
    "for i in range(60):\n",
    "  ax = plt.subplot(4, 15, i + 1)\n",
    "  plt.imshow(X_train[i],cmap='gray')\n",
    "  plt.title(Y_train[i])\n",
    "  plt.axis(\"off\")"
   ]
  },
  {
   "cell_type": "code",
   "execution_count": null,
   "id": "6a23064e",
   "metadata": {},
   "outputs": [],
   "source": [
    "new_Y = keras.utils.to_categorical(Y_train, NUMOF_CLASSES)\n",
    "for i in range(18):\n",
    "  print(new_Y[i])\n",
    "  print(Y_train[i])"
   ]
  },
  {
   "cell_type": "markdown",
   "id": "834b833e",
   "metadata": {},
   "source": [
    "## Dataset preprocessing"
   ]
  },
  {
   "cell_type": "code",
   "execution_count": null,
   "id": "dc878c49",
   "metadata": {},
   "outputs": [],
   "source": [
    "#Y_train = keras.utils.to_categorical(Y_train, NUMOF_CLASSES)\n",
    "dataset = tf.data.Dataset.from_tensor_slices((X_train, Y_train))\n",
    "dataset = dataset.shuffle(BUFFER_SIZE).batch(BATCH_SIZE)\n",
    "train_ds = dataset.skip(VALIDATION_DATASET_SIZE)\n",
    "valid_ds = dataset.take(VALIDATION_DATASET_SIZE)\n",
    "\n",
    "test_ds = tf.data.Dataset.from_tensor_slices((X_test, Y_test))"
   ]
  },
  {
   "cell_type": "code",
   "execution_count": null,
   "id": "75c2bf4f",
   "metadata": {},
   "outputs": [],
   "source": [
    "train_ds"
   ]
  },
  {
   "cell_type": "markdown",
   "id": "6e13c4c8",
   "metadata": {},
   "source": [
    "## Model 1"
   ]
  },
  {
   "cell_type": "code",
   "execution_count": null,
   "id": "c45fccbb",
   "metadata": {},
   "outputs": [],
   "source": [
    "# locally connected convolutions feature extractors.\n",
    "modelC = keras.models.Sequential()\n",
    "modelC.add(keras.layers.Rescaling(1./255, input_shape=(IMG_HEIGHT, IMG_WIDTH, 1))) # grayscale, change to 3 for RGB.\n",
    "modelC.add(keras.layers.Conv2D(32, (3, 3), activation='relu'))\n",
    "modelC.add(keras.layers.MaxPooling2D((2, 2)))\n",
    "modelC.add(keras.layers.Conv2D(64, (3, 3), activation='relu'))\n",
    "modelC.add(keras.layers.MaxPooling2D((2, 2)))\n",
    "modelC.add(keras.layers.Conv2D(64, (3, 3), activation='relu'))\n",
    "\n",
    "# fully connected layers\n",
    "modelC.add(keras.layers.Flatten()) # 3D tensor to 1D vector.\n",
    "modelC.add(keras.layers.Dense(NUMOF_CLASSES))\n",
    "modelC.add(keras.layers.Dense(128, activation='relu')) # hidden layer with fully connect neurons.\n",
    "modelC.add(keras.layers.Dense(32, activation='relu')) # hidden layer with fully connect neurons. adding the bottleneck layer to reduce the number of parameters.\n",
    "modelC.add(keras.layers.Dense(128, activation='relu')) # hidden layer with fully connect neurons.\n",
    "modelC.add(keras.layers.Dense(NUMOF_CLASSES))\n",
    "# output layer which indicates the number of classes.\n",
    "\n",
    "modelC.summary()"
   ]
  },
  {
   "cell_type": "code",
   "execution_count": null,
   "id": "303b1169",
   "metadata": {},
   "outputs": [],
   "source": [
    "modelC.compile(optimizer='adam',\n",
    "              #loss=tf.keras.losses.CategoricalCrossentropy(from_logits=True),\n",
    "              loss=\"categorical_crossentropy\",\n",
    "              metrics=['accuracy'],\n",
    "              run_eagerly=True)"
   ]
  },
  {
   "cell_type": "code",
   "execution_count": null,
   "id": "2c267d99",
   "metadata": {},
   "outputs": [],
   "source": [
    "epochs=15\n",
    "\n",
    "historyC = modelC.fit(\n",
    "  train_ds,\n",
    "  validation_data=valid_ds,\n",
    "  epochs=epochs\n",
    ")"
   ]
  },
  {
   "cell_type": "code",
   "execution_count": null,
   "id": "2083ad17",
   "metadata": {},
   "outputs": [],
   "source": [
    "plt.figure()\n",
    "plt.plot(historyC.history['accuracy'], label='accuracy')\n",
    "plt.plot(historyC.history['val_accuracy'], label = 'val_accuracy')\n",
    "plt.xlabel('Epoch')\n",
    "plt.ylabel('Accuracy')\n",
    "plt.ylim([0.5, 1])\n",
    "plt.legend(loc='lower right')"
   ]
  },
  {
   "cell_type": "code",
   "execution_count": null,
   "id": "4fbc3397",
   "metadata": {},
   "outputs": [],
   "source": [
    "acc_C = historyC.history['accuracy']\n",
    "val_acc_C = historyC.history['val_accuracy']\n",
    "\n",
    "loss_C = historyC.history['loss']\n",
    "val_loss_C = historyC.history['val_loss']\n",
    "\n",
    "epochs_range = range(epochs)\n",
    "\n",
    "plt.figure(figsize=(8, 8))\n",
    "plt.subplot(1, 2, 1)\n",
    "plt.plot(epochs_range, acc_C, label='Training Accuracy')\n",
    "plt.plot(epochs_range, val_acc_C, label='Validation Accuracy')\n",
    "plt.legend(loc='lower right')\n",
    "plt.title('Training and Validation Accuracy')\n",
    "\n",
    "plt.subplot(1, 2, 2)\n",
    "plt.plot(epochs_range, loss_C, label='Training Loss')\n",
    "plt.plot(epochs_range, val_loss_C, label='Validation Loss')\n",
    "plt.legend(loc='upper right')\n",
    "plt.title('Training and Validation Loss')\n",
    "plt.show()"
   ]
  },
  {
   "cell_type": "markdown",
   "id": "8665ef58",
   "metadata": {},
   "source": [
    "## Model 2"
   ]
  },
  {
   "cell_type": "code",
   "execution_count": null,
   "id": "5c29d475",
   "metadata": {},
   "outputs": [],
   "source": [
    "# Model / data parameters\n",
    "num_classes = 10\n",
    "input_shape = (28, 28, 1)\n",
    "\n",
    "# the data, split between train and test sets\n",
    "(x_train, y_train), (x_test, y_test) = keras.datasets.mnist.load_data()\n",
    "\n",
    "# Scale images to the [0, 1] range\n",
    "x_train = x_train.astype(\"float32\") / 255\n",
    "x_test = x_test.astype(\"float32\") / 255\n",
    "# Make sure images have shape (28, 28, 1)\n",
    "x_train = np.expand_dims(x_train, -1)\n",
    "x_test = np.expand_dims(x_test, -1)\n",
    "print(\"x_train shape:\", x_train.shape)\n",
    "print(x_train.shape[0], \"train samples\")\n",
    "print(x_test.shape[0], \"test samples\")\n",
    "\n",
    "\n",
    "# convert class vectors to binary class matrices\n",
    "y_train = keras.utils.to_categorical(y_train, num_classes)\n",
    "y_test = keras.utils.to_categorical(y_test, num_classes)\n"
   ]
  },
  {
   "cell_type": "code",
   "execution_count": null,
   "id": "8e1b5556",
   "metadata": {},
   "outputs": [],
   "source": [
    "model = keras.Sequential([\n",
    "        keras.Input(shape=input_shape),\n",
    "        keras.layers.Conv2D(32, kernel_size=(3, 3), activation=\"relu\"),\n",
    "        keras.layers.MaxPooling2D(pool_size=(2, 2)),\n",
    "        keras.layers.Conv2D(64, kernel_size=(3, 3), activation=\"relu\"),\n",
    "        keras.layers.MaxPooling2D(pool_size=(2, 2)),\n",
    "        keras.layers.Flatten(),\n",
    "        keras.layers.Dropout(0.5),\n",
    "        keras.layers.Dense(num_classes, activation=\"softmax\"),\n",
    "      ])\n",
    "\n",
    "model.summary()"
   ]
  },
  {
   "cell_type": "code",
   "execution_count": null,
   "id": "529bcde8",
   "metadata": {},
   "outputs": [],
   "source": [
    "batch_size = 128\n",
    "epochs = 15\n",
    "\n",
    "model.compile(loss=\"categorical_crossentropy\", optimizer=\"adam\", metrics=[\"accuracy\"])\n",
    "\n",
    "model.fit(x_train, y_train, batch_size=batch_size, epochs=epochs, validation_split=0.1)"
   ]
  },
  {
   "cell_type": "code",
   "execution_count": null,
   "id": "383112dc",
   "metadata": {},
   "outputs": [],
   "source": [
    "score = model.evaluate(x_test, y_test, verbose=2)\n",
    "print(\"Test loss:\", score[0])\n",
    "print(\"Test accuracy:\", score[1])"
   ]
  },
  {
   "cell_type": "markdown",
   "id": "1ba8def2",
   "metadata": {},
   "source": []
  },
  {
   "cell_type": "markdown",
   "id": "caa0b7f7",
   "metadata": {},
   "source": []
  },
  {
   "cell_type": "code",
   "execution_count": null,
   "id": "cc0e7eb2",
   "metadata": {},
   "outputs": [],
   "source": []
  }
 ],
 "metadata": {
  "kernelspec": {
   "display_name": "Python 3 (ipykernel)",
   "language": "python",
   "name": "python3"
  },
  "language_info": {
   "codemirror_mode": {
    "name": "ipython",
    "version": 3
   },
   "file_extension": ".py",
   "mimetype": "text/x-python",
   "name": "python",
   "nbconvert_exporter": "python",
   "pygments_lexer": "ipython3",
   "version": "3.9.12"
  }
 },
 "nbformat": 4,
 "nbformat_minor": 5
}
