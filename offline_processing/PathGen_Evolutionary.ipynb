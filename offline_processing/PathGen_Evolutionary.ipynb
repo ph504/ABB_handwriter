{
 "cells": [
  {
   "cell_type": "markdown",
   "metadata": {},
   "source": [
    "# Path pattern generation using an Evolutionary computing aproach\n",
    "\n",
    "in this module we will explore on how we can generate a valid sequence based on genetic and evolutionary computing."
   ]
  },
  {
   "cell_type": "markdown",
   "metadata": {},
   "source": [
    "## Libraries"
   ]
  },
  {
   "cell_type": "code",
   "execution_count": 1,
   "metadata": {},
   "outputs": [
    {
     "name": "stdout",
     "output_type": "stream",
     "text": [
      "initialized data is stored in the following directory:\n",
      "..\\data\\generated image numbers\n"
     ]
    }
   ],
   "source": [
    "import random\n",
    "import numpy as np\n",
    "import cv2 as cv\n",
    "import ppg_init as ppg\n",
    "import seqeval\n",
    "import ipywidgets as widgets\n",
    "import evolutionary_algorithms as ea\n",
    "import seaborn as sns\n",
    "from matplotlib import pyplot as plt\n",
    "\n",
    "DEBUGMODE = False"
   ]
  },
  {
   "cell_type": "markdown",
   "metadata": {},
   "source": [
    "## Fetch preprocessed data"
   ]
  },
  {
   "cell_type": "code",
   "execution_count": 2,
   "metadata": {},
   "outputs": [],
   "source": [
    "number_gray = np.zeros((ppg.NO_DIGITS, ppg.IMG_WIDTH ,ppg.IMG_HEIGHT))\n",
    "for i in range (ppg.NO_DIGITS):\n",
    "    number_image = cv.imread(ppg.IMAGE_PATH+' '+str(i)+' dilated.png')\n",
    "    number_gray[i] = cv.cvtColor(number_image, cv.COLOR_BGR2GRAY)"
   ]
  },
  {
   "cell_type": "markdown",
   "metadata": {},
   "source": [
    "## Sample black pixels\n",
    "there are two ways to sample the pixels. sampling based on their distribution, sampling them based on their sufficient black pixel in a subarea of the image and uniformly distribute them. here we try both and compare the results.\n",
    "\n",
    "### Change resolution"
   ]
  },
  {
   "cell_type": "code",
   "execution_count": 3,
   "metadata": {},
   "outputs": [
    {
     "data": {
      "image/png": "[encoded data removed]",
      "text/plain": [
       "<Figure size 1080x432 with 10 Axes>"
      ]
     },
     "metadata": {
      "needs_background": "light"
     },
     "output_type": "display_data"
    }
   ],
   "source": [
    "stride = 30\n",
    "lrbp_threshold = 10 # low resolution black pixels threshold. \n",
    "# this is used when we want to count the number of the black pixels in the high resolution image\n",
    "# and decide whether to mark the corresponding pixel in low resolution image black.\n",
    "new_imgw = int(ppg.IMG_WIDTH/stride)\n",
    "new_imgh = int(ppg.IMG_HEIGHT/stride)\n",
    "new_img = np.ones((ppg.NO_DIGITS, new_imgw, new_imgh))*255\n",
    "new_img2 = np.ones((ppg.NO_DIGITS, new_imgw, new_imgh))*255\n",
    "# stride is always an odd number.\n",
    "\n",
    "for i in range(ppg.NO_DIGITS):\n",
    "    my_img = number_gray[i]\n",
    "    # jump a 3,3 square and check for any black pixel within the area.\n",
    "\n",
    "    for x in range(0, len(my_img), stride):\n",
    "        for y in range(0, len(my_img[x]), stride):\n",
    "            # stride is always an odd number.\n",
    "            offset = int((stride-1)/2)\n",
    "            new_x = int(x/stride)\n",
    "            new_y = int(y/stride)\n",
    "            black_pxl_vec = my_img[x-offset:x+offset+1,y-offset:y+offset+1]<50\n",
    "            black_pxl_num = np.sum(black_pxl_vec)\n",
    "#             print(has_black_pxl, end=' ')\n",
    "            if(black_pxl_num>lrbp_threshold): # has at least one black pixel\n",
    "                new_img[i,new_x,new_y] = 0\n",
    "#         print(' ')\n",
    "#     print('====================')\n",
    "ppg.plot_digits(new_img)"
   ]
  },
  {
   "cell_type": "markdown",
   "metadata": {},
   "source": [
    "### Initialize the sequence of the black pixels"
   ]
  },
  {
   "cell_type": "code",
   "execution_count": 4,
   "metadata": {},
   "outputs": [],
   "source": [
    "sequence_num = []\n",
    "for digit in range(10):\n",
    "    sequence = []\n",
    "    for row in range(len(new_img[digit])):\n",
    "        for col in range(len(new_img[digit, row])):\n",
    "            if new_img[digit, row, col]==0:\n",
    "                sequence.append((row, col))\n",
    "    sequence_num.append(sequence)\n",
    "    if(DEBUGMODE):\n",
    "        print('black pixels list for number ', digit, ':')\n",
    "        print(sequence, '\\n')\n",
    "        \n",
    "if(DEBUGMODE):\n",
    "    print(sequence_num)"
   ]
  },
  {
   "cell_type": "markdown",
   "metadata": {},
   "source": [
    "##### ranked based selection\n",
    "with linear rank probability\n",
    "$$\\frac{(2-s)}{\\mu} + \\frac{(2 i (s-1)}{\\mu (\\mu - 1)}$$"
   ]
  },
  {
   "cell_type": "markdown",
   "metadata": {},
   "source": [
    "with exponential rank probability\n",
    "$$ \\frac{1 - e ^ {-i}}{c} $$"
   ]
  },
  {
   "cell_type": "markdown",
   "metadata": {},
   "source": [
    "## Training path generating"
   ]
  },
  {
   "cell_type": "markdown",
   "metadata": {},
   "source": [
    "### Parameters selection:"
   ]
  },
  {
   "cell_type": "code",
   "execution_count": 5,
   "metadata": {},
   "outputs": [],
   "source": [
    "ea.DIGIT=0\n",
    "ea.P_MUTATION = 0.8\n",
    "ea.P_CROSSOVER = 1.0\n",
    "ea.POPULATION_SIZE = 100\n",
    "ea.MAX_NUM_OF_GEN = 100"
   ]
  },
  {
   "cell_type": "markdown",
   "metadata": {},
   "source": [
    "### Training for separate digits"
   ]
  },
  {
   "cell_type": "code",
   "execution_count": 6,
   "metadata": {},
   "outputs": [
    {
     "name": "stdout",
     "output_type": "stream",
     "text": [
      "generation = 100  progress: 100.0%  [##################################################]      \r"
     ]
    }
   ],
   "source": [
    "(generation_profile, \n",
    "    avg_fitness_profile, \n",
    "    best_fitness_profile, \n",
    "    best_ind_pheno_profile) = ea.train_evolve(mutation=ea.swap_mutation,\n",
    "                crossover=ea.edge_recombination,\n",
    "                parent_sel=ea.from_population_best_parents_select, \n",
    "                get_parents_pair_method=ea.get_parents_pair_duplocal,\n",
    "                population_sel=ea.best_population_select, \n",
    "                population_init=ea.population_init, \n",
    "                population_terminate=ea.population_terminate, \n",
    "                vertices=sequence_num,\n",
    "                desired_pheno=new_img,\n",
    "                fitness_func=ea.fitness_func,\n",
    "                geno2pheno=ea.geno2pheno)"
   ]
  },
  {
   "cell_type": "code",
   "execution_count": 7,
   "metadata": {},
   "outputs": [
    {
     "data": {
      "image/png": "[encoded data removed]",
      "text/plain": [
       "<Figure size 432x288 with 1 Axes>"
      ]
     },
     "metadata": {
      "needs_background": "light"
     },
     "output_type": "display_data"
    }
   ],
   "source": [
    "plt.plot(generation_profile,avg_fitness_profile)\n",
    "plt.ylim(0,210);"
   ]
  },
  {
   "cell_type": "code",
   "execution_count": 8,
   "metadata": {
    "scrolled": true
   },
   "outputs": [
    {
     "data": {
      "text/plain": [
       "[<matplotlib.lines.Line2D at 0x11f0a678520>]"
      ]
     },
     "execution_count": 8,
     "metadata": {},
     "output_type": "execute_result"
    },
    {
     "data": {
      "image/png": "[encoded data removed]",
      "text/plain": [
       "<Figure size 432x288 with 1 Axes>"
      ]
     },
     "metadata": {
      "needs_background": "light"
     },
     "output_type": "display_data"
    }
   ],
   "source": [
    "plt.plot(generation_profile,best_fitness_profile)"
   ]
  },
  {
   "cell_type": "code",
   "execution_count": 9,
   "metadata": {},
   "outputs": [
    {
     "data": {
      "text/plain": [
       "array([[1, 1, 1, 1, 1, 1, 1, 1, 1, 1],\n",
       "       [1, 1, 1, 1, 1, 1, 1, 1, 1, 1],\n",
       "       [1, 1, 1, 1, 1, 1, 1, 1, 1, 1],\n",
       "       [1, 1, 1, 0, 0, 0, 0, 1, 1, 1],\n",
       "       [1, 1, 1, 0, 1, 1, 0, 1, 1, 1],\n",
       "       [1, 1, 1, 0, 1, 1, 0, 1, 1, 1],\n",
       "       [1, 1, 1, 0, 0, 0, 0, 1, 1, 1],\n",
       "       [1, 1, 1, 1, 1, 1, 1, 1, 1, 1],\n",
       "       [1, 1, 1, 1, 1, 1, 1, 1, 1, 1],\n",
       "       [1, 1, 1, 1, 1, 1, 1, 1, 1, 1]])"
      ]
     },
     "execution_count": 9,
     "metadata": {},
     "output_type": "execute_result"
    }
   ],
   "source": [
    "seqeval.draw_digit(best_ind_pheno_profile[99], ppg.LOW_RESOLUTION_IMG_SIZE)"
   ]
  },
  {
   "cell_type": "code",
   "execution_count": 10,
   "metadata": {},
   "outputs": [
    {
     "name": "stdout",
     "output_type": "stream",
     "text": [
      "digit 0 :n = 100  progress: 100.0%  [##################################################]      \n",
      "\n",
      "[[1 1 1 1 1 1 1 1 1 1]\n",
      " [1 1 1 1 1 1 1 1 1 1]\n",
      " [1 1 1 1 1 1 1 1 1 1]\n",
      " [1 1 1 0 0 0 0 1 1 1]\n",
      " [1 1 1 0 1 1 0 1 1 1]\n",
      " [1 1 1 0 1 1 0 1 1 1]\n",
      " [1 1 1 0 0 0 0 1 1 1]\n",
      " [1 1 1 1 1 1 1 1 1 1]\n",
      " [1 1 1 1 1 1 1 1 1 1]\n",
      " [1 1 1 1 1 1 1 1 1 1]]\n",
      "digit 1 :n = 100  progress: 100.0%  [##################################################]      \n",
      "\n",
      "[[1 1 1 1 1 1 1 1 1 1]\n",
      " [1 1 1 1 1 1 1 1 1 1]\n",
      " [1 1 1 1 1 0 1 1 1 1]\n",
      " [1 1 1 1 1 0 1 1 1 1]\n",
      " [1 1 1 1 1 0 1 1 1 1]\n",
      " [1 1 1 1 1 0 1 1 1 1]\n",
      " [1 1 1 1 1 0 1 1 1 1]\n",
      " [1 1 1 1 1 0 1 1 1 1]\n",
      " [1 1 1 1 1 0 1 1 1 1]\n",
      " [1 1 1 1 1 1 1 1 1 1]]\n",
      "digit 2 :n = 100  progress: 100.0%  [##################################################]      \n",
      "\n",
      "[[1 1 1 1 1 1 1 1 1 1]\n",
      " [1 1 1 1 0 0 0 0 1 1]\n",
      " [1 1 1 0 0 1 1 0 0 1]\n",
      " [1 1 1 0 1 1 1 0 0 1]\n",
      " [1 1 1 1 1 1 1 0 0 1]\n",
      " [1 1 1 1 1 1 0 0 1 1]\n",
      " [1 1 1 1 1 0 0 0 1 1]\n",
      " [1 1 1 0 0 0 0 0 0 0]\n",
      " [1 1 1 1 1 1 1 1 1 1]\n",
      " [1 1 1 1 1 1 1 1 1 1]]\n",
      "digit 3 :n = 100  progress: 100.0%  [##################################################]      \n",
      "\n",
      "[[1 1 1 1 1 1 1 1 1 1]\n",
      " [1 1 1 1 0 0 0 1 1 1]\n",
      " [1 1 1 0 1 1 0 0 1 1]\n",
      " [1 1 1 1 1 1 0 0 1 1]\n",
      " [1 1 1 1 1 1 0 0 1 1]\n",
      " [1 1 1 1 1 0 0 0 1 1]\n",
      " [1 1 1 1 1 1 1 0 1 1]\n",
      " [1 1 1 1 1 1 1 0 1 1]\n",
      " [1 1 1 0 1 1 1 0 1 1]\n",
      " [1 1 1 0 0 0 0 1 1 1]]\n",
      "digit 4 :n = 100  progress: 100.0%  [##################################################]      \n",
      "\n",
      "[[1 1 1 1 1 1 1 1 1 1]\n",
      " [1 1 1 0 1 1 1 1 1 1]\n",
      " [1 1 1 0 1 1 1 1 1 1]\n",
      " [1 1 0 1 1 1 1 1 1 1]\n",
      " [1 0 0 1 1 1 1 0 0 1]\n",
      " [1 0 0 0 0 0 0 0 1 1]\n",
      " [1 1 1 1 1 1 1 1 1 1]\n",
      " [1 1 1 1 1 1 1 1 1 1]\n",
      " [1 1 1 1 1 1 1 1 1 1]\n",
      " [1 1 1 1 1 1 1 1 1 1]]\n",
      "digit 5 :n = 100  progress: 100.0%  [##################################################]      \n",
      "\n",
      "[[1 1 1 1 1 1 1 1 1 1]\n",
      " [1 1 1 1 1 0 0 1 1 1]\n",
      " [1 1 1 0 0 0 1 1 1 1]\n",
      " [1 1 1 0 1 0 1 1 1 1]\n",
      " [1 1 1 0 0 0 0 1 1 1]\n",
      " [1 1 1 1 1 1 0 1 1 1]\n",
      " [1 1 1 1 1 0 0 1 1 1]\n",
      " [1 1 1 1 1 0 0 1 1 1]\n",
      " [1 1 1 0 0 0 1 1 1 1]\n",
      " [1 1 1 1 1 1 1 1 1 1]]\n",
      "digit 6 :n = 100  progress: 100.0%  [##################################################]      \n",
      "\n",
      "[[1 1 1 1 1 1 1 1 1 1]\n",
      " [1 1 1 1 1 0 0 1 1 1]\n",
      " [1 1 1 1 0 0 1 1 1 1]\n",
      " [1 1 1 0 1 1 1 1 1 1]\n",
      " [1 1 1 0 1 1 1 1 1 1]\n",
      " [1 1 1 0 0 0 0 0 1 1]\n",
      " [1 1 1 0 0 1 1 0 1 1]\n",
      " [1 1 1 1 0 0 0 0 1 1]\n",
      " [1 1 1 1 1 1 1 1 1 1]\n",
      " [1 1 1 1 1 1 1 1 1 1]]\n",
      "digit 7 :n = 100  progress: 100.0%  [##################################################]      \n",
      "\n",
      "[[1 1 1 1 1 1 1 1 1 1]\n",
      " [1 1 0 0 1 0 0 0 1 1]\n",
      " [1 1 1 1 0 1 0 0 1 1]\n",
      " [1 1 1 1 1 0 0 1 1 1]\n",
      " [1 1 1 1 1 0 0 1 1 1]\n",
      " [1 1 1 1 1 0 1 1 1 1]\n",
      " [1 1 1 1 0 0 1 1 1 1]\n",
      " [1 1 1 1 0 1 1 1 1 1]\n",
      " [1 1 1 0 1 1 1 1 1 1]\n",
      " [1 1 1 1 1 1 1 1 1 1]]\n",
      "digit 8 :n = 100  progress: 100.0%  [##################################################]      \n",
      "\n",
      "[[1 1 1 1 1 1 1 1 1 1]\n",
      " [1 1 0 0 0 0 0 1 1 1]\n",
      " [1 1 0 1 1 0 0 1 1 1]\n",
      " [1 1 0 0 0 0 1 1 1 1]\n",
      " [1 1 0 0 0 0 0 1 1 1]\n",
      " [1 1 0 1 1 1 0 0 0 1]\n",
      " [1 1 0 1 1 1 0 0 0 1]\n",
      " [1 1 1 0 0 0 0 0 1 1]\n",
      " [1 1 1 1 1 0 1 1 1 1]\n",
      " [1 1 1 1 1 1 1 1 1 1]]\n",
      "digit 9 :n = 100  progress: 100.0%  [##################################################]      \n",
      "\n",
      "[[1 1 1 1 1 1 1 1 1 1]\n",
      " [1 1 1 1 0 0 1 1 1 1]\n",
      " [1 1 1 0 1 0 0 1 1 1]\n",
      " [1 1 0 0 1 1 0 1 1 1]\n",
      " [1 1 0 0 0 0 0 0 1 1]\n",
      " [1 1 1 0 0 0 0 0 1 1]\n",
      " [1 1 1 1 1 1 0 0 1 1]\n",
      " [1 1 1 1 1 1 0 1 1 1]\n",
      " [1 1 1 0 0 0 0 1 1 1]\n",
      " [1 1 1 1 1 1 1 1 1 1]]\n"
     ]
    },
    {
     "data": {
      "image/png": "[encoded data removed]",
      "text/plain": [
       "<Figure size 864x720 with 20 Axes>"
      ]
     },
     "metadata": {
      "needs_background": "light"
     },
     "output_type": "display_data"
    }
   ],
   "source": [
    "plt.figure(figsize=(12,10))\n",
    "for i in range(ppg.NO_DIGITS):\n",
    "    ea.DIGIT=i\n",
    "    (generation_profile, \n",
    "    avg_fitness_profile, \n",
    "    best_fitness_profile, \n",
    "    best_ind_pheno_profile) = ea.train_evolve(mutation=ea.swap_mutation,\n",
    "                crossover=ea.edge_recombination,\n",
    "                parent_sel=ea.from_population_best_parents_select, \n",
    "                get_parents_pair_method=ea.get_parents_pair_duplocal,\n",
    "                population_sel=ea.best_population_select, \n",
    "                population_init=ea.population_init, \n",
    "                population_terminate=ea.population_terminate, \n",
    "                vertices=sequence_num,\n",
    "                desired_pheno=new_img,\n",
    "                fitness_func=ea.fitness_func,\n",
    "                geno2pheno=ea.geno2pheno)\n",
    "    plt.subplot(5,4,2*i+1)\n",
    "    plt.plot(generation_profile,avg_fitness_profile)\n",
    "    plt.ylim(0,210);\n",
    "    \n",
    "    plt.subplot(5,4,2*i+2)\n",
    "    plt.plot(generation_profile,best_fitness_profile)\n",
    "    \n",
    "    print('digit',ea.DIGIT,':\\n')\n",
    "    print(seqeval.draw_digit(best_ind_pheno_profile[99], ppg.LOW_RESOLUTION_IMG_SIZE))"
   ]
  },
  {
   "cell_type": "code",
   "execution_count": 11,
   "metadata": {},
   "outputs": [],
   "source": [
    "# hello = np.array(['a', 'b', 'c'])\n",
    "# world = np.array([1, 2])\n",
    "# hello[world]"
   ]
  },
  {
   "cell_type": "code",
   "execution_count": 12,
   "metadata": {},
   "outputs": [],
   "source": [
    "# for i in range(np.array([1, 2, 3, 4, 5]).shape[0]):\n",
    "#     print(i)"
   ]
  },
  {
   "cell_type": "code",
   "execution_count": 13,
   "metadata": {},
   "outputs": [],
   "source": [
    "# a= np.array([i for i in range(10)])\n",
    "# b= np.cumsum(a)\n",
    "# print(b)"
   ]
  },
  {
   "cell_type": "code",
   "execution_count": 14,
   "metadata": {},
   "outputs": [],
   "source": [
    "# a[a>5]"
   ]
  },
  {
   "cell_type": "code",
   "execution_count": 15,
   "metadata": {},
   "outputs": [],
   "source": [
    "# b[a>5]"
   ]
  },
  {
   "cell_type": "code",
   "execution_count": 16,
   "metadata": {},
   "outputs": [],
   "source": [
    "# b[b>5]"
   ]
  },
  {
   "cell_type": "code",
   "execution_count": 17,
   "metadata": {},
   "outputs": [],
   "source": [
    "# b[-1]"
   ]
  },
  {
   "cell_type": "code",
   "execution_count": 18,
   "metadata": {},
   "outputs": [],
   "source": [
    "# b[[1,4,3]]"
   ]
  },
  {
   "cell_type": "code",
   "execution_count": 19,
   "metadata": {},
   "outputs": [],
   "source": [
    "# list(b)"
   ]
  },
  {
   "cell_type": "code",
   "execution_count": 20,
   "metadata": {},
   "outputs": [],
   "source": [
    "# def swap1(a):\n",
    "#     a[0],a[1] = a[1],a[0]\n",
    "\n",
    "# a = [0, 1]\n",
    "# swap1(a)\n",
    "# print(a)"
   ]
  },
  {
   "cell_type": "code",
   "execution_count": 21,
   "metadata": {},
   "outputs": [],
   "source": [
    "# a[0:2]"
   ]
  },
  {
   "cell_type": "code",
   "execution_count": 22,
   "metadata": {},
   "outputs": [],
   "source": [
    "# a = [1, 2, 4, 5, 6, 7]\n",
    "# a[2:6][::-1]"
   ]
  },
  {
   "cell_type": "code",
   "execution_count": 23,
   "metadata": {},
   "outputs": [],
   "source": [
    "# a = [(1,2)]\n",
    "# (2, 1) in a"
   ]
  },
  {
   "cell_type": "code",
   "execution_count": 24,
   "metadata": {},
   "outputs": [],
   "source": [
    "# a = [1, 2, 3, 4, 5]\n",
    "# b = []\n",
    "# b.append(a)\n",
    "# b.append(a)\n",
    "# b"
   ]
  },
  {
   "cell_type": "code",
   "execution_count": 25,
   "metadata": {},
   "outputs": [],
   "source": [
    "# a= [1,2,3,4,5,6,7,8,9]\n",
    "# b = a\n",
    "# b[2:5] = [2222]\n",
    "# print(a)"
   ]
  },
  {
   "cell_type": "code",
   "execution_count": 26,
   "metadata": {},
   "outputs": [],
   "source": [
    "# a= [1,2,3,4,5,6,7,8,9]\n",
    "# b = a[:]\n",
    "# b[2:5] = [2222]\n",
    "# print(a)\n",
    "# print(b)"
   ]
  },
  {
   "cell_type": "code",
   "execution_count": 27,
   "metadata": {},
   "outputs": [],
   "source": [
    "# partially_mapped_crossover([list(range(1,10)),[9,3,7,8,2,6,5,1,4]],get_parents_pair_nodup)"
   ]
  },
  {
   "cell_type": "code",
   "execution_count": 28,
   "metadata": {},
   "outputs": [],
   "source": [
    "# np.array([-1]*8) + 1"
   ]
  },
  {
   "cell_type": "code",
   "execution_count": 29,
   "metadata": {},
   "outputs": [],
   "source": [
    "# chrom_size = 10\n",
    "# table = [[] for i in range(chrom_size)]\n",
    "# print(table)\n",
    "# table[1].append((2,False))\n",
    "# table[1].append((3,True))\n",
    "# print(table)"
   ]
  },
  {
   "cell_type": "code",
   "execution_count": 30,
   "metadata": {},
   "outputs": [],
   "source": [
    "# a = [(x, True) for x in range(10)]\n",
    "# a.remove((1, True))\n",
    "# print(a)\n",
    "# a.remove()"
   ]
  },
  {
   "cell_type": "code",
   "execution_count": 31,
   "metadata": {},
   "outputs": [],
   "source": [
    "# a = [[],[]]\n",
    "# a.empty()"
   ]
  },
  {
   "cell_type": "code",
   "execution_count": 32,
   "metadata": {},
   "outputs": [],
   "source": [
    "# random.choice([])"
   ]
  },
  {
   "cell_type": "code",
   "execution_count": 33,
   "metadata": {},
   "outputs": [],
   "source": [
    "# a = [1, 2, 4]\n",
    "# b = np.cumsum(a)\n",
    "# print(a)\n",
    "# print(b)\n",
    "# type(b)"
   ]
  },
  {
   "cell_type": "code",
   "execution_count": 34,
   "metadata": {},
   "outputs": [],
   "source": [
    "# for i in range(50):\n",
    "#     r =random.randint(0,10)\n",
    "#     print(r)"
   ]
  },
  {
   "cell_type": "code",
   "execution_count": null,
   "metadata": {},
   "outputs": [],
   "source": []
  },
  {
   "cell_type": "code",
   "execution_count": null,
   "metadata": {},
   "outputs": [],
   "source": []
  },
  {
   "cell_type": "code",
   "execution_count": null,
   "metadata": {},
   "outputs": [],
   "source": []
  },
  {
   "cell_type": "code",
   "execution_count": 35,
   "metadata": {},
   "outputs": [],
   "source": [
    "# print(f'hello %.2f%%'%10.234)"
   ]
  },
  {
   "cell_type": "code",
   "execution_count": 36,
   "metadata": {},
   "outputs": [],
   "source": [
    "# ll = [(5,[1,1,1,2]),(6,[1,1,1,2]),(1,[1,1,1,2]),(3,[1,1,1,2]),(2,[1,1,1,2])]\n",
    "# x = sorted(ll,reverse=True)[:3]"
   ]
  },
  {
   "cell_type": "code",
   "execution_count": 37,
   "metadata": {},
   "outputs": [],
   "source": [
    "# [y[1] for y in x]"
   ]
  },
  {
   "cell_type": "code",
   "execution_count": null,
   "metadata": {},
   "outputs": [],
   "source": []
  }
 ],
 "metadata": {
  "kernelspec": {
   "display_name": "Python 3 (ipykernel)",
   "language": "python",
   "name": "python3"
  },
  "language_info": {
   "codemirror_mode": {
    "name": "ipython",
    "version": 3
   },
   "file_extension": ".py",
   "mimetype": "text/x-python",
   "name": "python",
   "nbconvert_exporter": "python",
   "pygments_lexer": "ipython3",
   "version": "3.9.12"
  }
 },
 "nbformat": 4,
 "nbformat_minor": 2
}
