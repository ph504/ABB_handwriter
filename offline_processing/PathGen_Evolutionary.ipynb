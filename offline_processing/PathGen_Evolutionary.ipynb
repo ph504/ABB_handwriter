{
 "cells": [
  {
   "cell_type": "markdown",
   "metadata": {},
   "source": [
    "# Path pattern generation using an Evolutionary computing aproach\n",
    "\n",
    "in this module we will explore on how we can generate a valid sequence based on genetic and evolutionary computing."
   ]
  },
  {
   "cell_type": "markdown",
   "metadata": {},
   "source": [
    "## Libraries"
   ]
  },
  {
   "cell_type": "code",
   "execution_count": 2,
   "metadata": {},
   "outputs": [
    {
     "name": "stdout",
     "output_type": "stream",
     "text": [
      "/d/APh504/Bachelor/Semester 10/1.project/my_project/offline_processing\n"
     ]
    }
   ],
   "source": [
    "import random\n",
    "import heapq\n",
    "import numpy as np\n",
    "import cv2 as cv\n",
    "import ppg_init as ppg\n",
    "import seqeval"
   ]
  },
  {
   "cell_type": "markdown",
   "metadata": {},
   "source": [
    "## Fetch preprocessed data"
   ]
  },
  {
   "cell_type": "code",
   "execution_count": 2,
   "metadata": {},
   "outputs": [],
   "source": [
    "number_gray = np.zeros((ppg.NO_DIGITS, ppg.IMG_WIDTH ,ppg.IMG_HEIGHT))\n",
    "for i in range (ppg.NO_DIGITS):\n",
    "    number_image = cv.imread(ppg.IMAGE_PATH+' '+str(i)+' dilated.png')\n",
    "    number_gray[i] = cv.cvtColor(number_image, cv.COLOR_BGR2GRAY)"
   ]
  },
  {
   "cell_type": "markdown",
   "metadata": {},
   "source": [
    "## Sample black pixels\n",
    "\n",
    "there are two ways to sample the pixels. sampling based on their distribution, sampling them based on their sufficient black pixel in a subarea of the image and uniformly distribute them. here we try both and compare the results."
   ]
  },
  {
   "cell_type": "markdown",
   "metadata": {},
   "source": [
    "### Change resolution\n"
   ]
  },
  {
   "cell_type": "code",
   "execution_count": 3,
   "metadata": {},
   "outputs": [
    {
     "data": {
      "image/png": "[encoded data removed]",
      "text/plain": [
       "<Figure size 1080x432 with 10 Axes>"
      ]
     },
     "metadata": {
      "needs_background": "light"
     },
     "output_type": "display_data"
    }
   ],
   "source": [
    "stride = 30\n",
    "lrbp_threshold = 10 # low resolution black pixels threshold. \n",
    "# this is used when we want to count the number of the black pixels in the high resolution image\n",
    "# and decide whether to mark the corresponding pixel in low resolution image black.\n",
    "new_imgw = int(ppg.IMG_WIDTH/stride)\n",
    "new_imgh = int(ppg.IMG_HEIGHT/stride)\n",
    "new_img = np.ones((ppg.NO_DIGITS, new_imgw, new_imgh))*255\n",
    "new_img2 = np.ones((ppg.NO_DIGITS, new_imgw, new_imgh))*255\n",
    "# stride is always an odd number.\n",
    "\n",
    "for i in range(ppg.NO_DIGITS):\n",
    "    my_img = number_gray[i]\n",
    "    # jump a 3,3 square and check for any black pixel within the area.\n",
    "\n",
    "    for x in range(0, len(my_img), stride):\n",
    "        for y in range(0, len(my_img[x]), stride):\n",
    "            # stride is always an odd number.\n",
    "            offset = int((stride-1)/2)\n",
    "            new_x = int(x/stride)\n",
    "            new_y = int(y/stride)\n",
    "            black_pxl_vec = my_img[x-offset:x+offset+1,y-offset:y+offset+1]<50\n",
    "            black_pxl_num = np.sum(black_pxl_vec)\n",
    "#             print(has_black_pxl, end=' ')\n",
    "            if(black_pxl_num>lrbp_threshold): # has at least one black pixel\n",
    "                new_img[i,new_x,new_y] = 0\n",
    "#         print(' ')\n",
    "#     print('====================')\n",
    "ppg.plot_digits(new_img)"
   ]
  },
  {
   "cell_type": "markdown",
   "metadata": {},
   "source": [
    "## Initialize the sequence of the black pixels"
   ]
  },
  {
   "cell_type": "code",
   "execution_count": 4,
   "metadata": {},
   "outputs": [
    {
     "name": "stdout",
     "output_type": "stream",
     "text": [
      "black pixels list for number  0 :\n",
      "[(3, 3), (3, 4), (3, 5), (3, 6), (4, 3), (4, 6), (5, 3), (5, 6), (6, 3), (6, 4), (6, 5), (6, 6)] \n",
      "\n",
      "black pixels list for number  1 :\n",
      "[(2, 5), (3, 5), (4, 5), (5, 5), (6, 5), (7, 5), (8, 5)] \n",
      "\n",
      "black pixels list for number  2 :\n",
      "[(1, 4), (1, 5), (1, 6), (1, 7), (2, 3), (2, 4), (2, 7), (2, 8), (3, 3), (3, 8), (4, 7), (5, 6), (5, 7), (6, 5), (6, 6), (7, 3), (7, 4), (7, 5), (7, 6), (7, 7), (7, 8), (7, 9)] \n",
      "\n",
      "black pixels list for number  3 :\n",
      "[(1, 4), (1, 5), (1, 6), (2, 3), (2, 7), (3, 7), (4, 6), (5, 5), (5, 6), (5, 7), (6, 7), (7, 7), (8, 3), (8, 7), (9, 3), (9, 4), (9, 5), (9, 6)] \n",
      "\n",
      "black pixels list for number  4 :\n",
      "[(1, 3), (2, 3), (3, 2), (4, 1), (4, 2), (4, 7), (4, 8), (5, 1), (5, 2), (5, 3), (5, 4), (5, 5), (5, 6), (5, 7)] \n",
      "\n",
      "black pixels list for number  5 :\n",
      "[(1, 5), (1, 6), (2, 3), (2, 4), (2, 5), (3, 3), (4, 3), (4, 4), (4, 5), (4, 6), (5, 6), (6, 6), (7, 5), (7, 6), (8, 3), (8, 4), (8, 5)] \n",
      "\n",
      "black pixels list for number  6 :\n",
      "[(1, 5), (1, 6), (2, 4), (2, 5), (3, 3), (4, 3), (5, 3), (5, 4), (5, 5), (5, 6), (5, 7), (6, 3), (6, 4), (6, 7), (7, 4), (7, 5), (7, 6), (7, 7)] \n",
      "\n",
      "black pixels list for number  7 :\n",
      "[(1, 2), (1, 3), (1, 5), (1, 6), (1, 7), (2, 4), (2, 6), (2, 7), (3, 6), (4, 5), (5, 5), (6, 4), (7, 4), (8, 3)] \n",
      "\n",
      "black pixels list for number  8 :\n",
      "[(1, 2), (1, 3), (1, 4), (1, 5), (1, 6), (2, 2), (2, 5), (2, 6), (3, 2), (3, 3), (3, 4), (4, 3), (4, 4), (4, 5), (4, 6), (5, 2), (5, 6), (5, 7), (5, 8), (6, 2), (6, 8), (7, 3), (7, 4), (7, 5), (7, 6), (7, 7), (8, 5)] \n",
      "\n",
      "black pixels list for number  9 :\n",
      "[(1, 4), (1, 5), (2, 3), (2, 5), (2, 6), (3, 2), (3, 6), (4, 2), (4, 3), (4, 5), (4, 6), (4, 7), (5, 3), (5, 4), (5, 5), (5, 7), (6, 7), (7, 6), (8, 3), (8, 4), (8, 5), (8, 6)] \n",
      "\n",
      "[[(3, 3), (3, 4), (3, 5), (3, 6), (4, 3), (4, 6), (5, 3), (5, 6), (6, 3), (6, 4), (6, 5), (6, 6)], [(2, 5), (3, 5), (4, 5), (5, 5), (6, 5), (7, 5), (8, 5)], [(1, 4), (1, 5), (1, 6), (1, 7), (2, 3), (2, 4), (2, 7), (2, 8), (3, 3), (3, 8), (4, 7), (5, 6), (5, 7), (6, 5), (6, 6), (7, 3), (7, 4), (7, 5), (7, 6), (7, 7), (7, 8), (7, 9)], [(1, 4), (1, 5), (1, 6), (2, 3), (2, 7), (3, 7), (4, 6), (5, 5), (5, 6), (5, 7), (6, 7), (7, 7), (8, 3), (8, 7), (9, 3), (9, 4), (9, 5), (9, 6)], [(1, 3), (2, 3), (3, 2), (4, 1), (4, 2), (4, 7), (4, 8), (5, 1), (5, 2), (5, 3), (5, 4), (5, 5), (5, 6), (5, 7)], [(1, 5), (1, 6), (2, 3), (2, 4), (2, 5), (3, 3), (4, 3), (4, 4), (4, 5), (4, 6), (5, 6), (6, 6), (7, 5), (7, 6), (8, 3), (8, 4), (8, 5)], [(1, 5), (1, 6), (2, 4), (2, 5), (3, 3), (4, 3), (5, 3), (5, 4), (5, 5), (5, 6), (5, 7), (6, 3), (6, 4), (6, 7), (7, 4), (7, 5), (7, 6), (7, 7)], [(1, 2), (1, 3), (1, 5), (1, 6), (1, 7), (2, 4), (2, 6), (2, 7), (3, 6), (4, 5), (5, 5), (6, 4), (7, 4), (8, 3)], [(1, 2), (1, 3), (1, 4), (1, 5), (1, 6), (2, 2), (2, 5), (2, 6), (3, 2), (3, 3), (3, 4), (4, 3), (4, 4), (4, 5), (4, 6), (5, 2), (5, 6), (5, 7), (5, 8), (6, 2), (6, 8), (7, 3), (7, 4), (7, 5), (7, 6), (7, 7), (8, 5)], [(1, 4), (1, 5), (2, 3), (2, 5), (2, 6), (3, 2), (3, 6), (4, 2), (4, 3), (4, 5), (4, 6), (4, 7), (5, 3), (5, 4), (5, 5), (5, 7), (6, 7), (7, 6), (8, 3), (8, 4), (8, 5), (8, 6)]]\n"
     ]
    }
   ],
   "source": [
    "sequence_num = []\n",
    "for digit in range(10):\n",
    "    sequence = []\n",
    "    for row in range(len(new_img[digit])):\n",
    "        for col in range(len(new_img[digit, row])):\n",
    "            if new_img[digit, row, col]==0:\n",
    "                sequence.append((row, col))\n",
    "    sequence_num.append(sequence)\n",
    "    print('black pixels list for number ', digit, ':')\n",
    "    print(sequence, '\\n')\n",
    "print(sequence_num)"
   ]
  },
  {
   "cell_type": "markdown",
   "metadata": {},
   "source": [
    "## Configurations, Parameters and Constants"
   ]
  },
  {
   "cell_type": "code",
   "execution_count": 5,
   "metadata": {},
   "outputs": [],
   "source": [
    "P_MUTATION = 0.8\n",
    "P_CROSSOVER = 1.0\n",
    "POPULATION_SIZE = 100\n",
    "\n",
    "DIGIT = 0"
   ]
  },
  {
   "cell_type": "markdown",
   "metadata": {},
   "source": [
    "## Genetic algorithm general model template"
   ]
  },
  {
   "cell_type": "code",
   "execution_count": 6,
   "metadata": {},
   "outputs": [],
   "source": [
    "# genetic algorithm general model template\n",
    "def train_evolve(mutation,\n",
    "                 crossover,\n",
    "                 parent_sel, \n",
    "                 population_sel, \n",
    "                 population_init, \n",
    "                 population_terminate, \n",
    "                 fitness_func, \n",
    "                 geno2pheno,\n",
    "                 get_parents_pair_method):\n",
    "    population_heap = []\n",
    "    population = population_init()\n",
    "    generation = 0\n",
    "    fitness_func.count = 0\n",
    "    avg_fitness_profile = []\n",
    "    best_fitness_profie = []\n",
    "    while(population_terminate(population_heap, fitnessfunc.count, generation)):\n",
    "        generation_fitness_profile = []\n",
    "        best_fitness = 0\n",
    "        for individual in population:\n",
    "            ind_phenotype = geno2pheno(individual)\n",
    "            fitness = fitness_func(ind_phenotype)\n",
    "            generation_fitness_profile.append(fitness)\n",
    "            if(fitness > best_fitness):\n",
    "                best_fitness = fitness\n",
    "            heappush(population_heap, (1/fitness, individual))\n",
    "            \n",
    "        selected_parents = parent_sel(population_heap)\n",
    "        children = crossover(selected_parents, get_parents_pair_method)\n",
    "        for child in children:\n",
    "            mutation(child)\n",
    "            child_phenotype = geno2pheno(individual)\n",
    "            fitness = fitness_func(child_phenotype)\n",
    "            if(fitness > best_fitness):\n",
    "                best_fitness = fitness\n",
    "            heappush(population_heap, (1/fitness, child))\n",
    "        \n",
    "        fitness_avg = np.average(generation_fitness_profile)\n",
    "        avg_fitness_profile.append(fitness_avg)\n",
    "        best_fitness_profile.append(best_fitness)\n",
    "        generation_profile = list(range(generation))\n",
    "        population = population_sel(population_heapm, POPULATION_SIZE)\n",
    "        generation +=1\n",
    "        # plot the diagrams and report"
   ]
  },
  {
   "cell_type": "markdown",
   "metadata": {},
   "source": [
    "## Functions and behaviors"
   ]
  },
  {
   "cell_type": "markdown",
   "metadata": {},
   "source": [
    "### Mutations"
   ]
  },
  {
   "cell_type": "code",
   "execution_count": 7,
   "metadata": {},
   "outputs": [],
   "source": [
    "# mutations -----------------------------------\n",
    "def insert_mutation(child):\n",
    "    if(random.random() < P_MUTATION):\n",
    "        left = random.randint(0,len(child)-1)\n",
    "        right = random.randint(0,len(child)-1)\n",
    "        while(left==right or right==left+1 or left==right+1):\n",
    "            right = random.randint(0,len(child)-1)\n",
    "        if(left>right):\n",
    "            left,right = right,left\n",
    "        child[left+1],child[right] = child[right],child[left+1]\n",
    "    \n",
    "def scramble_mutation(child):\n",
    "    if(random.random() < P_MUTATION):\n",
    "        left = random.randint(0,len(child)-1)\n",
    "        right = random.randint(0,len(child)-1)\n",
    "        while(left==right):\n",
    "            right = random.randint(0,len(child)-1)\n",
    "        if(left > right):\n",
    "            left,right = right,left\n",
    "        random.shuffle(child[left:right+1])\n",
    "\n",
    "def inversion_mutation(child):\n",
    "    if(random.random() < P_MUTATION):\n",
    "        left = random.randint(0,len(child)-1)\n",
    "        right = random.randint(0,len(child)-1)\n",
    "        while(left==right):\n",
    "            right = random.randint(0,len(child)-1)\n",
    "        if(left > right):\n",
    "            left,right = right,left\n",
    "        child[left:right+1] = child[left:right+1][::-1]\n",
    "        \n",
    "def swap_mutation(child):\n",
    "    if(random.random() < P_MUTATION):\n",
    "        left = random.randint(0,len(child)-1)\n",
    "        right = random.randint(0,len(child)-1)\n",
    "        while(left==right):\n",
    "            right = random.randint(0,len(child)-1)\n",
    "        child[left],child[right] = child[right],child[left]   \n",
    "# mutations -----------------------------------"
   ]
  },
  {
   "cell_type": "markdown",
   "metadata": {},
   "source": [
    "### Recombinations"
   ]
  },
  {
   "cell_type": "code",
   "execution_count": 8,
   "metadata": {},
   "outputs": [],
   "source": [
    "# duplicates are allowed, duplicate in one pair is also allowed.\n",
    "def get_parents_pair_duplocal(sel_parents):\n",
    "    parents_pair = list(np.empty(len(sel_parents)//2))\n",
    "    for ctr in range(len(parents_pair)):\n",
    "        p_index1 = random.randint(0,len(sel_parents)-1)\n",
    "        p_index2 = random.randint(0,len(sel_parents)-1)\n",
    "        parents_pair[ctr] = (sel_parents[p_index1], sel_parents[p_index2])\n",
    "    return parents_pair\n",
    "        \n",
    "# duplicates are allowed in pairs\n",
    "def get_parents_pair_dupglobal(sel_parents):\n",
    "    parents_pair = list(np.empty(len(sel_parents)//2))\n",
    "    for ctr in range(len(parents_pair)):\n",
    "        p_index1 = random.randint(0,len(sel_parents)-1)\n",
    "        p_index2 = random.randint(0,len(sel_parents)-1)\n",
    "        while(p_index1==p_index2):\n",
    "            p_index2 = random.randint(0,len(sel_parents)-1)\n",
    "        parents_pair[ctr] = (sel_parents[p_index1], sel_parents[p_index2])\n",
    "    return parents_pair\n",
    "        \n",
    "# no duplicates are allowed in pairs\n",
    "def get_parents_pair_nodup(sel_parents):\n",
    "    parents_pair = list(np.empty(len(sel_parents)//2))\n",
    "    selected = list(np.empty(len(sel_parents)))\n",
    "    for ctr in range(len(parents_pair)):\n",
    "        p_index1 = random.randint(0,len(sel_parents)-1)\n",
    "        while(p_index1 in selected):\n",
    "            p_index1 = random.randint(0,len(sel_parents)-1)\n",
    "        \n",
    "        selected[ctr*2] = p_index1\n",
    "        \n",
    "        p_index2 = random.randint(0,len(sel_parents)-1)\n",
    "        while(p_index2 in selected):\n",
    "            p_index2 = random.randint(0,len(sel_parents)-1)\n",
    "        \n",
    "        selected[ctr*2+1] = p_index2\n",
    "        parents_pair[ctr] = (sel_parents[p_index1], sel_parents[p_index2])\n",
    "    return parents_pair\n",
    "        \n",
    "# parents are allowed in multiple pairs but no pair is repeated\n",
    "def get_parents_pair_uniqpair(sel_parents):\n",
    "    parents_pair = list(np.empty(len(sel_parents)//2))\n",
    "    index_pairs = list(np.empty(len(sel_parents)//2))\n",
    "    for ctr in range(len(parents_pair)):\n",
    "        p_index1 = random.randint(0,len(sel_parents)-1)\n",
    "        p_index2 = random.randint(0,len(sel_parents)-1)\n",
    "        while(p_index2==p_index1):\n",
    "            p_index2 = random.randint(0,len(sel_parents)-1)\n",
    "        \n",
    "        while((p_index1, p_index2) in index_pairs or (p_index1, p_index2) in index_pairs):\n",
    "            p_index1 = random.randint(0,len(sel_parents)-1)\n",
    "            p_index2 = random.randint(0,len(sel_parents)-1)\n",
    "            while(p_index2==p_index1):\n",
    "                p_index2 = random.randint(0,len(sel_parents)-1)\n",
    "            \n",
    "        index_pairs[ctr] = (p_index1, p_index2)\n",
    "        parents_pair[ctr] = (sel_parents[p_index1], sel_parents[p_index2])\n",
    "    return parents_pair\n",
    "\n",
    "# crossovers ----------------------------------\n",
    "def order1_crossover(sel_parents, get_parents_pair_method):\n",
    "    parents_pairs = get_parents_pair_method(sel_parents)\n",
    "    children = []\n",
    "    for pp in parents_pairs:\n",
    "        if(random.random()<P_CROSSOVER):\n",
    "            parent1 = pp[0]\n",
    "            parent2 = pp[1]\n",
    "            child1 = parent1.copy()\n",
    "            child2 = parent2.copy()\n",
    "            chrom_size = len(parent1)\n",
    "            # taking a random sublist as the cut in the crossover\n",
    "            left = random.randint(0, chrom_size-1)\n",
    "            right = random.randint(0, chrom_size-1)\n",
    "            while(left==right):\n",
    "                right = random.randint(0, chrom_size-1)\n",
    "            if(left>right):\n",
    "                left,right = right,left\n",
    "            child1[left:right+1] = parent1[left:right+1]\n",
    "            child2[left:right+1] = parent2[left:right+1]\n",
    "            ptr1 = right+1\n",
    "            ptr2 = right+1\n",
    "            for i in range(right+1, len(parent1)):\n",
    "                if(parent2[i] not in child1[left:right+1]):\n",
    "                    child1[p] = parent2[i]\n",
    "                    ptr1+=1\n",
    "                    ptr1%=chrom_size\n",
    "\n",
    "                if(parent1[i] not in child2[left:right+1]):\n",
    "                    child2[p] = parent2[i]\n",
    "                    ptr2+=1\n",
    "                    ptr2%=chrom_size\n",
    "\n",
    "            for i in range(0, right+1):\n",
    "                if(parent2[i] not in child1[left:right+1]):\n",
    "                    child1[p] = parent2[i]\n",
    "                    ptr1+=1\n",
    "                    ptr1%=chrom_size\n",
    "\n",
    "                if(parent1[i] not in child2[left:right+1]):\n",
    "                    child2[p] = parent2[i]\n",
    "                    ptr2+=1\n",
    "                    ptr2%=chrom_size\n",
    "            children.append(child1)\n",
    "            children.append(child2)\n",
    "    return children\n",
    "\n",
    "def partially_mapped_crossover(sel_parents, get_parents_pair_method):\n",
    "    parents_pairs = get_parents_pair_method(sel_parents)\n",
    "    children = []\n",
    "    for pp in parents_pairs:\n",
    "        if(random.random()<P_CROSSOVER):\n",
    "            parent1 = pp[0]\n",
    "            parent2 = pp[1]\n",
    "            child1 = parent2.copy()\n",
    "            child2 = parent1.copy()\n",
    "            chrom_size = len(parent1)\n",
    "            # taking a random sublist as the cut in the crossover\n",
    "            left = random.randint(0, chrom_size-1)\n",
    "            right = random.randint(0, chrom_size-1)\n",
    "            while(left==right):\n",
    "                right = random.randint(0, chrom_size-1)\n",
    "            if(left>right):\n",
    "                left,right = right,left\n",
    "\n",
    "            child1[left:right+1] = parent1[left:right+1]\n",
    "            child2[left:right+1] = parent2[left:right+1]\n",
    "            for i in range(left, right+1):\n",
    "                if(parent2[i] not in child1[left:right+1]):\n",
    "                    j1 = i\n",
    "                    while(j1<=right and j1>=left):\n",
    "                        j1 = parent2.index(parent1[j1])\n",
    "\n",
    "                    child1[j1] = parent2[i]\n",
    "\n",
    "                if(parent1[i] not in child2[left:right+1]):\n",
    "                    j2 = i\n",
    "                    while(j2<=right and j2>=left):\n",
    "                        j2 = parent1.index(parent2[j2])\n",
    "\n",
    "                    child2[j2] = parent1[i]\n",
    "\n",
    "            children.append(child1)\n",
    "            children.append(child2)\n",
    "        \n",
    "    return children\n",
    "\n",
    "def cycle_crossover(sel_parents, get_parents_pair_method):\n",
    "    parents_pairs = get_parents_pair_method(sel_parents)\n",
    "    children = []\n",
    "    for pp in parents_pairs:\n",
    "        if(random.random()<P_CROSSOVER):\n",
    "            parent1 = np.array(pp[0])\n",
    "            parent2 = np.array(pp[1])\n",
    "            child1 = np.ones(parent1.shape)*-1\n",
    "            child2 = np.ones(parent1.shape)*-1\n",
    "            cycles = []\n",
    "            visited = []\n",
    "            for i in range(parent1.shape[0]):\n",
    "                cycle = []\n",
    "                if(i not in visited):\n",
    "                    cycle.append(i)\n",
    "                    visited.append(i)\n",
    "                    j = np.where(parent1==parent2[i])\n",
    "                    while(j!=i):\n",
    "                        cycle.append(j)\n",
    "                        visited.append(j)\n",
    "                        j = np.where(parent1==parent2[j])\n",
    "                    cycles.append(cycle)\n",
    "\n",
    "            turn = 1\n",
    "            for cycle in cycles:\n",
    "                if(turn>0):   \n",
    "                    child1[cycle] = parent1[cycle]\n",
    "                    child2[cycle] = parent2[cycle]\n",
    "                else:\n",
    "                    child1[cycle] = parent2[cycle]\n",
    "                    child2[cycle] = parent1[cycle]\n",
    "                turn*=-1\n",
    "\n",
    "            children.append(child1)\n",
    "            children.append(child2)\n",
    "    return children\n",
    "\n",
    "# -------------------------- edge recombination\n",
    "def build_common_edge_table(p1, p2):\n",
    "    table = [[] for i in range(chrom_size)]\n",
    "    for i in range(chrom_size):\n",
    "\n",
    "        p2i = p2.index(p1[i])\n",
    "        n1 = [p1[i-1], p1[i+1]]\n",
    "        n2 = [p2[p2i-1], p2[p2i+1]]\n",
    "        for n in n2:\n",
    "            if(n in n1):\n",
    "                table[p1[i]].append((n, True))\n",
    "            else:\n",
    "                table[p1[i]].append((n, False))\n",
    "        for n in n1:\n",
    "            if(n not in n2):\n",
    "                table[p1[i]].append((n, False))\n",
    "    return table\n",
    "def build_child_edge_recom(parent, child, input_table):\n",
    "    table = input_table.copy()\n",
    "    current_index = random.randint(0,chrom_size-1)\n",
    "    candidate_n = parent[current_index]\n",
    "    choices = [x for x in range(chrom_size)]\n",
    "    # build this procedure for every allel.\n",
    "    for i in range(chrom_size):\n",
    "        choices.remove(candidate_n)\n",
    "        child[current_index] = candidate_n\n",
    "        candidate_list_length = len(table[candidate_n])\n",
    "        if(candidate_list_length==0 and len(choices)>0):\n",
    "            candidate_n = random.choice(choices)\n",
    "        else:\n",
    "            # random initialization of candidate_n \n",
    "            # e.g. the first element in the table list for current element.\n",
    "            candidate_n = table[child[current_index]][0][0]\n",
    "            # having the shortest list of neighbours in the table is the second priority.\n",
    "            shortest_list_len = len(table[candidate_n])\n",
    "            # common edge has a higher priority of being the next candidate.\n",
    "            found_common_edge = False\n",
    "            for n in table[child[current_index]]:\n",
    "                if((n, True) in table[child[current_index]]):\n",
    "                    table[child[current_index]].remove((n,True))\n",
    "                    candidate_n = n\n",
    "                    found_common_edge = True\n",
    "                else:\n",
    "                    table[child[current_index]].remove((n,False))\n",
    "\n",
    "                # we still have to remove current element from all the neighbours' lists.\n",
    "                # hence we can't break.\n",
    "                if(not found_common_edge):\n",
    "                    newn_list_len = len(table[n])\n",
    "                    if(shortest_list_len > newn_list_len):\n",
    "                        candidate_n = n\n",
    "                        shortest_list_len = newn_list_len\n",
    "\n",
    "        current_index += 1\n",
    "        current_index %= chrom_size\n",
    "    return child\n",
    "def edge_recombination(sel_parents, get_parents_pair_method):\n",
    "    parents_pairs = get_parents_pair_method(sel_parents)\n",
    "    # each pallel has two neighbours in each chromosome,\n",
    "    # so if we track a list of neighbours from the pair\n",
    "    # parents, we will see some neighbours are common and thus \n",
    "    # repeated. we show these neighours with a plus or with a \n",
    "    # boolean value paired together with the neighbour value itself.\n",
    "    children = []\n",
    "    for pp in parents_pairs:\n",
    "        if(random.random()<P_CROSSOVER):\n",
    "            parent1 = pp[0]\n",
    "            parent2 = pp[1]\n",
    "            chrom_size = len(parent1)\n",
    "            child1 = [-1]*chrom_size\n",
    "            child2 = [-1]*chrom_size\n",
    "\n",
    "            table = build_common_edge_table(parent1, parent2)\n",
    "\n",
    "            child1 = build_child_edge_recom(parent1, child1, table)\n",
    "            child2 = build_child_edge_recom(parent2, child2, table)\n",
    "\n",
    "            children.append(child1)\n",
    "            children.append(child2)\n",
    "        \n",
    "    return children\n",
    "# crossovers ----------------------------------"
   ]
  },
  {
   "cell_type": "markdown",
   "metadata": {},
   "source": [
    "### Selections(SSGA)\n",
    "these are for SSGA or steady-state genetic algorithms."
   ]
  },
  {
   "cell_type": "markdown",
   "metadata": {},
   "source": [
    "#### Parent Selection"
   ]
  },
  {
   "cell_type": "code",
   "execution_count": 9,
   "metadata": {},
   "outputs": [],
   "source": [
    "# 10 best inidividuals\n",
    "def from_population_best_parents_select(population, sample_size=20, select_size=10, duplicate_allowed=False):\n",
    "    return best_population_select(population, select_size)\n",
    "\n",
    "# of 20 best inidividuals random select 10\n",
    "def from_best_random_parents_select(population, sample_size=20, select_size=10, duplicate_allowed=False):\n",
    "    best = best_population_select(population, sample_size)\n",
    "    if(not duplicates_allowed):\n",
    "        return random.sample(best, select_size)\n",
    "    else:\n",
    "        rand_sel = []\n",
    "        for ctr in range(select_size):\n",
    "            r = random.choice(best)\n",
    "            rand_sel.append(r)\n",
    "        \n",
    "        return rand_sel\n",
    "\n",
    "# of 20 random inidividuals select the best 10\n",
    "def from_sample_best_parents_select(population, sample_size=20, select_size=10, duplicate_allowed=True):\n",
    "    rand_samps = []\n",
    "    if(not duplicate_allowed):\n",
    "        # select 20 random samples from the population\n",
    "        rand_samps = random.sample(population, sample_size)\n",
    "    \n",
    "    else: # duplicate allowed in the samples\n",
    "        # select 20 random samples from the population\n",
    "        for ctr in range(sample_size):\n",
    "            r = random.choice(population)\n",
    "            rand_samps.append(r)\n",
    "            \n",
    "    selected = sorted(rand_samps, reverse=True)[:select_size]\n",
    "    selected_raw = [x[1] for x in selected]\n",
    "    return selected_raw\n",
    "\n",
    "# random 10 individuals but individuals with better fitness have higher chances of being selected\n",
    "def fitness_porportionate_parent_select(population, sample_size=20, select_size=10, duplicate_allowed=True):\n",
    "    return fitness_porportionate_select(population, select_size, duplicate_allowed)\n",
    "\n",
    "# all the population is selected.\n",
    "def all_parents_select(population, sample_size=20, select_size=POPULATION_SIZE):\n",
    "    return [x[1] for x in population]"
   ]
  },
  {
   "cell_type": "markdown",
   "metadata": {},
   "source": [
    "#### Survival Selection"
   ]
  },
  {
   "cell_type": "code",
   "execution_count": 10,
   "metadata": {},
   "outputs": [],
   "source": [
    "# eliminate random individuals\n",
    "def random_population_select(population, select_size=POPULATION_SIZE, duplicate_allowed=True):\n",
    "    selected = []\n",
    "    if(not duplicate_allowed):\n",
    "        selected = random.sample(population, select_size)\n",
    "    else:\n",
    "        for ctr in range(select_size):\n",
    "            r = random.choice(population)\n",
    "            selected.append(r)\n",
    "    # remove tuple from the list:\n",
    "    # selected = list(map(lambda x: x[0], selected))\n",
    "    selected_raw = [x[1] for x in selected]\n",
    "    return selected_raw\n",
    "\n",
    "# eliminate worst fitted individuals\n",
    "def best_population_select(population, select_size=POPULATION_SIZE, duplicate_allowed=True):\n",
    "    selected = sorted(population, reverse=True)[:select_size]\n",
    "    # remove tuple from the list:\n",
    "    # selected = list(map(lambda x: x[0], selected))\n",
    "    selected_raw = [x[1] for x in selected]\n",
    "    return selected_raw\n",
    "\n",
    "def cumulative_based_random_list(cdf, select_size, duplicate_allowed):\n",
    "    selected = np.array([-1]*select_size)\n",
    "    for ctr in range(select_size):\n",
    "        selecting = -1\n",
    "        flag = True\n",
    "        while((selecting in selected) and flag):\n",
    "            r = random.random()*cdf[-1]\n",
    "            if(r<cdf[0] and r>=0): # 0<=r<c[0]\n",
    "                selected[ctr] = 0\n",
    "            else:\n",
    "                for i in range(1, len(cdf)):\n",
    "                    if(r<cdf[i] and r>=cdf[i-1]):\n",
    "                        selected[ctr] = i\n",
    "                        break\n",
    "            flag = not duplicate_allowed\n",
    "        selected[ctr] = selecting\n",
    "    return selected\n",
    "\n",
    "# the worse fitness value the higher chances of getting eliminated\n",
    "def fitness_porportionate_select(population, select_size=POPULATION_SIZE, duplicate_allowed=True):\n",
    "    fitness_list = np.array([x[0] for x in population])\n",
    "    individual_list = np.array([x[1] for x in population])\n",
    "    cumulative_fitness = list(np.cumsum(fitness_list))\n",
    "    selected = cumulative_based_random_list(cumulative_fitness, select_size, duplicate_allowed)\n",
    "    return list(individual_list[selected])"
   ]
  },
  {
   "cell_type": "markdown",
   "metadata": {},
   "source": [
    "##### ranked based selection\n",
    "with linear rank probability\n",
    "$$\\frac{(2-s)}{\\mu} + \\frac{(2 i (s-1)}{\\mu (\\mu - 1)}$$"
   ]
  },
  {
   "cell_type": "code",
   "execution_count": null,
   "metadata": {},
   "outputs": [],
   "source": [
    "def probability_linear_rank(rank, m):\n",
    "    parameter_s = linear_ranked_based_select.s\n",
    "    return ((2-parameter_s)/m) + ((2*rank*(parameter_s-1))/(m*(m-1)))\n",
    "# the worse rank value the higher chances of getting eliminated\n",
    "def linear_ranked_based_select(population, select_size=POPULATION_SIZE, duplicate_allowed=True):\n",
    "    rank_list = sorted(population)[:select_size]\n",
    "    individual_array = np.array([x[1] for x in population])\n",
    "    rank_based_list = [(i, rank_list[i][1]) for i in range(select_size)]\n",
    "    # selected = list(map(lambda x: x[0], selected))\n",
    "    p_lin_ranking = list(map(lambda x: probability_linear_rank(x[0], select_size), rank_based_list))\n",
    "    cdf_lin_ranking = list(np.cumsum(p_lin_ranking))\n",
    "    select = cumulative_based_random_list(cdf_lin_ranking, select_size, duplicate_allowed)\n",
    "    return list(individual_array[selected])\n",
    "\n",
    "linear_ranked_based_select.s = 1.5\n",
    "# 1 < s <=2\n",
    "\n",
    "def probability_exp_rank(rank):\n",
    "    return 1 - exp(-rank)\n",
    "def exponential_ranked_based_select(population, select_size=POPULATION_SIZE, duplicate_allowed=True):\n",
    "    rank_list = sorted(population)[:select_size]\n",
    "    individual_array = np.array([x[1] for x in population])\n",
    "    rank_based_list = [(i, rank_list[i][1]) for i in range(select_size)]\n",
    "    # selected = list(map(lambda x: x[0], selected))\n",
    "    p_exp_ranking = list(map(lambda x: probability_exp_rank(x[0]), rank_based_list))\n",
    "    cdf_exp_ranking = list(np.cumsum(p_exp_ranking))\n",
    "    select = cumulative_based_random_list(cdf_exp_ranking, select_size, duplicate_allowed)\n",
    "    return list(individual_array[selected])"
   ]
  },
  {
   "cell_type": "markdown",
   "metadata": {},
   "source": [
    "### MISC and population related"
   ]
  },
  {
   "cell_type": "code",
   "execution_count": 11,
   "metadata": {},
   "outputs": [],
   "source": [
    "# random individual initializing\n",
    "def population_init():\n",
    "    population = []\n",
    "    for i in range(POPULATION_SIZE):\n",
    "        std_ind = list(range(len(sequence_num[DIGIT])))\n",
    "        individual = random.shuffle(std_ind)\n",
    "        population.append(individual)\n",
    "    return population\n",
    "\n",
    "# the termination can be based on:\n",
    "# 1. population or the average fitness\n",
    "# 2. fitness evaluations\n",
    "# 3. generation number\n",
    "def population_terminate(population, evaluation_counter, generation):\n",
    "    return generation<1000\n",
    "\n",
    "def geno2pheno(genotype):\n",
    "    phenotype = []\n",
    "    for order in genotype:\n",
    "        phenotype.append(sequence_num[DIGIT, order])\n",
    "    return phenotype\n",
    "        \n",
    "def fitness_func(individual):\n",
    "    fitness_func.count +=1\n",
    "    mse = seqeval.seqeval_MSE(individual, ppg.LOW_RESOLUTION_IMG_SIZE, new_img[DIGIT])\n",
    "    fitness = 1/mse\n",
    "    return fitness"
   ]
  },
  {
   "cell_type": "markdown",
   "metadata": {},
   "source": [
    "## Training path generating"
   ]
  },
  {
   "cell_type": "markdown",
   "metadata": {},
   "source": [
    "### Training for separate digits"
   ]
  },
  {
   "cell_type": "code",
   "execution_count": null,
   "metadata": {},
   "outputs": [],
   "source": []
  },
  {
   "cell_type": "markdown",
   "metadata": {},
   "source": [
    "### Training for all digits and general model"
   ]
  },
  {
   "cell_type": "code",
   "execution_count": null,
   "metadata": {},
   "outputs": [],
   "source": []
  },
  {
   "cell_type": "code",
   "execution_count": 12,
   "metadata": {},
   "outputs": [],
   "source": [
    "# # a = [random.shuffle(sequence_num[DIGIT]) for i in range(10)]\n",
    "# # b = random.shuffle(sequence_num[DIGIT])\n",
    "# a = list(range(len(sequence_num[DIGIT])))\n",
    "# random.shuffle(a)\n",
    "# print(a)"
   ]
  },
  {
   "cell_type": "code",
   "execution_count": null,
   "metadata": {},
   "outputs": [],
   "source": []
  },
  {
   "cell_type": "code",
   "execution_count": 13,
   "metadata": {},
   "outputs": [],
   "source": [
    "# hello = np.array(['a', 'b', 'c'])\n",
    "# world = np.array([1, 2])\n",
    "# hello[world]"
   ]
  },
  {
   "cell_type": "code",
   "execution_count": 14,
   "metadata": {},
   "outputs": [],
   "source": [
    "# for i in range(np.array([1, 2, 3, 4, 5]).shape[0]):\n",
    "#     print(i)"
   ]
  },
  {
   "cell_type": "code",
   "execution_count": 15,
   "metadata": {},
   "outputs": [],
   "source": [
    "# a= np.array([i for i in range(10)])\n",
    "# b= np.cumsum(a)\n",
    "# print(b)"
   ]
  },
  {
   "cell_type": "code",
   "execution_count": 16,
   "metadata": {},
   "outputs": [],
   "source": [
    "# a[a>5]"
   ]
  },
  {
   "cell_type": "code",
   "execution_count": 17,
   "metadata": {},
   "outputs": [],
   "source": [
    "# b[a>5]"
   ]
  },
  {
   "cell_type": "code",
   "execution_count": 18,
   "metadata": {},
   "outputs": [],
   "source": [
    "# b[b>5]"
   ]
  },
  {
   "cell_type": "code",
   "execution_count": 19,
   "metadata": {},
   "outputs": [],
   "source": [
    "# b[-1]"
   ]
  },
  {
   "cell_type": "code",
   "execution_count": 20,
   "metadata": {},
   "outputs": [],
   "source": [
    "# b[[1,4,3]]"
   ]
  },
  {
   "cell_type": "code",
   "execution_count": 21,
   "metadata": {},
   "outputs": [],
   "source": [
    "# list(b)"
   ]
  },
  {
   "cell_type": "code",
   "execution_count": 22,
   "metadata": {},
   "outputs": [],
   "source": [
    "# def swap1(a):\n",
    "#     a[0],a[1] = a[1],a[0]\n",
    "\n",
    "# a = [0, 1]\n",
    "# swap1(a)\n",
    "# print(a)"
   ]
  },
  {
   "cell_type": "code",
   "execution_count": 23,
   "metadata": {},
   "outputs": [],
   "source": [
    "# a[0:2]"
   ]
  },
  {
   "cell_type": "code",
   "execution_count": 24,
   "metadata": {},
   "outputs": [],
   "source": [
    "# a = [1, 2, 4, 5, 6, 7]\n",
    "# a[2:6][::-1]"
   ]
  },
  {
   "cell_type": "code",
   "execution_count": 25,
   "metadata": {},
   "outputs": [],
   "source": [
    "# a = [(1,2)]\n",
    "# (2, 1) in a"
   ]
  },
  {
   "cell_type": "code",
   "execution_count": 26,
   "metadata": {},
   "outputs": [],
   "source": [
    "# a = [1, 2, 3, 4, 5]\n",
    "# b = []\n",
    "# b.append(a)\n",
    "# b.append(a)\n",
    "# b"
   ]
  },
  {
   "cell_type": "code",
   "execution_count": 27,
   "metadata": {},
   "outputs": [],
   "source": [
    "# a= [1,2,3,4,5,6,7,8,9]\n",
    "# b = a\n",
    "# b[2:5] = [2222]\n",
    "# print(a)"
   ]
  },
  {
   "cell_type": "code",
   "execution_count": 28,
   "metadata": {},
   "outputs": [],
   "source": [
    "# a= [1,2,3,4,5,6,7,8,9]\n",
    "# b = a[:]\n",
    "# b[2:5] = [2222]\n",
    "# print(a)\n",
    "# print(b)"
   ]
  },
  {
   "cell_type": "code",
   "execution_count": 29,
   "metadata": {},
   "outputs": [],
   "source": [
    "# partially_mapped_crossover([list(range(1,10)),[9,3,7,8,2,6,5,1,4]],get_parents_pair_nodup)"
   ]
  },
  {
   "cell_type": "code",
   "execution_count": 30,
   "metadata": {},
   "outputs": [],
   "source": [
    "# np.array([-1]*8) + 1"
   ]
  },
  {
   "cell_type": "code",
   "execution_count": 31,
   "metadata": {},
   "outputs": [],
   "source": [
    "# chrom_size = 10\n",
    "# table = [[] for i in range(chrom_size)]\n",
    "# print(table)\n",
    "# table[1].append((2,False))\n",
    "# table[1].append((3,True))\n",
    "# print(table)"
   ]
  },
  {
   "cell_type": "code",
   "execution_count": 32,
   "metadata": {},
   "outputs": [],
   "source": [
    "# a = [(x, True) for x in range(10)]\n",
    "# a.remove((1, True))\n",
    "# print(a)\n",
    "# a.remove()"
   ]
  },
  {
   "cell_type": "code",
   "execution_count": 33,
   "metadata": {},
   "outputs": [],
   "source": [
    "# a = [[],[]]\n",
    "# a.empty()"
   ]
  },
  {
   "cell_type": "code",
   "execution_count": 34,
   "metadata": {},
   "outputs": [],
   "source": [
    "# random.choice([])"
   ]
  },
  {
   "cell_type": "code",
   "execution_count": 7,
   "metadata": {},
   "outputs": [],
   "source": [
    "# a = [1, 2, 4]\n",
    "# b = np.cumsum(a)\n",
    "# print(a)\n",
    "# print(b)\n",
    "# type(b)"
   ]
  },
  {
   "cell_type": "code",
   "execution_count": null,
   "metadata": {},
   "outputs": [],
   "source": []
  }
 ],
 "metadata": {
  "kernelspec": {
   "display_name": "Python 3",
   "language": "python",
   "name": "python3"
  },
  "language_info": {
   "codemirror_mode": {
    "name": "ipython",
    "version": 3
   },
   "file_extension": ".py",
   "mimetype": "text/x-python",
   "name": "python",
   "nbconvert_exporter": "python",
   "pygments_lexer": "ipython3",
   "version": "3.7.5"
  }
 },
 "nbformat": 4,
 "nbformat_minor": 2
}
