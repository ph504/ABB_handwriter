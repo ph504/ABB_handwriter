{
 "cells": [
  {
   "cell_type": "markdown",
   "metadata": {},
   "source": [
    "# Path pattern generation using an Evolutionary computing aproach\n",
    "\n",
    "in this module we will explore on how we can generate a valid sequence based on genetic and evolutionary computing."
   ]
  },
  {
   "cell_type": "markdown",
   "metadata": {},
   "source": [
    "## Libraries"
   ]
  },
  {
   "cell_type": "code",
   "execution_count": 19,
   "metadata": {},
   "outputs": [],
   "source": [
    "import random\n",
    "import heapq\n",
    "import numpy as np\n",
    "import cv2 as cv\n",
    "import ppg_init as ppg\n",
    "import seqeval"
   ]
  },
  {
   "cell_type": "markdown",
   "metadata": {},
   "source": [
    "## Fetch preprocessed data"
   ]
  },
  {
   "cell_type": "code",
   "execution_count": 2,
   "metadata": {},
   "outputs": [],
   "source": [
    "number_gray = np.zeros((ppg.NO_DIGITS, ppg.IMG_WIDTH ,ppg.IMG_HEIGHT))\n",
    "for i in range (ppg.NO_DIGITS):\n",
    "    number_image = cv.imread(ppg.IMAGE_PATH+' '+str(i)+' dilated.png')\n",
    "    number_gray[i] = cv.cvtColor(number_image, cv.COLOR_BGR2GRAY)"
   ]
  },
  {
   "cell_type": "markdown",
   "metadata": {},
   "source": [
    "## Sample black pixels\n",
    "\n",
    "there are two ways to sample the pixels. sampling based on their distribution, sampling them based on their sufficient black pixel in a subarea of the image and uniformly distribute them. here we try both and compare the results."
   ]
  },
  {
   "cell_type": "markdown",
   "metadata": {},
   "source": [
    "### Change resolution\n"
   ]
  },
  {
   "cell_type": "code",
   "execution_count": 3,
   "metadata": {},
   "outputs": [
    {
     "data": {
      "image/png": "[encoded data removed]",
      "text/plain": [
       "<Figure size 1080x432 with 10 Axes>"
      ]
     },
     "metadata": {
      "needs_background": "light"
     },
     "output_type": "display_data"
    }
   ],
   "source": [
    "stride = 30\n",
    "lrbp_threshold = 10 # low resolution black pixels threshold. \n",
    "# this is used when we want to count the number of the black pixels in the high resolution image\n",
    "# and decide whether to mark the corresponding pixel in low resolution image black.\n",
    "new_imgw = int(ppg.IMG_WIDTH/stride)\n",
    "new_imgh = int(ppg.IMG_HEIGHT/stride)\n",
    "new_img = np.ones((ppg.NO_DIGITS, new_imgw, new_imgh))*255\n",
    "new_img2 = np.ones((ppg.NO_DIGITS, new_imgw, new_imgh))*255\n",
    "# stride is always an odd number.\n",
    "\n",
    "for i in range(ppg.NO_DIGITS):\n",
    "    my_img = number_gray[i]\n",
    "    # jump a 3,3 square and check for any black pixel within the area.\n",
    "\n",
    "    for x in range(0, len(my_img), stride):\n",
    "        for y in range(0, len(my_img[x]), stride):\n",
    "            # stride is always an odd number.\n",
    "            offset = int((stride-1)/2)\n",
    "            new_x = int(x/stride)\n",
    "            new_y = int(y/stride)\n",
    "            black_pxl_vec = my_img[x-offset:x+offset+1,y-offset:y+offset+1]<50\n",
    "            black_pxl_num = np.sum(black_pxl_vec)\n",
    "#             print(has_black_pxl, end=' ')\n",
    "            if(black_pxl_num>lrbp_threshold): # has at least one black pixel\n",
    "                new_img[i,new_x,new_y] = 0\n",
    "#         print(' ')\n",
    "#     print('====================')\n",
    "ppg.plot_digits(new_img)"
   ]
  },
  {
   "cell_type": "markdown",
   "metadata": {},
   "source": [
    "## Initialize the sequence of the black pixels"
   ]
  },
  {
   "cell_type": "code",
   "execution_count": 4,
   "metadata": {},
   "outputs": [
    {
     "name": "stdout",
     "output_type": "stream",
     "text": [
      "black pixels list for number  0 :\n",
      "[(3, 3), (3, 4), (3, 5), (3, 6), (4, 3), (4, 6), (5, 3), (5, 6), (6, 3), (6, 4), (6, 5), (6, 6)] \n",
      "\n",
      "black pixels list for number  1 :\n",
      "[(2, 5), (3, 5), (4, 5), (5, 5), (6, 5), (7, 5), (8, 5)] \n",
      "\n",
      "black pixels list for number  2 :\n",
      "[(1, 4), (1, 5), (1, 6), (1, 7), (2, 3), (2, 4), (2, 7), (2, 8), (3, 3), (3, 8), (4, 7), (5, 6), (5, 7), (6, 5), (6, 6), (7, 3), (7, 4), (7, 5), (7, 6), (7, 7), (7, 8), (7, 9)] \n",
      "\n",
      "black pixels list for number  3 :\n",
      "[(1, 4), (1, 5), (1, 6), (2, 3), (2, 7), (3, 7), (4, 6), (5, 5), (5, 6), (5, 7), (6, 7), (7, 7), (8, 3), (8, 7), (9, 3), (9, 4), (9, 5), (9, 6)] \n",
      "\n",
      "black pixels list for number  4 :\n",
      "[(1, 3), (2, 3), (3, 2), (4, 1), (4, 2), (4, 7), (4, 8), (5, 1), (5, 2), (5, 3), (5, 4), (5, 5), (5, 6), (5, 7)] \n",
      "\n",
      "black pixels list for number  5 :\n",
      "[(1, 5), (1, 6), (2, 3), (2, 4), (2, 5), (3, 3), (4, 3), (4, 4), (4, 5), (4, 6), (5, 6), (6, 6), (7, 5), (7, 6), (8, 3), (8, 4), (8, 5)] \n",
      "\n",
      "black pixels list for number  6 :\n",
      "[(1, 5), (1, 6), (2, 4), (2, 5), (3, 3), (4, 3), (5, 3), (5, 4), (5, 5), (5, 6), (5, 7), (6, 3), (6, 4), (6, 7), (7, 4), (7, 5), (7, 6), (7, 7)] \n",
      "\n",
      "black pixels list for number  7 :\n",
      "[(1, 2), (1, 3), (1, 5), (1, 6), (1, 7), (2, 4), (2, 6), (2, 7), (3, 6), (4, 5), (5, 5), (6, 4), (7, 4), (8, 3)] \n",
      "\n",
      "black pixels list for number  8 :\n",
      "[(1, 2), (1, 3), (1, 4), (1, 5), (1, 6), (2, 2), (2, 5), (2, 6), (3, 2), (3, 3), (3, 4), (4, 3), (4, 4), (4, 5), (4, 6), (5, 2), (5, 6), (5, 7), (5, 8), (6, 2), (6, 8), (7, 3), (7, 4), (7, 5), (7, 6), (7, 7), (8, 5)] \n",
      "\n",
      "black pixels list for number  9 :\n",
      "[(1, 4), (1, 5), (2, 3), (2, 5), (2, 6), (3, 2), (3, 6), (4, 2), (4, 3), (4, 5), (4, 6), (4, 7), (5, 3), (5, 4), (5, 5), (5, 7), (6, 7), (7, 6), (8, 3), (8, 4), (8, 5), (8, 6)] \n",
      "\n"
     ]
    }
   ],
   "source": [
    "sequence_num = []\n",
    "for digit in range(10):\n",
    "    sequence = []\n",
    "    for row in range(len(new_img[digit])):\n",
    "        for col in range(len(new_img[digit, row])):\n",
    "            if new_img[digit, row, col]==0:\n",
    "                sequence.append((row, col))\n",
    "    sequence_num.append(sequence)\n",
    "    print('black pixels list for number ', digit, ':')\n",
    "    print(sequence, '\\n')"
   ]
  },
  {
   "cell_type": "markdown",
   "metadata": {},
   "source": [
    "## Configurations, Parameters and Constants"
   ]
  },
  {
   "cell_type": "code",
   "execution_count": 5,
   "metadata": {},
   "outputs": [],
   "source": [
    "P_MUTATION = 0.8\n",
    "P_CROSSOVER = 1.0\n",
    "POPULATION_SIZE = 100\n",
    "DIGIT = 0"
   ]
  },
  {
   "cell_type": "markdown",
   "metadata": {},
   "source": [
    "## Genetic algorithm general model template"
   ]
  },
  {
   "cell_type": "code",
   "execution_count": 6,
   "metadata": {},
   "outputs": [],
   "source": [
    "# genetic algorithm general model template\n",
    "def train_evolve(mutation,\n",
    "                 crossover,\n",
    "                 parent_sel, \n",
    "                 population_sel, \n",
    "                 population_init, \n",
    "                 population_terminate, \n",
    "                 fitness_func, \n",
    "                 geno2pheno):\n",
    "    population_heap = []\n",
    "    population = population_init()\n",
    "    generation = 0\n",
    "    fitness_func.count = 0\n",
    "    avg_fitness_profile = []\n",
    "    best_fitness_profie = []\n",
    "    while(population_terminate(population_heap, fitnessfunc.count, generation)):\n",
    "        generation_fitness_profile = []\n",
    "        best_fitness = 0\n",
    "        for individual in population:\n",
    "            ind_phenotype = geno2pheno(individual)\n",
    "            fitness = fitness_func(ind_phenotype)\n",
    "            generation_fitness_profile.append(fitness)\n",
    "            if(fitness > best_fitness):\n",
    "                best_fitness = fitness\n",
    "            heappush(population_heap, (1/fitness, individual))\n",
    "            \n",
    "        selected_parents = parent_sel(population_heap)\n",
    "        children = crossover(selected_parents)\n",
    "        for child in children:\n",
    "            mutation(child)\n",
    "            child_phenotype = geno2pheno(individual)\n",
    "            fitness = fitness_func(child_phenotype)\n",
    "            if(fitness > best_fitness):\n",
    "                best_fitness = fitness\n",
    "            heappush(population_heap, (1/fitness, child))\n",
    "        \n",
    "        fitness_avg = np.average(generation_fitness_profile)\n",
    "        avg_fitness_profile.append(fitness_avg)\n",
    "        best_fitness_profile.append(best_fitness)\n",
    "        generation_profile = list(range(generation))\n",
    "        population = population_sel(population_heap)\n",
    "        generation +=1\n",
    "    \n",
    "        "
   ]
  },
  {
   "cell_type": "markdown",
   "metadata": {},
   "source": [
    "## Functions and behaviors"
   ]
  },
  {
   "cell_type": "code",
   "execution_count": 11,
   "metadata": {},
   "outputs": [],
   "source": [
    "# mutations -----------------------------------\n",
    "def insert_mutation(child):\n",
    "    pass\n",
    "\n",
    "def scramble_mutation(child):\n",
    "    pass\n",
    "\n",
    "def inversion_mutation(child):\n",
    "    pass\n",
    "\n",
    "def swap_mutation(child):\n",
    "    \n",
    "# mutations -----------------------------------\n",
    "# crossovers ----------------------------------\n",
    "def order1_crossover(sel_parents):\n",
    "    pass\n",
    "\n",
    "def partially_mapped_crossover(sel_parents):\n",
    "    pass\n",
    "\n",
    "def cycle_crossover(sel_parents):\n",
    "    pass\n",
    "\n",
    "def edge_recombination(sel_parents):\n",
    "    pass\n",
    "# crossovers ----------------------------------\n",
    "# steady state genetic algorithms -------------\n",
    "# 20 best inidividuals\n",
    "def parent_selection1():\n",
    "    pass\n",
    "\n",
    "# of 20 best inidividuals random select 10\n",
    "def parent_selection2():\n",
    "    pass\n",
    "\n",
    "# of 20 random inidividuals select the best 10\n",
    "def parent_selection3():\n",
    "    pass\n",
    "\n",
    "# random 20 individuals but the individuals with better fitness have higher chances\n",
    "def parent_selection4(population):\n",
    "    allpopulation = heapq.nsmallest(POPULATION_SIZE, population)\n",
    "    selected = random.sample(allpopulation, 20)\n",
    "    selected_raw = [x[1] for x in selected]\n",
    "    return selected_raw\n",
    "\n",
    "# all the population is selected.\n",
    "def parent_selection5(population):\n",
    "    return population\n",
    "\n",
    "# eliminate worst fitted individuals\n",
    "def survival_seleciton1(population):\n",
    "    selected = heapq.nlargest(POPULATION_SIZE, population)\n",
    "    # remove tuple from the list:\n",
    "    # selected = list(map(lambda x: x[0], selected))\n",
    "    selected_raw = [x[1] for x in selected]\n",
    "    return selected_raw\n",
    "    \n",
    "# the worse fitness value the higher chances of getting eliminated\n",
    "def survival_seleciton2(population):\n",
    "    pass\n",
    "# steady state genetic algorithms -------------\n",
    "\n",
    "# random individual initializing\n",
    "def population_init():\n",
    "    population = []\n",
    "    for i in range(POPULATION_SIZE):\n",
    "        std_ind = list(range(len(sequence_num[DIGIT])))\n",
    "        individual = random.shuffle(std_ind)\n",
    "        population.append(individual)\n",
    "    return population\n",
    "\n",
    "# the termination can be based on:\n",
    "# 1. population or the average fitness\n",
    "# 2. fitness evaluations\n",
    "# 3. generation number\n",
    "def population_terminate(population, evaluation_counter, generation):\n",
    "    return generation<1000\n",
    "\n",
    "def geno2pheno(genotype):\n",
    "    phenotype = []\n",
    "    for order in genotype:\n",
    "        phenotype.append(sequence_num[DIGIT, order])\n",
    "    return phenotype\n",
    "        \n",
    "def fitness_func(individual):\n",
    "    fitness_func.count +=1\n",
    "    mse = seqeval.seqeval_MSE(individual, ppg.LOW_RESOLUTION_IMG_SIZE, new_img[DIGIT])\n",
    "    fitness = 1/mse\n",
    "    return fitness"
   ]
  },
  {
   "cell_type": "markdown",
   "metadata": {},
   "source": [
    "## Training path generating"
   ]
  },
  {
   "cell_type": "markdown",
   "metadata": {},
   "source": [
    "### Training for separate digits"
   ]
  },
  {
   "cell_type": "code",
   "execution_count": null,
   "metadata": {},
   "outputs": [],
   "source": []
  },
  {
   "cell_type": "markdown",
   "metadata": {},
   "source": [
    "### Training for all digits and general model"
   ]
  },
  {
   "cell_type": "code",
   "execution_count": null,
   "metadata": {},
   "outputs": [],
   "source": []
  },
  {
   "cell_type": "code",
   "execution_count": 12,
   "metadata": {},
   "outputs": [],
   "source": [
    "# # a = [random.shuffle(sequence_num[DIGIT]) for i in range(10)]\n",
    "# # b = random.shuffle(sequence_num[DIGIT])\n",
    "# a = list(range(len(sequence_num[DIGIT])))\n",
    "# random.shuffle(a)\n",
    "# print(a)"
   ]
  },
  {
   "cell_type": "code",
   "execution_count": null,
   "metadata": {},
   "outputs": [],
   "source": []
  },
  {
   "cell_type": "code",
   "execution_count": 14,
   "metadata": {},
   "outputs": [],
   "source": []
  },
  {
   "cell_type": "code",
   "execution_count": null,
   "metadata": {},
   "outputs": [],
   "source": []
  },
  {
   "cell_type": "code",
   "execution_count": null,
   "metadata": {},
   "outputs": [],
   "source": []
  }
 ],
 "metadata": {
  "kernelspec": {
   "display_name": "Python 3",
   "language": "python",
   "name": "python3"
  },
  "language_info": {
   "codemirror_mode": {
    "name": "ipython",
    "version": 3
   },
   "file_extension": ".py",
   "mimetype": "text/x-python",
   "name": "python",
   "nbconvert_exporter": "python",
   "pygments_lexer": "ipython3",
   "version": "3.7.5"
  }
 },
 "nbformat": 4,
 "nbformat_minor": 2
}
