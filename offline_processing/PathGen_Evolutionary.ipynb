{
 "cells": [
  {
   "cell_type": "markdown",
   "metadata": {},
   "source": [
    "# Path pattern generation using an Evolutionary computing aproach\n",
    "\n",
    "in this module we will explore on how we can generate a valid sequence based on genetic and evolutionary computing."
   ]
  },
  {
   "cell_type": "markdown",
   "metadata": {},
   "source": [
    "## Libraries"
   ]
  },
  {
   "cell_type": "code",
   "execution_count": 1,
   "metadata": {
    "collapsed": true
   },
   "outputs": [
    {
     "name": "stdout",
     "output_type": "stream",
     "text": [
      "initialized data is stored in the following directory:\n",
      "..\\data\\generated image numbers\n"
     ]
    }
   ],
   "source": [
    "import random\n",
    "import numpy as np\n",
    "import cv2 as cv\n",
    "import ppg_init as ppg\n",
    "import seqeval\n",
    "import ipywidgets as widgets\n",
    "import evolutionary_algorithms as ea\n",
    "from matplotlib import pyplot as plt\n",
    "import pandas as pd\n",
    "\n",
    "DEBUGMODE = False"
   ]
  },
  {
   "cell_type": "markdown",
   "metadata": {},
   "source": [
    "## Fetch preprocessed data"
   ]
  },
  {
   "cell_type": "code",
   "execution_count": 2,
   "metadata": {},
   "outputs": [],
   "source": [
    "number_gray = np.zeros((ppg.NO_DIGITS, ppg.IMG_WIDTH ,ppg.IMG_HEIGHT))\n",
    "for i in range (ppg.NO_DIGITS):\n",
    "    number_image = cv.imread(ppg.IMAGE_PATH+' '+str(i)+' dilated.png')\n",
    "    number_gray[i] = cv.cvtColor(number_image, cv.COLOR_BGR2GRAY)"
   ]
  },
  {
   "cell_type": "markdown",
   "metadata": {},
   "source": [
    "## Sample black pixels\n",
    "there are two ways to sample the pixels. sampling based on their distribution, sampling them based on their sufficient black pixel in a subarea of the image and uniformly distribute them. here we try both and compare the results.\n",
    "\n",
    "### Change resolution"
   ]
  },
  {
   "cell_type": "code",
   "execution_count": 3,
   "metadata": {
    "collapsed": true
   },
   "outputs": [
    {
     "data": {
      "image/png": "[encoded data removed]",
      "text/plain": [
       "<Figure size 1080x432 with 10 Axes>"
      ]
     },
     "metadata": {
      "needs_background": "light"
     },
     "output_type": "display_data"
    }
   ],
   "source": [
    "stride = 30\n",
    "lrbp_threshold = 10 # low resolution black pixels threshold. \n",
    "# this is used when we want to count the number of the black pixels in the high resolution image\n",
    "# and decide whether to mark the corresponding pixel in low resolution image black.\n",
    "new_imgw = int(ppg.IMG_WIDTH/stride)\n",
    "new_imgh = int(ppg.IMG_HEIGHT/stride)\n",
    "new_img = np.ones((ppg.NO_DIGITS, new_imgw, new_imgh))*255\n",
    "new_img2 = np.ones((ppg.NO_DIGITS, new_imgw, new_imgh))*255\n",
    "# stride is always an odd number.\n",
    "\n",
    "for i in range(ppg.NO_DIGITS):\n",
    "    my_img = number_gray[i]\n",
    "    # jump a 3,3 square and check for any black pixel within the area.\n",
    "\n",
    "    for x in range(0, len(my_img), stride):\n",
    "        for y in range(0, len(my_img[x]), stride):\n",
    "            # stride is always an odd number.\n",
    "            offset = int((stride-1)/2)\n",
    "            new_x = int(x/stride)\n",
    "            new_y = int(y/stride)\n",
    "            black_pxl_vec = my_img[x-offset:x+offset+1,y-offset:y+offset+1]<50\n",
    "            black_pxl_num = np.sum(black_pxl_vec)\n",
    "#             print(has_black_pxl, end=' ')\n",
    "            if(black_pxl_num>lrbp_threshold): # has at least one black pixel\n",
    "                new_img[i,new_x,new_y] = 0\n",
    "#         print(' ')\n",
    "#     print('====================')\n",
    "ppg.plot_digits(new_img)"
   ]
  },
  {
   "cell_type": "markdown",
   "metadata": {},
   "source": [
    "### Initialize the sequence of the black pixels"
   ]
  },
  {
   "cell_type": "code",
   "execution_count": 4,
   "metadata": {},
   "outputs": [],
   "source": [
    "sequence_num = []\n",
    "for digit in range(10):\n",
    "    sequence = []\n",
    "    for row in range(len(new_img[digit])):\n",
    "        for col in range(len(new_img[digit, row])):\n",
    "            if new_img[digit, row, col]==0:\n",
    "                sequence.append((row, col))\n",
    "    sequence_num.append(sequence)\n",
    "    if(DEBUGMODE):\n",
    "        print('black pixels list for number ', digit, ':')\n",
    "        print(sequence, '\\n')\n",
    "        \n",
    "if(DEBUGMODE):\n",
    "    print(sequence_num)"
   ]
  },
  {
   "cell_type": "markdown",
   "metadata": {},
   "source": [
    "##### ranked based selection\n",
    "with linear rank probability\n",
    "$$\\frac{(2-s)}{\\mu} + \\frac{(2 i (s-1)}{\\mu (\\mu - 1)}$$"
   ]
  },
  {
   "cell_type": "markdown",
   "metadata": {},
   "source": [
    "with exponential rank probability\n",
    "$$ \\frac{1 - e ^ {-i}}{c} $$"
   ]
  },
  {
   "cell_type": "markdown",
   "metadata": {},
   "source": [
    "## Training path generating"
   ]
  },
  {
   "cell_type": "markdown",
   "metadata": {},
   "source": [
    "### Parameters selection:"
   ]
  },
  {
   "cell_type": "code",
   "execution_count": 12,
   "metadata": {},
   "outputs": [],
   "source": [
    "ea.DIGIT=0\n",
    "ea.P_MUTATION = 0.8\n",
    "ea.P_CROSSOVER = 1.0\n",
    "ea.POPULATION_SIZE = 500\n",
    "ea.MAX_NUM_OF_GEN = 5000"
   ]
  },
  {
   "cell_type": "markdown",
   "metadata": {},
   "source": [
    "### Training for separate digits"
   ]
  },
  {
   "cell_type": "code",
   "execution_count": 6,
   "metadata": {},
   "outputs": [],
   "source": [
    "# (generation_profile, \n",
    "#     avg_fitness_profile, \n",
    "#     best_fitness_profile, \n",
    "#     best_ind_pheno_profile) = ea.train_evolve(mutation=ea.swap_mutation,\n",
    "#                 crossover=ea.edge_recombination,\n",
    "#                 parent_sel=ea.from_population_best_parents_select, \n",
    "#                 get_parents_pair_method=ea.get_parents_pair_duplocal,\n",
    "#                 population_sel=ea.best_population_select, \n",
    "#                 population_init=ea.population_init, \n",
    "#                 population_terminate=ea.population_terminate, \n",
    "#                 vertices=sequence_num,\n",
    "#                 desired_pheno=new_img,\n",
    "#                 fitness_func=ea.fitness_func,\n",
    "#                 geno2pheno=ea.geno2pheno)"
   ]
  },
  {
   "cell_type": "code",
   "execution_count": 7,
   "metadata": {},
   "outputs": [],
   "source": [
    "# plt.plot(generation_profile,avg_fitness_profile)\n",
    "# plt.ylim(0,210);"
   ]
  },
  {
   "cell_type": "code",
   "execution_count": 8,
   "metadata": {
    "scrolled": true
   },
   "outputs": [],
   "source": [
    "# plt.plot(generation_profile,best_fitness_profile)"
   ]
  },
  {
   "cell_type": "code",
   "execution_count": 9,
   "metadata": {},
   "outputs": [],
   "source": [
    "# seqeval.draw_digit(best_ind_pheno_profile[-1], ppg.LOW_RESOLUTION_IMG_SIZE)"
   ]
  },
  {
   "cell_type": "code",
   "execution_count": 10,
   "metadata": {
    "collapsed": true
   },
   "outputs": [
    {
     "name": "stdout",
     "output_type": "stream",
     "text": [
      "0.\n",
      "generation = 56  progress: 1.1%  [---------------------------------------]      \n",
      "1.\n",
      "generation = 1  progress: 0.0%  [---------------------------------------]       \n",
      "2.\n",
      "generation = 5000  progress: 100.0%  [########################################]      \n",
      "3.\n",
      "generation = 5000  progress: 100.0%  [########################################]      \n",
      "4.\n",
      "generation = 5000  progress: 100.0%  [########################################]      #####---------------------------------]        [#########------------------------------]      [##########-----------------------------]        [##########-----------------------------]        [###########----------------------------]      [###########----------------------------]      [############---------------------------]       1680  progress: 33.6%  [#############--------------------------]      [###############------------------------]      [###############------------------------]      [#################----------------------]       2245  progress: 44.9%  [#################----------------------]      [######################-----------------]      [######################-----------------]       2863  progress: 57.3%  [######################-----------------]      [######################-----------------]        [#######################----------------]      [#######################----------------]        [#######################----------------]        [#######################----------------]      [########################---------------]        [##########################-------------]      [###########################------------]      [############################-----------]      [############################-----------]      [############################-----------]      [###############################--------]       4420  progress: 88.4%  [###################################----]      [###################################----]      [###################################----]        [###################################----]       4638  progress: 92.8%  [#####################################--]        [#######################################]      [#######################################]      \n",
      "5.\n",
      "generation = 5000  progress: 100.0%  [########################################]      \n",
      "6.\n",
      "generation = 5000  progress: 100.0%  [########################################]      \n",
      "7.\n",
      "generation = 5000  progress: 100.0%  [########################################]      \n",
      "8.\n",
      "generation = 5000  progress: 100.0%  [########################################]      \n",
      "9.\n",
      "generation = 5000  progress: 100.0%  [########################################]      \r"
     ]
    },
    {
     "data": {
      "image/png": "[encoded data removed]",
      "text/plain": [
       "<Figure size 864x720 with 20 Axes>"
      ]
     },
     "metadata": {
      "needs_background": "light"
     },
     "output_type": "display_data"
    }
   ],
   "source": [
    "fig = plt.figure(figsize=(12,10))\n",
    "fig.subplots_adjust(hspace=1,wspace=0.7)\n",
    "print(0,'.',sep='')\n",
    "sol_num = []\n",
    "for i in range(ppg.NO_DIGITS):\n",
    "    ea.DIGIT=i\n",
    "    (generation_profile, \n",
    "    avg_fitness_profile, \n",
    "    best_fitness_profile, \n",
    "    best_ind_pheno_profile) = ea.train_evolve(mutation=ea.swap_mutation,\n",
    "                crossover=ea.edge_recombination,\n",
    "                parent_sel=ea.from_population_best_parents_select, \n",
    "                get_parents_pair_method=ea.get_parents_pair_nodup,\n",
    "                population_sel=ea.best_population_select, \n",
    "                population_init=ea.population_init, \n",
    "                population_terminate=ea.population_terminate, \n",
    "                vertices=sequence_num,\n",
    "                desired_pheno=new_img,\n",
    "                fitness_func=ea.fitness_func,\n",
    "                geno2pheno=ea.geno2pheno)\n",
    "    \n",
    "    plt.subplot(5,4,2*i+1)\n",
    "    plt.plot(generation_profile,avg_fitness_profile)\n",
    "    plt.title('digit '+str(ea.DIGIT))\n",
    "    plt.ylabel('avg fitness')\n",
    "    plt.xlabel('generation')\n",
    "    plt.ylim(0,210);\n",
    "    \n",
    "    plt.subplot(5,4,2*i+2)\n",
    "    plt.plot(generation_profile,best_fitness_profile)\n",
    "    plt.ylabel('best fitness')\n",
    "    plt.xlabel('generation')\n",
    "    plt.ylim(0,210);\n",
    "    if(i+1<10):\n",
    "        print('\\n',ea.DIGIT+1,'.', sep='')\n",
    "    sol_num.append(best_ind_pheno_profile[-1])\n"
   ]
  },
  {
   "cell_type": "markdown",
   "metadata": {},
   "source": [
    "## Results"
   ]
  },
  {
   "cell_type": "code",
   "execution_count": 11,
   "metadata": {
    "collapsed": true
   },
   "outputs": [
    {
     "name": "stdout",
     "output_type": "stream",
     "text": [
      "[(7, 7), (7, 3), (7, 9), (7, 4), (7, 8), (7, 5), (6, 5), (5, 7), (1, 4), (2, 4), (4, 7), (6, 6), (2, 7), (2, 8), (5, 6), (1, 5), (2, 3), (1, 6), (3, 3), (3, 8), (1, 7), (7, 6)]\n"
     ]
    },
    {
     "data": {
      "image/png": "[encoded data removed]",
      "text/plain": [
       "<Figure size 1080x432 with 10 Axes>"
      ]
     },
     "metadata": {
      "needs_background": "light"
     },
     "output_type": "display_data"
    }
   ],
   "source": [
    "df = []\n",
    "plt.figure(figsize=(ppg.PLOT_WIDTH, ppg.PLOT_HEIGHT))\n",
    "for i in range(len(sol_num)):\n",
    "    plt.subplot(2,5,i+1)\n",
    "    plt.imshow(seqeval.draw_digit(sol_num[i], ppg.LOW_RESOLUTION_IMG_SIZE),cmap='gray')\n",
    "    plt.axis('off')\n",
    "    df.append(pd.DataFrame(sol_num[i], columns=['x','y']))\n",
    "    if i ==2:\n",
    "        print(sol_num[i])"
   ]
  },
  {
   "cell_type": "code",
   "execution_count": 12,
   "metadata": {},
   "outputs": [],
   "source": [
    "for i in range(ppg.NO_DIGITS):\n",
    "    df[i].to_csv('..\\\\data\\\\test out\\\\path_Num_ea_'+str(i)+'.csv')"
   ]
  },
  {
   "cell_type": "markdown",
   "metadata": {},
   "source": [
    "## other pictures"
   ]
  },
  {
   "cell_type": "code",
   "execution_count": 13,
   "metadata": {
    "collapsed": true
   },
   "outputs": [
    {
     "name": "stdout",
     "output_type": "stream",
     "text": [
      "generation = 5000  progress: 100.0%  [########################################]      \r"
     ]
    },
    {
     "data": {
      "image/png": "[encoded data removed]",
      "text/plain": [
       "<Figure size 1080x432 with 2 Axes>"
      ]
     },
     "metadata": {
      "needs_background": "light"
     },
     "output_type": "display_data"
    }
   ],
   "source": [
    "fig = plt.figure(figsize=(ppg.PLOT_WIDTH,ppg.PLOT_HEIGHT))\n",
    "fig.subplots_adjust(wspace=0.7)\n",
    "ea.DIGIT=4\n",
    "(generation_profile, \n",
    "avg_fitness_profile, \n",
    "best_fitness_profile, \n",
    "best_ind_pheno_profile) = ea.train_evolve(mutation=ea.swap_mutation,\n",
    "            crossover=ea.edge_recombination,\n",
    "            parent_sel=ea.from_population_best_parents_select, \n",
    "            get_parents_pair_method=ea.get_parents_pair_nodup,\n",
    "            population_sel=ea.best_population_select, \n",
    "            population_init=ea.population_init, \n",
    "            population_terminate=ea.population_terminate, \n",
    "            vertices=sequence_num,\n",
    "            desired_pheno=new_img,\n",
    "            fitness_func=ea.fitness_func,\n",
    "            geno2pheno=ea.geno2pheno)\n",
    "\n",
    "plt.subplot(1,2,1)\n",
    "plt.plot(generation_profile,avg_fitness_profile)\n",
    "plt.title('digit '+str(ea.DIGIT))\n",
    "plt.ylabel('avg fitness')\n",
    "plt.xlabel('generation')\n",
    "plt.ylim(0,210);\n",
    "\n",
    "plt.subplot(1,2,2)\n",
    "plt.plot(generation_profile,best_fitness_profile)\n",
    "plt.ylabel('best fitness')\n",
    "plt.xlabel('generation')\n",
    "plt.ylim(0,210);"
   ]
  },
  {
   "cell_type": "code",
   "execution_count": 52,
   "metadata": {
    "collapsed": true
   },
   "outputs": [
    {
     "data": {
      "image/png": "[encoded data removed]",
      "text/plain": [
       "<Figure size 1080x432 with 1 Axes>"
      ]
     },
     "metadata": {
      "needs_background": "light"
     },
     "output_type": "display_data"
    }
   ],
   "source": [
    "df = []\n",
    "plt.figure(figsize=(ppg.PLOT_WIDTH, ppg.PLOT_HEIGHT))\n",
    "\n",
    "plt.imshow(seqeval.draw_digit(best_ind_pheno_profile[-1], ppg.LOW_RESOLUTION_IMG_SIZE),cmap='gray')\n",
    "plt.axis('off')\n",
    "df4 = pd.DataFrame(best_ind_pheno_profile[-1], columns=['x','y'])\n",
    "        \n",
    "df4.to_csv('..\\\\data\\\\test out\\\\path_Num_ea_'+str(4)+'.csv')"
   ]
  },
  {
   "cell_type": "markdown",
   "metadata": {},
   "source": [
    "## Testing for one sample"
   ]
  },
  {
   "cell_type": "code",
   "execution_count": 5,
   "metadata": {
    "collapsed": true
   },
   "outputs": [
    {
     "name": "stdout",
     "output_type": "stream",
     "text": [
      "\n",
      "0\n",
      "generation = 500  progress: 100.0%  [########################################]      \n",
      "1\n",
      "generation = 500  progress: 100.0%  [########################################]      405  progress: 81.0%  [################################-------]       408  progress: 81.6%  [################################-------]       421  progress: 84.2%  [#################################------]       430  progress: 86.0%  [##################################-----]       439  progress: 87.8%  [###################################----]       441  progress: 88.2%  [###################################----]       450  progress: 90.0%  [####################################----]       494  progress: 98.8%  [#######################################]       498  progress: 99.6%  [#######################################]      \n",
      "2\n",
      "generation = 500  progress: 100.0%  [########################################]      \n",
      "3\n",
      "generation = 500  progress: 100.0%  [########################################]      \n",
      "4\n",
      "generation = 500  progress: 100.0%  [########################################]      \n",
      "5\n",
      "generation = 500  progress: 100.0%  [########################################]      \n",
      "6\n",
      "generation = 500  progress: 100.0%  [########################################]      ###########################------------]      [#############################----------]      [##############################---------]      [################################--------]      \n",
      "7\n",
      "generation = 500  progress: 100.0%  [########################################]      \n",
      "8\n",
      "generation = 500  progress: 100.0%  [########################################]      \n",
      "9\n",
      "generation = 500  progress: 100.0%  [########################################]      #########################--------------]      [###########################------------]        [###########################------------]      [############################-----------]      \r"
     ]
    }
   ],
   "source": [
    "test_num = 10\n",
    "ea.DIGIT=5\n",
    "ea.P_MUTATION = 0.8\n",
    "ea.P_CROSSOVER = 1.0\n",
    "ea.POPULATION_SIZE = 500\n",
    "ea.MAX_NUM_OF_GEN = 500\n",
    "\n",
    "test_prof_avg_fit = []\n",
    "test_prof_best_fit = []\n",
    "test_prof_best_ind = []\n",
    "\n",
    "for i in range(test_num):\n",
    "    print('\\n',i, sep='')\n",
    "    (generation_profile, \n",
    "    avg_fitness_profile, \n",
    "    best_fitness_profile, \n",
    "    best_ind_pheno_profile) = ea.train_evolve(mutation=ea.swap_mutation,\n",
    "                crossover=ea.edge_recombination,\n",
    "                parent_sel=ea.from_population_best_parents_select, \n",
    "                get_parents_pair_method=ea.get_parents_pair_nodup,\n",
    "                population_sel=ea.best_population_select, \n",
    "                population_init=ea.population_init, \n",
    "                population_terminate=ea.population_terminate, \n",
    "                vertices=sequence_num,\n",
    "                desired_pheno=new_img,\n",
    "                fitness_func=ea.fitness_func,\n",
    "                geno2pheno=ea.geno2pheno)\n",
    "    \n",
    "    test_prof_avg_fit.append(avg_fitness_profile)\n",
    "    test_prof_best_fit.append(best_fitness_profile)\n",
    "    test_prof_best_ind.append(best_ind_pheno_profile)"
   ]
  },
  {
   "cell_type": "code",
   "execution_count": 9,
   "metadata": {
    "collapsed": true
   },
   "outputs": [
    {
     "name": "stderr",
     "output_type": "stream",
     "text": [
      "d:\\apps\\python3.7.5\\lib\\site-packages\\ipykernel_launcher.py:13: MatplotlibDeprecationWarning: Adding an axes using the same arguments as a previous axes currently reuses the earlier instance.  In a future version, a new instance will always be created and returned.  Meanwhile, this warning can be suppressed, and the future behavior ensured, by passing a unique label to each axes instance.\n",
      "  del sys.path[0]\n",
      "d:\\apps\\python3.7.5\\lib\\site-packages\\ipykernel_launcher.py:20: MatplotlibDeprecationWarning: Adding an axes using the same arguments as a previous axes currently reuses the earlier instance.  In a future version, a new instance will always be created and returned.  Meanwhile, this warning can be suppressed, and the future behavior ensured, by passing a unique label to each axes instance.\n",
      "d:\\apps\\python3.7.5\\lib\\site-packages\\ipykernel_launcher.py:26: MatplotlibDeprecationWarning: Adding an axes using the same arguments as a previous axes currently reuses the earlier instance.  In a future version, a new instance will always be created and returned.  Meanwhile, this warning can be suppressed, and the future behavior ensured, by passing a unique label to each axes instance.\n",
      "d:\\apps\\python3.7.5\\lib\\site-packages\\ipykernel_launcher.py:32: MatplotlibDeprecationWarning: Adding an axes using the same arguments as a previous axes currently reuses the earlier instance.  In a future version, a new instance will always be created and returned.  Meanwhile, this warning can be suppressed, and the future behavior ensured, by passing a unique label to each axes instance.\n"
     ]
    },
    {
     "data": {
      "image/png": "[encoded data removed]",
      "text/plain": [
       "<Figure size 1080x432 with 2 Axes>"
      ]
     },
     "metadata": {
      "needs_background": "light"
     },
     "output_type": "display_data"
    }
   ],
   "source": [
    "test_avg_of_avg = []\n",
    "test_avg_of_best = []\n",
    "for gen in range(ea.MAX_NUM_OF_GEN):\n",
    "    avg = np.average([x[gen] for x in test_prof_avg_fit])\n",
    "    test_avg_of_avg.append(avg)\n",
    "    avg = np.average([x[gen] for x in test_prof_best_fit])\n",
    "    test_avg_of_best.append(avg)\n",
    "\n",
    "fig = plt.figure(figsize=(ppg.PLOT_WIDTH,ppg.PLOT_HEIGHT))\n",
    "fig.subplots_adjust(wspace=0.7)\n",
    "for i in range(test_num):\n",
    "    \n",
    "    plt.subplot(1,2,1)\n",
    "    plt.plot(generation_profile,test_prof_avg_fit[i], color='blue', alpha=0.5)\n",
    "    plt.title('digit '+str(ea.DIGIT))\n",
    "    plt.ylabel('avg fitness')\n",
    "    plt.xlabel('generation')\n",
    "    plt.ylim(0,210);\n",
    "\n",
    "    plt.subplot(1,2,2)\n",
    "    plt.plot(generation_profile,test_prof_best_fit[i], color='blue', alpha=0.5)\n",
    "    plt.ylabel('best fitness')\n",
    "    plt.xlabel('generation')\n",
    "    plt.ylim(0,210);\n",
    "\n",
    "plt.subplot(1,2,1)\n",
    "plt.plot(generation_profile, test_avg_of_avg, color='red')\n",
    "plt.ylabel('avg fitness')\n",
    "plt.xlabel('generation')\n",
    "plt.ylim(0,210);\n",
    "\n",
    "plt.subplot(1,2,2)\n",
    "plt.plot(generation_profile, test_avg_of_best, color='red')\n",
    "plt.ylabel('best fitness')\n",
    "plt.xlabel('generation')\n",
    "plt.ylim(0,210);"
   ]
  },
  {
   "cell_type": "code",
   "execution_count": 7,
   "metadata": {
    "collapsed": true
   },
   "outputs": [
    {
     "name": "stdout",
     "output_type": "stream",
     "text": [
      "500\n",
      "500\n",
      "500\n",
      "500\n",
      "500\n",
      "500\n",
      "500\n",
      "500\n",
      "500\n",
      "500\n"
     ]
    }
   ],
   "source": [
    "for test in test_prof_avg_fit:\n",
    "    print(len(test))"
   ]
  },
  {
   "cell_type": "code",
   "execution_count": 10,
   "metadata": {
    "collapsed": true
   },
   "outputs": [
    {
     "data": {
      "image/png": "[encoded data removed]",
      "text/plain": [
       "<Figure size 1080x432 with 2 Axes>"
      ]
     },
     "metadata": {
      "needs_background": "light"
     },
     "output_type": "display_data"
    }
   ],
   "source": [
    "test_std_of_avg = []\n",
    "test_std_of_best = []\n",
    "for gen in range(ea.MAX_NUM_OF_GEN):\n",
    "    std = np.std([x[gen] for x in test_prof_avg_fit])\n",
    "    test_std_of_avg.append(std)\n",
    "    std = np.std([x[gen] for x in test_prof_best_fit])\n",
    "    test_std_of_best.append(std)\n",
    "\n",
    "fig = plt.figure(figsize=(ppg.PLOT_WIDTH,ppg.PLOT_HEIGHT))\n",
    "fig.subplots_adjust(wspace=0.7)\n",
    "\n",
    "plt.subplot(1,2,1)\n",
    "plt.plot(generation_profile, test_std_of_avg, color='red')\n",
    "plt.ylabel('std of avg fitness')\n",
    "plt.xlabel('generation')\n",
    "plt.ylim(0,210);\n",
    "\n",
    "plt.subplot(1,2,2)\n",
    "plt.plot(generation_profile, test_std_of_best, color='red')\n",
    "plt.ylabel('std of best fitness')\n",
    "plt.xlabel('generation')\n",
    "plt.ylim(0,210);"
   ]
  },
  {
   "cell_type": "code",
   "execution_count": null,
   "metadata": {},
   "outputs": [],
   "source": []
  },
  {
   "cell_type": "code",
   "execution_count": null,
   "metadata": {},
   "outputs": [],
   "source": []
  },
  {
   "cell_type": "code",
   "execution_count": null,
   "metadata": {},
   "outputs": [],
   "source": []
  },
  {
   "cell_type": "code",
   "execution_count": null,
   "metadata": {},
   "outputs": [],
   "source": []
  },
  {
   "cell_type": "code",
   "execution_count": null,
   "metadata": {},
   "outputs": [],
   "source": []
  },
  {
   "cell_type": "code",
   "execution_count": null,
   "metadata": {},
   "outputs": [],
   "source": []
  },
  {
   "cell_type": "code",
   "execution_count": null,
   "metadata": {},
   "outputs": [],
   "source": []
  },
  {
   "cell_type": "code",
   "execution_count": null,
   "metadata": {},
   "outputs": [],
   "source": []
  },
  {
   "cell_type": "code",
   "execution_count": 13,
   "metadata": {},
   "outputs": [],
   "source": [
    "# hello = np.array(['a', 'b', 'c'])\n",
    "# world = np.array([1, 2])\n",
    "# hello[world]"
   ]
  },
  {
   "cell_type": "code",
   "execution_count": 14,
   "metadata": {},
   "outputs": [],
   "source": [
    "# for i in range(np.array([1, 2, 3, 4, 5]).shape[0]):\n",
    "#     print(i)"
   ]
  },
  {
   "cell_type": "code",
   "execution_count": 15,
   "metadata": {},
   "outputs": [],
   "source": [
    "# a= np.array([i for i in range(10)])\n",
    "# b= np.cumsum(a)\n",
    "# print(b)"
   ]
  },
  {
   "cell_type": "code",
   "execution_count": 16,
   "metadata": {},
   "outputs": [],
   "source": [
    "# a[a>5]"
   ]
  },
  {
   "cell_type": "code",
   "execution_count": 17,
   "metadata": {},
   "outputs": [],
   "source": [
    "# b[a>5]"
   ]
  },
  {
   "cell_type": "code",
   "execution_count": 18,
   "metadata": {},
   "outputs": [],
   "source": [
    "# b[b>5]"
   ]
  },
  {
   "cell_type": "code",
   "execution_count": 19,
   "metadata": {},
   "outputs": [],
   "source": [
    "# b[-1]"
   ]
  },
  {
   "cell_type": "code",
   "execution_count": 20,
   "metadata": {},
   "outputs": [],
   "source": [
    "# b[[1,4,3]]"
   ]
  },
  {
   "cell_type": "code",
   "execution_count": 21,
   "metadata": {},
   "outputs": [],
   "source": [
    "# list(b)"
   ]
  },
  {
   "cell_type": "code",
   "execution_count": 22,
   "metadata": {},
   "outputs": [],
   "source": [
    "# def swap1(a):\n",
    "#     a[0],a[1] = a[1],a[0]\n",
    "\n",
    "# a = [0, 1]\n",
    "# swap1(a)\n",
    "# print(a)"
   ]
  },
  {
   "cell_type": "code",
   "execution_count": 23,
   "metadata": {},
   "outputs": [],
   "source": [
    "# a[0:2]"
   ]
  },
  {
   "cell_type": "code",
   "execution_count": 24,
   "metadata": {},
   "outputs": [],
   "source": [
    "# a = [1, 2, 4, 5, 6, 7]\n",
    "# a[2:6][::-1]"
   ]
  },
  {
   "cell_type": "code",
   "execution_count": 25,
   "metadata": {},
   "outputs": [],
   "source": [
    "# a = [(1,2)]\n",
    "# (2, 1) in a"
   ]
  },
  {
   "cell_type": "code",
   "execution_count": 26,
   "metadata": {},
   "outputs": [],
   "source": [
    "# a = [1, 2, 3, 4, 5]\n",
    "# b = []\n",
    "# b.append(a)\n",
    "# b.append(a)\n",
    "# b"
   ]
  },
  {
   "cell_type": "code",
   "execution_count": 27,
   "metadata": {},
   "outputs": [],
   "source": [
    "# a= [1,2,3,4,5,6,7,8,9]\n",
    "# b = a\n",
    "# b[2:5] = [2222]\n",
    "# print(a)"
   ]
  },
  {
   "cell_type": "code",
   "execution_count": 28,
   "metadata": {},
   "outputs": [],
   "source": [
    "# a= [1,2,3,4,5,6,7,8,9]\n",
    "# b = a[:]\n",
    "# b[2:5] = [2222]\n",
    "# print(a)\n",
    "# print(b)"
   ]
  },
  {
   "cell_type": "code",
   "execution_count": 29,
   "metadata": {},
   "outputs": [],
   "source": [
    "# partially_mapped_crossover([list(range(1,10)),[9,3,7,8,2,6,5,1,4]],get_parents_pair_nodup)"
   ]
  },
  {
   "cell_type": "code",
   "execution_count": 30,
   "metadata": {},
   "outputs": [],
   "source": [
    "# np.array([-1]*8) + 1"
   ]
  },
  {
   "cell_type": "code",
   "execution_count": 31,
   "metadata": {},
   "outputs": [],
   "source": [
    "# chrom_size = 10\n",
    "# table = [[] for i in range(chrom_size)]\n",
    "# print(table)\n",
    "# table[1].append((2,False))\n",
    "# table[1].append((3,True))\n",
    "# print(table)"
   ]
  },
  {
   "cell_type": "code",
   "execution_count": 32,
   "metadata": {},
   "outputs": [],
   "source": [
    "# a = [(x, True) for x in range(10)]\n",
    "# a.remove((1, True))\n",
    "# print(a)\n",
    "# a.remove()"
   ]
  },
  {
   "cell_type": "code",
   "execution_count": 33,
   "metadata": {},
   "outputs": [],
   "source": [
    "# a = [[],[]]\n",
    "# a.empty()"
   ]
  },
  {
   "cell_type": "code",
   "execution_count": 34,
   "metadata": {},
   "outputs": [],
   "source": [
    "# random.choice([])"
   ]
  },
  {
   "cell_type": "code",
   "execution_count": 35,
   "metadata": {},
   "outputs": [],
   "source": [
    "# a = [1, 2, 4]\n",
    "# b = np.cumsum(a)\n",
    "# print(a)\n",
    "# print(b)\n",
    "# type(b)"
   ]
  },
  {
   "cell_type": "code",
   "execution_count": 36,
   "metadata": {},
   "outputs": [],
   "source": [
    "# for i in range(50):\n",
    "#     r =random.randint(0,10)\n",
    "#     print(r)"
   ]
  },
  {
   "cell_type": "code",
   "execution_count": null,
   "metadata": {},
   "outputs": [],
   "source": []
  },
  {
   "cell_type": "code",
   "execution_count": null,
   "metadata": {},
   "outputs": [],
   "source": []
  },
  {
   "cell_type": "code",
   "execution_count": null,
   "metadata": {},
   "outputs": [],
   "source": []
  },
  {
   "cell_type": "code",
   "execution_count": 37,
   "metadata": {},
   "outputs": [],
   "source": [
    "# print(f'hello %.2f%%'%10.234)"
   ]
  },
  {
   "cell_type": "code",
   "execution_count": 38,
   "metadata": {},
   "outputs": [],
   "source": [
    "# ll = [(5,[1,1,1,2]),(6,[1,1,1,2]),(1,[1,1,1,2]),(3,[1,1,1,2]),(2,[1,1,1,2])]\n",
    "# x = sorted(ll,reverse=True)[:3]"
   ]
  },
  {
   "cell_type": "code",
   "execution_count": 39,
   "metadata": {},
   "outputs": [],
   "source": [
    "# [y[1] for y in x]"
   ]
  },
  {
   "cell_type": "code",
   "execution_count": null,
   "metadata": {},
   "outputs": [],
   "source": []
  },
  {
   "cell_type": "code",
   "execution_count": 15,
   "metadata": {},
   "outputs": [],
   "source": [
    "# plt.figure(figsize=(10,10))\n",
    "# for i in range(10):\n",
    "#     plt.subplot(2,1,1)\n",
    "#     plt.plot([0,1,4],[1,i,3])\n",
    "#     plt.subplot(2,1,2)\n",
    "#     plt.plot([0,1,4],[2,i+1,1])\n"
   ]
  },
  {
   "cell_type": "code",
   "execution_count": 1,
   "metadata": {},
   "outputs": [],
   "source": [
    "# a = [[1,2,24,25,26,27,27], [3,4,23,22,12,16,17]]\n",
    "# np.average(a[:][0])"
   ]
  },
  {
   "cell_type": "code",
   "execution_count": 2,
   "metadata": {},
   "outputs": [],
   "source": [
    "# a[:][:]"
   ]
  },
  {
   "cell_type": "code",
   "execution_count": 3,
   "metadata": {},
   "outputs": [],
   "source": [
    "# a[0]"
   ]
  },
  {
   "cell_type": "code",
   "execution_count": 4,
   "metadata": {},
   "outputs": [],
   "source": [
    "# avg_list = []\n",
    "# for i in range(7):\n",
    "#     gen_list = [x[i] for x in a]\n",
    "#     avg = np.average(gen_list)\n",
    "#     avg_list.append(avg)"
   ]
  },
  {
   "cell_type": "code",
   "execution_count": 5,
   "metadata": {},
   "outputs": [],
   "source": [
    "# avg_list"
   ]
  },
  {
   "cell_type": "code",
   "execution_count": null,
   "metadata": {},
   "outputs": [],
   "source": []
  }
 ],
 "metadata": {
  "kernelspec": {
   "display_name": "Python 3",
   "language": "python",
   "name": "python3"
  },
  "language_info": {
   "codemirror_mode": {
    "name": "ipython",
    "version": 3
   },
   "file_extension": ".py",
   "mimetype": "text/x-python",
   "name": "python",
   "nbconvert_exporter": "python",
   "pygments_lexer": "ipython3",
   "version": "3.7.5"
  }
 },
 "nbformat": 4,
 "nbformat_minor": 2
}
