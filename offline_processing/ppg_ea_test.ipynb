{
 "cells": [
  {
   "cell_type": "code",
   "execution_count": 10,
   "metadata": {},
   "outputs": [],
   "source": [
    "import random\n",
    "import numpy as np\n",
    "import cv2 as cv\n",
    "import ppg_init as ppg\n",
    "import seqeval\n",
    "import ipywidgets as widgets\n",
    "import evolutionary_algorithms as ea\n",
    "from matplotlib import pyplot as plt\n",
    "import pandas as pd\n",
    "\n",
    "DEBUGMODE = False"
   ]
  },
  {
   "cell_type": "code",
   "execution_count": 2,
   "metadata": {},
   "outputs": [],
   "source": [
    "number_gray = np.zeros((ppg.NO_SYMBOLS, ppg.IMG_WIDTH ,ppg.IMG_HEIGHT))\n",
    "for i in range (ppg.NO_SYMBOLS):\n",
    "    number_image = cv.imread(ppg.IMAGE_PATH+' '+str(i)+' dilated.png')\n",
    "    number_gray[i] = cv.cvtColor(number_image, cv.COLOR_BGR2GRAY)"
   ]
  },
  {
   "cell_type": "code",
   "execution_count": 3,
   "metadata": {},
   "outputs": [
    {
     "data": {
      "image/png": "[encoded data removed]",
      "text/plain": [
       "<Figure size 1080x432 with 3 Axes>"
      ]
     },
     "metadata": {
      "needs_background": "light"
     },
     "output_type": "display_data"
    }
   ],
   "source": [
    "stride = 25\n",
    "lrbp_threshold = 10 # low resolution black pixels threshold. \n",
    "# this is used when we want to count the number of the black pixels in the high resolution image\n",
    "# and decide whether to mark the corresponding pixel in low resolution image black.\n",
    "new_imgw = int(ppg.IMG_WIDTH/stride)\n",
    "new_imgh = int(ppg.IMG_HEIGHT/stride)\n",
    "new_img = np.ones((ppg.NO_SYMBOLS, new_imgw, new_imgh))*255\n",
    "new_img2 = np.ones((ppg.NO_SYMBOLS, new_imgw, new_imgh))*255\n",
    "# stride is always an odd number.\n",
    "\n",
    "for i in range(ppg.NO_SYMBOLS):\n",
    "    my_img = number_gray[i]\n",
    "    # jump a 3,3 square and check for any black pixel within the area.\n",
    "\n",
    "    for x in range(0, len(my_img), stride):\n",
    "        for y in range(0, len(my_img[x]), stride):\n",
    "            # stride is always an odd number.\n",
    "            offset = int((stride-1)/2)\n",
    "            new_x = int(x/stride)\n",
    "            new_y = int(y/stride)\n",
    "            black_pxl_vec = my_img[x-offset:x+offset+1,y-offset:y+offset+1]<50\n",
    "            black_pxl_num = np.sum(black_pxl_vec)\n",
    "#             print(has_black_pxl, end=' ')\n",
    "            if(black_pxl_num>lrbp_threshold): # has at least one black pixel\n",
    "                new_img[i,new_x,new_y] = 0\n",
    "#         print(' ')\n",
    "#     print('====================')\n",
    "ppg.plot_digits(new_img)"
   ]
  },
  {
   "cell_type": "code",
   "execution_count": 4,
   "metadata": {},
   "outputs": [
    {
     "data": {
      "text/plain": [
       "(3, 12, 12)"
      ]
     },
     "execution_count": 4,
     "metadata": {},
     "output_type": "execute_result"
    }
   ],
   "source": [
    "new_img.shape"
   ]
  },
  {
   "cell_type": "code",
   "execution_count": 5,
   "metadata": {},
   "outputs": [
    {
     "name": "stdout",
     "output_type": "stream",
     "text": [
      "black pixels list for number  0 :\n",
      "21 \n",
      "\n",
      "black pixels list for number  1 :\n",
      "35 \n",
      "\n",
      "black pixels list for number  2 :\n",
      "42 \n",
      "\n",
      "[[(2, 5), (2, 6), (3, 5), (3, 7), (4, 5), (4, 7), (5, 4), (5, 7), (6, 4), (6, 5), (6, 6), (6, 7), (7, 3), (7, 4), (7, 7), (7, 8), (8, 3), (8, 8), (9, 2), (9, 3), (9, 8)], [(2, 5), (2, 6), (3, 5), (3, 6), (4, 5), (4, 6), (4, 7), (5, 1), (5, 2), (5, 3), (5, 4), (5, 5), (5, 7), (5, 8), (5, 9), (5, 10), (6, 3), (6, 4), (6, 8), (6, 9), (7, 4), (7, 7), (7, 8), (8, 3), (8, 4), (8, 5), (8, 6), (8, 8), (9, 3), (9, 4), (9, 5), (9, 7), (9, 8), (10, 3), (10, 8)], [(1, 10), (1, 11), (2, 9), (2, 10), (3, 7), (3, 8), (3, 9), (4, 7), (4, 8), (5, 7), (5, 8), (6, 7), (6, 8), (6, 9), (7, 1), (7, 2), (7, 6), (7, 7), (7, 8), (7, 9), (7, 10), (7, 11), (8, 1), (8, 2), (8, 3), (8, 4), (8, 5), (8, 6), (8, 7), (8, 8), (8, 9), (8, 10), (9, 2), (9, 3), (9, 4), (9, 5), (10, 8), (10, 10), (11, 8), (11, 9), (11, 10), (11, 11)]]\n"
     ]
    }
   ],
   "source": [
    "sequence_num = []\n",
    "for symbol in range(ppg.NO_SYMBOLS):\n",
    "    sequence = []\n",
    "    for row in range(len(new_img[symbol])):\n",
    "        for col in range(len(new_img[symbol, row])):\n",
    "            if new_img[symbol, row, col]==0:\n",
    "                sequence.append((row, col))\n",
    "    sequence_num.append(sequence)\n",
    "    if(DEBUGMODE):\n",
    "        print('black pixels list for number ', symbol, ':')\n",
    "        print(len(sequence), '\\n')\n",
    "        \n",
    "if(DEBUGMODE):\n",
    "    print(sequence_num)"
   ]
  },
  {
   "cell_type": "code",
   "execution_count": 6,
   "metadata": {},
   "outputs": [],
   "source": [
    "ea.DIGIT=0\n",
    "ea.P_MUTATION = 0.8\n",
    "ea.P_CROSSOVER = 1.0\n",
    "ea.POPULATION_SIZE = 500\n",
    "ea.MAX_NUM_OF_GEN = 1500"
   ]
  },
  {
   "cell_type": "code",
   "execution_count": 11,
   "metadata": {},
   "outputs": [
    {
     "name": "stdout",
     "output_type": "stream",
     "text": [
      "0.\n",
      "generation = 1500  progress: 100.0%  [########################################]      \r"
     ]
    },
    {
     "data": {
      "image/png": "[encoded data removed]",
      "text/plain": [
       "<Figure size 864x720 with 2 Axes>"
      ]
     },
     "metadata": {
      "needs_background": "light"
     },
     "output_type": "display_data"
    }
   ],
   "source": [
    "fig = plt.figure(figsize=(12,10))\n",
    "fig.subplots_adjust(hspace=1,wspace=0.7)\n",
    "print(0,'.',sep='')\n",
    "sol_num = []\n",
    "i = 0\n",
    "ea.DIGIT=i\n",
    "(generation_profile, \n",
    "avg_fitness_profile, \n",
    "best_fitness_profile, \n",
    "best_ind_pheno_profile) = ea.train_evolve(mutation=ea.swap_mutation,\n",
    "            crossover=ea.edge_recombination,\n",
    "            parent_sel=ea.from_population_best_parents_select, \n",
    "            get_parents_pair_method=ea.get_parents_pair_nodup,\n",
    "            population_sel=ea.best_population_select, \n",
    "            population_init=ea.population_init, \n",
    "            population_terminate=ea.population_terminate, \n",
    "            vertices=sequence_num,\n",
    "            desired_pheno=new_img,\n",
    "            fitness_func=ea.fitness_func,\n",
    "            geno2pheno=ea.geno2pheno)\n",
    "plt.subplot(1,2,1)\n",
    "plt.plot(generation_profile,avg_fitness_profile)\n",
    "plt.title('digit '+str(ea.DIGIT))\n",
    "plt.ylabel('avg fitness')\n",
    "plt.xlabel('generation')\n",
    "plt.ylim(0,(ppg.LOW_RESOLUTION_IMG_SIZE**2) *2 + 10);\n",
    "\n",
    "plt.subplot(1,2,2)\n",
    "plt.plot(generation_profile,best_fitness_profile)\n",
    "plt.ylabel('best fitness')\n",
    "plt.xlabel('generation')\n",
    "plt.ylim(0,(ppg.LOW_RESOLUTION_IMG_SIZE**2) *2 + 10);\n",
    "sol_num.append(best_ind_pheno_profile[-1])"
   ]
  },
  {
   "cell_type": "code",
   "execution_count": 12,
   "metadata": {},
   "outputs": [
    {
     "name": "stdout",
     "output_type": "stream",
     "text": [
      "0.\n",
      "generation = 1500  progress: 100.0%  [########################################]      \r"
     ]
    },
    {
     "data": {
      "image/png": "[encoded data removed]",
      "text/plain": [
       "<Figure size 864x720 with 2 Axes>"
      ]
     },
     "metadata": {
      "needs_background": "light"
     },
     "output_type": "display_data"
    }
   ],
   "source": [
    "fig = plt.figure(figsize=(12,10))\n",
    "fig.subplots_adjust(hspace=1,wspace=0.7)\n",
    "print(0,'.',sep='')\n",
    "sol_num = []\n",
    "i = 1\n",
    "ea.DIGIT=i\n",
    "(generation_profile, \n",
    "avg_fitness_profile, \n",
    "best_fitness_profile, \n",
    "best_ind_pheno_profile) = ea.train_evolve(mutation=ea.swap_mutation,\n",
    "            crossover=ea.edge_recombination,\n",
    "            parent_sel=ea.from_population_best_parents_select, \n",
    "            get_parents_pair_method=ea.get_parents_pair_nodup,\n",
    "            population_sel=ea.best_population_select, \n",
    "            population_init=ea.population_init, \n",
    "            population_terminate=ea.population_terminate, \n",
    "            vertices=sequence_num,\n",
    "            desired_pheno=new_img,\n",
    "            fitness_func=ea.fitness_func,\n",
    "            geno2pheno=ea.geno2pheno)\n",
    "plt.subplot(1,2,1)\n",
    "plt.plot(generation_profile,avg_fitness_profile)\n",
    "plt.title('digit '+str(ea.DIGIT))\n",
    "plt.ylabel('avg fitness')\n",
    "plt.xlabel('generation')\n",
    "plt.ylim(0,(ppg.LOW_RESOLUTION_IMG_SIZE**2) *2 + 10);\n",
    "\n",
    "plt.subplot(1,2,2)\n",
    "plt.plot(generation_profile,best_fitness_profile)\n",
    "plt.ylabel('best fitness')\n",
    "plt.xlabel('generation')\n",
    "plt.ylim(0,(ppg.LOW_RESOLUTION_IMG_SIZE**2) *2 + 10);\n",
    "sol_num.append(best_ind_pheno_profile[-1])"
   ]
  },
  {
   "cell_type": "code",
   "execution_count": 13,
   "metadata": {},
   "outputs": [
    {
     "name": "stdout",
     "output_type": "stream",
     "text": [
      "0.\n",
      "generation = 1500  progress: 100.0%  [########################################]      \r"
     ]
    },
    {
     "data": {
      "image/png": "[encoded data removed]",
      "text/plain": [
       "<Figure size 864x720 with 2 Axes>"
      ]
     },
     "metadata": {
      "needs_background": "light"
     },
     "output_type": "display_data"
    }
   ],
   "source": [
    "fig = plt.figure(figsize=(12,10))\n",
    "fig.subplots_adjust(hspace=1,wspace=0.7)\n",
    "print(0,'.',sep='')\n",
    "sol_num = []\n",
    "i = 2\n",
    "ea.DIGIT=i\n",
    "(generation_profile, \n",
    "avg_fitness_profile, \n",
    "best_fitness_profile, \n",
    "best_ind_pheno_profile) = ea.train_evolve(mutation=ea.swap_mutation,\n",
    "            crossover=ea.edge_recombination,\n",
    "            parent_sel=ea.from_population_best_parents_select, \n",
    "            get_parents_pair_method=ea.get_parents_pair_nodup,\n",
    "            population_sel=ea.best_population_select, \n",
    "            population_init=ea.population_init, \n",
    "            population_terminate=ea.population_terminate, \n",
    "            vertices=sequence_num,\n",
    "            desired_pheno=new_img,\n",
    "            fitness_func=ea.fitness_func,\n",
    "            geno2pheno=ea.geno2pheno)\n",
    "plt.subplot(1,2,1)\n",
    "plt.plot(generation_profile,avg_fitness_profile)\n",
    "plt.title('digit '+str(ea.DIGIT))\n",
    "plt.ylabel('avg fitness')\n",
    "plt.xlabel('generation')\n",
    "plt.ylim(0,(ppg.LOW_RESOLUTION_IMG_SIZE**2) *2 + 10);\n",
    "\n",
    "plt.subplot(1,2,2)\n",
    "plt.plot(generation_profile,best_fitness_profile)\n",
    "plt.ylabel('best fitness')\n",
    "plt.xlabel('generation')\n",
    "plt.ylim(0,(ppg.LOW_RESOLUTION_IMG_SIZE**2) *2 + 10);\n",
    "sol_num.append(best_ind_pheno_profile[-1])"
   ]
  },
  {
   "cell_type": "code",
   "execution_count": 7,
   "metadata": {},
   "outputs": [],
   "source": [
    "low_res_drawing = cv.imread('..\\\\data\\\\low resolution drawings\\\\symbol 0.png')\n",
    "low_res_drawing_gray = cv.cvtColor(low_res_drawing, cv.COLOR_BGR2GRAY)"
   ]
  },
  {
   "cell_type": "code",
   "execution_count": 8,
   "metadata": {},
   "outputs": [
    {
     "name": "stdout",
     "output_type": "stream",
     "text": [
      "black pixels list for number  2 :\n",
      "28 \n",
      "\n",
      "[(1, 4), (1, 5), (1, 6), (2, 3), (2, 7), (3, 3), (3, 7), (4, 4), (4, 5), (4, 6), (5, 5), (6, 1), (6, 2), (6, 3), (6, 4), (6, 5), (6, 6), (6, 7), (6, 8), (6, 9), (7, 5), (8, 5), (9, 4), (9, 6), (10, 3), (10, 7), (11, 2), (11, 8)]\n",
      "4\n"
     ]
    }
   ],
   "source": [
    "sequence = []\n",
    "for row in range(len(low_res_drawing_gray)):\n",
    "    for col in range(len(low_res_drawing_gray[row])):\n",
    "        if low_res_drawing_gray[row, col]==0:\n",
    "            sequence.append((row, col))\n",
    "sequence_num.append(sequence)\n",
    "if(DEBUGMODE):\n",
    "    print('black pixels list for number ', symbol, ':')\n",
    "    print(len(sequence), '\\n')\n",
    "        \n",
    "if(DEBUGMODE):\n",
    "    print(sequence_num[-1])\n",
    "#     print(len(sequence_num))"
   ]
  },
  {
   "cell_type": "code",
   "execution_count": 9,
   "metadata": {},
   "outputs": [
    {
     "name": "stdout",
     "output_type": "stream",
     "text": [
      "0.\n",
      "generation = 1500  progress: 100.0%  [########################################]      \r"
     ]
    },
    {
     "data": {
      "image/png": "[encoded data removed]",
      "text/plain": [
       "<Figure size 864x720 with 2 Axes>"
      ]
     },
     "metadata": {
      "needs_background": "light"
     },
     "output_type": "display_data"
    }
   ],
   "source": [
    "fig = plt.figure(figsize=(12,10))\n",
    "fig.subplots_adjust(hspace=1,wspace=0.7)\n",
    "print(0,'.',sep='')\n",
    "sol_num = []\n",
    "i = 3\n",
    "ea.DIGIT=i\n",
    "(generation_profile, \n",
    "avg_fitness_profile, \n",
    "best_fitness_profile, \n",
    "best_ind_pheno_profile) = ea.train_evolve(mutation=ea.swap_mutation,\n",
    "            crossover=ea.edge_recombination,\n",
    "            parent_sel=ea.from_population_best_parents_select, \n",
    "            get_parents_pair_method=ea.get_parents_pair_nodup,\n",
    "            population_sel=ea.best_population_select, \n",
    "            population_init=ea.population_init, \n",
    "            population_terminate=ea.population_terminate, \n",
    "            vertices=sequence_num,\n",
    "            desired_pheno=low_res_drawing_gray,\n",
    "            fitness_func=ea.fitness_func,\n",
    "            geno2pheno=ea.geno2pheno)\n",
    "plt.subplot(1,2,1)\n",
    "plt.plot(generation_profile,avg_fitness_profile)\n",
    "plt.title('digit '+str(ea.DIGIT))\n",
    "plt.ylabel('avg fitness')\n",
    "plt.xlabel('generation')\n",
    "plt.ylim(0,(ppg.LOW_RESOLUTION_IMG_SIZE**2) *2 +10);\n",
    "\n",
    "plt.subplot(1,2,2)\n",
    "plt.plot(generation_profile,best_fitness_profile)\n",
    "plt.ylabel('best fitness')\n",
    "plt.xlabel('generation')\n",
    "plt.ylim(0,(ppg.LOW_RESOLUTION_IMG_SIZE**2) *2 +10);\n",
    "sol_num.append(best_ind_pheno_profile[-1])"
   ]
  },
  {
   "cell_type": "code",
   "execution_count": 17,
   "metadata": {},
   "outputs": [
    {
     "data": {
      "image/png": "[encoded data removed]",
      "text/plain": [
       "<Figure size 864x720 with 8 Axes>"
      ]
     },
     "metadata": {
      "needs_background": "light"
     },
     "output_type": "display_data"
    }
   ],
   "source": [
    "fig = plt.figure(figsize=(12,10))\n",
    "fig.subplots_adjust(hspace=1,wspace=0.7)\n",
    "\n",
    "for i in range(ppg.NO_SYMBOLS+1):\n",
    "    plt.subplot(5,4,2*i+1)\n",
    "    plt.plot(generation_profile,avg_fitness_profile)\n",
    "    plt.title('digit '+str(ea.DIGIT))\n",
    "    plt.ylabel('avg fitness')\n",
    "    plt.xlabel('generation')\n",
    "    plt.ylim(0,(ppg.LOW_RESOLUTION_IMG_SIZE**2) *2 + 10);\n",
    "    \n",
    "    plt.subplot(5,4,2*i+2)\n",
    "    plt.plot(generation_profile,best_fitness_profile)\n",
    "    plt.ylabel('best fitness')\n",
    "    plt.xlabel('generation')\n",
    "    plt.ylim(0,(ppg.LOW_RESOLUTION_IMG_SIZE**2) *2 + 10);\n",
    "    \n",
    "    sol_num.append(best_ind_pheno_profile[-1])"
   ]
  },
  {
   "cell_type": "code",
   "execution_count": 15,
   "metadata": {},
   "outputs": [
    {
     "name": "stdout",
     "output_type": "stream",
     "text": [
      "[(11, 11), (11, 10), (11, 9), (11, 8), (8, 9), (8, 5), (9, 5), (7, 1), (9, 4), (9, 3), (9, 2), (7, 2), (8, 2), (8, 3), (8, 4), (8, 8), (4, 7), (2, 10), (3, 8), (1, 11), (2, 9), (6, 8), (7, 10), (7, 6), (10, 10), (10, 8), (6, 9), (8, 10), (7, 8), (3, 7), (5, 7), (7, 9), (6, 7), (3, 9), (4, 8), (5, 8), (8, 7), (7, 11), (7, 7), (1, 10), (8, 6), (8, 1)]\n"
     ]
    },
    {
     "data": {
      "image/png": "[encoded data removed]",
      "text/plain": [
       "<Figure size 1080x432 with 5 Axes>"
      ]
     },
     "metadata": {
      "needs_background": "light"
     },
     "output_type": "display_data"
    }
   ],
   "source": [
    "df = []\n",
    "plt.figure(figsize=(ppg.PLOT_WIDTH, ppg.PLOT_HEIGHT))\n",
    "for i in range(len(sol_num)):\n",
    "    plt.subplot(2,5,i+1)\n",
    "    plt.imshow(seqeval.draw_digit(sol_num[i], ppg.LOW_RESOLUTION_IMG_SIZE),cmap='gray')\n",
    "    plt.axis('off')\n",
    "    df.append(pd.DataFrame(sol_num[i], columns=['x','y']))\n",
    "    if i ==2:\n",
    "        print(sol_num[i])\n",
    "    "
   ]
  },
  {
   "cell_type": "code",
   "execution_count": 18,
   "metadata": {},
   "outputs": [],
   "source": [
    "# sol_num"
   ]
  },
  {
   "cell_type": "code",
   "execution_count": null,
   "metadata": {},
   "outputs": [],
   "source": []
  }
 ],
 "metadata": {
  "kernelspec": {
   "display_name": "Python 3",
   "language": "python",
   "name": "python3"
  },
  "language_info": {
   "codemirror_mode": {
    "name": "ipython",
    "version": 3
   },
   "file_extension": ".py",
   "mimetype": "text/x-python",
   "name": "python",
   "nbconvert_exporter": "python",
   "pygments_lexer": "ipython3",
   "version": "3.7.5"
  }
 },
 "nbformat": 4,
 "nbformat_minor": 2
}
