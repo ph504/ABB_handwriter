{
 "cells": [
  {
   "cell_type": "markdown",
   "metadata": {},
   "source": [
    "# Testing ppgGA\n",
    "testing the path pattern generator using genetics algorithm with genetics algorithm aproach"
   ]
  },
  {
   "cell_type": "code",
   "execution_count": 1,
   "metadata": {},
   "outputs": [
    {
     "name": "stdout",
     "output_type": "stream",
     "text": [
      "initialized data stored in the following directory:\n",
      "/d/APh504/Bachelor/Semester 10/1.project/my_project/offline_processing\n"
     ]
    }
   ],
   "source": [
    "import ppg_ea\n",
    "import random"
   ]
  },
  {
   "cell_type": "markdown",
   "metadata": {},
   "source": [
    "## Testing\n",
    "1. [Mutations](#Mutations)\n",
    "    1. `insert_mutation`\n",
    "    1. `scramble_mutation`\n",
    "    1. `inverse_mutation`\n",
    "    1. `swap_mutation`\n",
    "2. [Recombinations](#Recombinations)\n",
    "    1. `order1_crossover`\n",
    "    1. `partially_mapped_crossover`\n",
    "    1. `cycle_crossover`\n",
    "    1. `edge_recombination`\n",
    "3. [SSGA Selections](#Selections(SSGA))\n",
    "    1. [Parent Selection](#Parent-Selection)\n",
    "    2. [Survival Selection](#Survival-Selection)\n",
    "        1. `random_population_select`\n",
    "        1. `best_population_select`\n",
    "        1. `fitness_porportionate_select`\n",
    "        1. `linear_ranked_based_select`\n",
    "        1. `exponential_ranked_based_select`\n",
    "4. [Population control functions](#MISC-and-population-related)"
   ]
  },
  {
   "cell_type": "code",
   "execution_count": 2,
   "metadata": {},
   "outputs": [],
   "source": [
    "TEST_NUM = 4"
   ]
  },
  {
   "cell_type": "code",
   "execution_count": 3,
   "metadata": {},
   "outputs": [],
   "source": [
    "def test_insert_mutation():\n",
    "    test_child = list(range(10))\n",
    "    # testing 10 times\n",
    "    print('input before applying mutation:')\n",
    "    print(test_child)\n",
    "    print('-------------------------------')\n",
    "    test_num = TEST_NUM\n",
    "    for i in range(test_num):\n",
    "        print('\\n =================== i= ', i+1)\n",
    "        ppg_ea.insert_mutation(test_child)\n",
    "        print(test_child)"
   ]
  },
  {
   "cell_type": "code",
   "execution_count": 4,
   "metadata": {},
   "outputs": [],
   "source": [
    "def test_scramble_mutation():\n",
    "    test_child = list(range(10))\n",
    "    # testing 10 times\n",
    "    print('input before applying mutation:')\n",
    "    print(test_child)\n",
    "    print('-------------------------------')\n",
    "    test_num = TEST_NUM\n",
    "    for i in range(test_num):\n",
    "        print('\\n =================== i= ', i+1)\n",
    "        ppg_ea.scramble_mutation(test_child)\n",
    "        print(test_child)"
   ]
  },
  {
   "cell_type": "code",
   "execution_count": 5,
   "metadata": {},
   "outputs": [],
   "source": [
    "def test_inverse_mutation():\n",
    "    test_child = list(range(10))\n",
    "    # testing 10 times\n",
    "    print('input before applying mutation:')\n",
    "    print(test_child)\n",
    "    print('-------------------------------')\n",
    "    test_num = TEST_NUM\n",
    "    for i in range(test_num):\n",
    "        print('\\n =================== i= ', i+1)\n",
    "        ppg_ea.inverse_mutation(test_child)\n",
    "        print(test_child)"
   ]
  },
  {
   "cell_type": "code",
   "execution_count": 6,
   "metadata": {},
   "outputs": [],
   "source": [
    "def test_swap_mutation():\n",
    "    test_child = list(range(10))\n",
    "    # testing 10 times\n",
    "    print('input before applying mutation:')\n",
    "    print(test_child)\n",
    "    print('-------------------------------')\n",
    "    test_num = TEST_NUM\n",
    "    for i in range(test_num):\n",
    "        print('\\n =================== i= ', i+1)\n",
    "        ppg_ea.swap_mutation(test_child)\n",
    "        print(test_child)"
   ]
  },
  {
   "cell_type": "code",
   "execution_count": 7,
   "metadata": {},
   "outputs": [],
   "source": [
    "# generating fake parents \n",
    "# out_option: if true will output the parents list.\n",
    "# test_parents_num: the number of parents to be generated.\n",
    "def test_generate_parents(test_parents_num=79, out_option=False):\n",
    "    # making random parents\n",
    "    test_parents = []\n",
    "    for i in range(test_parnets_num):\n",
    "        test_ind = list(range(10))\n",
    "        random.shuffle(test_ind)\n",
    "        test_parents.append(test_ind)\n",
    "        \n",
    "    if(out_option):\n",
    "        for x in test_parents:\n",
    "            print(x)\n",
    "    return test_parents"
   ]
  },
  {
   "cell_type": "code",
   "execution_count": 8,
   "metadata": {},
   "outputs": [],
   "source": [
    "def test_duplocal_parentspair(test_parents, out_option=False):\n",
    "    test_result_duplocal = ppg_ea.get_parents_pair_duplocal(test_parents)\n",
    "    if(out_option):\n",
    "        for x in test_result_duplocal:\n",
    "            print(x)\n",
    "    return test_result_duplocal"
   ]
  },
  {
   "cell_type": "code",
   "execution_count": 9,
   "metadata": {},
   "outputs": [],
   "source": [
    "def test_dupglobal_parentspair(test_parents, out_option=False):\n",
    "    test_result_dupglobal = ppg_ea.get_parents_pair_dupglobal(test_parents)\n",
    "    if(out_option):\n",
    "        for x in test_result_dupglobal:\n",
    "            print(x)\n",
    "    return test_result_dupglobal"
   ]
  },
  {
   "cell_type": "code",
   "execution_count": 10,
   "metadata": {},
   "outputs": [],
   "source": [
    "def test_nodup_parentspair(test_parents, out_option=False):\n",
    "    test_result_nodup = ppg_ea.get_parents_pair_nodup(test_parents)\n",
    "    if(out_option):\n",
    "        for x in test_result_nodup:\n",
    "            print(x)\n",
    "    return test_result_nodup"
   ]
  },
  {
   "cell_type": "code",
   "execution_count": 11,
   "metadata": {},
   "outputs": [],
   "source": [
    "def test_uniqpair_parentspair(test_parents, out_option=False, test_num=TEST_NUM):\n",
    "    ppg_ea.DEBUGMODE = True\n",
    "    okay_counter = 0\n",
    "    for i in range(test_num):\n",
    "        if(out_option):\n",
    "            print('test', i, ':')\n",
    "        test_result_uniqpair, test_result_uniqpair_i = ppg_ea.get_parents_pair_uniqpair(test_parents)\n",
    "        if(out_option):\n",
    "            set_test_result_uniqpair_i = set(test_result_uniqpair_i)\n",
    "            if(len(set_test_result_uniqpair_i)==len(test_result_uniqpair_i)):\n",
    "                print('okay!')\n",
    "                okay_counter +=1\n",
    "    if(out_option):\n",
    "        print('out of', test_num, 'tests,', okay_counter, 'successfully had no duplicate pairs!')\n",
    "    #     for x in test_result_uniqpair:\n",
    "    #         print(x)\n",
    "    ppg_ea.DEBUGMODE = False\n",
    "    return test_result_uniqpair"
   ]
  }
 ],
 "metadata": {
  "kernelspec": {
   "display_name": "Python 3",
   "language": "python",
   "name": "python3"
  },
  "language_info": {
   "codemirror_mode": {
    "name": "ipython",
    "version": 3
   },
   "file_extension": ".py",
   "mimetype": "text/x-python",
   "name": "python",
   "nbconvert_exporter": "python",
   "pygments_lexer": "ipython3",
   "version": "3.7.5"
  }
 },
 "nbformat": 4,
 "nbformat_minor": 2
}
