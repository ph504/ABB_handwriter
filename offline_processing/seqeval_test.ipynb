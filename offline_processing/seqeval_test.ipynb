{
 "cells": [
  {
   "cell_type": "code",
   "execution_count": 1,
   "metadata": {},
   "outputs": [
    {
     "name": "stdout",
     "output_type": "stream",
     "text": [
      "initialized data is stored in the following directory:\n",
      "..\\data\\generated image numbers\n"
     ]
    }
   ],
   "source": [
    "import seqeval\n",
    "import ppg_init as ppg\n",
    "import pandas as pd\n",
    "import matplotlib.pyplot as plt\n",
    "import numpy as np"
   ]
  },
  {
   "cell_type": "code",
   "execution_count": 2,
   "metadata": {},
   "outputs": [
    {
     "data": {
      "text/plain": [
       "[(7, 9),\n",
       " (7, 8),\n",
       " (6, 5),\n",
       " (6, 6),\n",
       " (5, 6),\n",
       " (7, 6),\n",
       " (7, 5),\n",
       " (4, 7),\n",
       " (5, 7),\n",
       " (7, 4),\n",
       " (7, 3),\n",
       " (7, 7),\n",
       " (3, 3),\n",
       " (2, 3),\n",
       " (2, 4),\n",
       " (2, 8),\n",
       " (3, 8),\n",
       " (2, 7),\n",
       " (1, 4),\n",
       " (1, 6),\n",
       " (1, 7),\n",
       " (1, 5)]"
      ]
     },
     "execution_count": 2,
     "metadata": {},
     "output_type": "execute_result"
    }
   ],
   "source": [
    "data_dir = '..\\\\data\\\\pathgen out\\\\'\n",
    "data_fname = 'path_Num_ea_'\n",
    "\n",
    "df = []\n",
    "for i in range(ppg.NO_DIGITS):\n",
    "    df.append(pd.read_csv(data_dir+\n",
    "        data_fname+str(i)+'.csv'))\n",
    "    \n",
    "x2 = df[2]['x']\n",
    "y2 = df[2]['y']\n",
    "z = [(x2[i],y2[i]) for i in range(len(x2))]\n",
    "z"
   ]
  },
  {
   "cell_type": "code",
   "execution_count": 3,
   "metadata": {},
   "outputs": [
    {
     "data": {
      "text/plain": [
       "(-0.5, 9.5, 9.5, -0.5)"
      ]
     },
     "execution_count": 3,
     "metadata": {},
     "output_type": "execute_result"
    },
    {
     "data": {
      "image/png": "[encoded data removed]",
      "text/plain": [
       "<Figure size 432x288 with 1 Axes>"
      ]
     },
     "metadata": {
      "needs_background": "light"
     },
     "output_type": "display_data"
    }
   ],
   "source": [
    "img = seqeval.draw_digit(z, ppg.LOW_RESOLUTION_IMG_SIZE)\n",
    "plt.figure()\n",
    "plt.imshow(img, cmap='gray')\n",
    "plt.axis('off')"
   ]
  },
  {
   "cell_type": "code",
   "execution_count": 4,
   "metadata": {},
   "outputs": [],
   "source": [
    "estimated_image = np.ones([ppg.LOW_RESOLUTION_IMG_SIZE,ppg.LOW_RESOLUTION_IMG_SIZE], dtype=int)\n",
    "p2 = (7,7)\n",
    "p1 = (3,3)\n",
    "seqeval.draw_line(estimated_image, p1, p2)"
   ]
  },
  {
   "cell_type": "code",
   "execution_count": 5,
   "metadata": {},
   "outputs": [
    {
     "data": {
      "text/plain": [
       "(-0.5, 9.5, 9.5, -0.5)"
      ]
     },
     "execution_count": 5,
     "metadata": {},
     "output_type": "execute_result"
    },
    {
     "data": {
      "image/png": "[encoded data removed]",
      "text/plain": [
       "<Figure size 432x288 with 1 Axes>"
      ]
     },
     "metadata": {
      "needs_background": "light"
     },
     "output_type": "display_data"
    }
   ],
   "source": [
    "plt.figure()\n",
    "plt.imshow(estimated_image, cmap='gray')\n",
    "plt.axis('off')"
   ]
  },
  {
   "cell_type": "markdown",
   "metadata": {},
   "source": [
    "## testing sampling in robot drawing."
   ]
  },
  {
   "cell_type": "code",
   "execution_count": 47,
   "metadata": {},
   "outputs": [],
   "source": [
    "import math\n",
    "NO_DIGITS = 10 # number of digits\n",
    "\n",
    "data_dir = '..\\\\data\\\\path(t) numbers\\\\'\n",
    "data_fname = 'patht_Num_ea_'\n",
    "\n",
    "DRAWING_TIME = 2 * math.pi + 1.5\n",
    "DIGIT = 0\n",
    "SAMPLE_DISTANCE = 0.01"
   ]
  },
  {
   "cell_type": "code",
   "execution_count": 48,
   "metadata": {},
   "outputs": [],
   "source": [
    "# Functions\n",
    "def sample_line(p1, p2):\n",
    "    dist = math.sqrt((p1[0]-p2[0])**2 + (p1[1]-p2[1])**2)\n",
    "    n = int(dist//SAMPLE_DISTANCE)\n",
    "    print(n)\n",
    "\n",
    "    sampx = np.zeros(n-1)\n",
    "    sampy = np.zeros(n-1)\n",
    "    for i in range(1,n):\n",
    "        sampx[i-1] = (p2[0]-p1[0]) * (i/n) + p1[0]\n",
    "        sampy[i-1] = (p2[1]-p1[1]) * (i/n) + p1[1]\n",
    "    return sampx, sampy"
   ]
  },
  {
   "cell_type": "code",
   "execution_count": 49,
   "metadata": {},
   "outputs": [],
   "source": [
    "# Load xt and yt data.\n",
    "df = []\n",
    "for i in range(NO_DIGITS):\n",
    "    df.append(pd.read_csv(data_dir+\n",
    "        data_fname+str(i)+'.csv'))"
   ]
  },
  {
   "cell_type": "code",
   "execution_count": 50,
   "metadata": {},
   "outputs": [
    {
     "name": "stdout",
     "output_type": "stream",
     "text": [
      "6\n",
      "6\n",
      "6\n",
      "6\n",
      "6\n",
      "6\n",
      "6\n",
      "6\n",
      "6\n",
      "6\n",
      "6\n",
      "[1.0, 1.011111111111111, 1.0222222222222224, 1.0333333333333334, 1.0444444444444445, 1.0555555555555558, 1.0666666666666669, 1.077777777777778, 1.088888888888889, 1.1, 1.1111111111111114, 1.1222222222222225, 1.1333333333333335, 1.1444444444444446, 1.1555555555555557, 1.166666666666667, 1.177777777777778, 1.188888888888889, 1.2000000000000002, 1.2000000000000002, 1.2000000000000002, 1.2000000000000002, 1.2000000000000002, 1.2000000000000002, 1.2000000000000002, 1.2000000000000002, 1.2000000000000002, 1.2000000000000002, 1.2000000000000002, 1.2000000000000002, 1.2000000000000002, 1.2000000000000002, 1.2000000000000002, 1.2000000000000002, 1.2000000000000002, 1.2000000000000002, 1.2000000000000002, 1.188888888888889, 1.177777777777778, 1.166666666666667, 1.1555555555555557, 1.1444444444444446, 1.1333333333333335, 1.1222222222222225, 1.1111111111111114, 1.1, 1.088888888888889, 1.077777777777778, 1.0666666666666669, 1.0555555555555558, 1.0444444444444445, 1.0333333333333334, 1.0222222222222224, 1.011111111111111, 1.0, 1.0, 1.0, 1.0, 1.0, 1.0, 1.0, 1.0, 1.0, 1.0, 1.0, 1.0, 1.0]\n",
      "67\n",
      "[-1.06, -1.06, -1.06, -1.06, -1.06, -1.06, -1.06, -1.06, -1.06, -1.06, -1.06, -1.06, -1.06, -1.06, -1.06, -1.06, -1.06, -1.06, -1.06, -1.048888888888889, -1.037777777777778, -1.0266666666666668, -1.0155555555555555, -1.0044444444444445, -0.9933333333333334, -0.9822222222222223, -0.9711111111111111, -0.9600000000000001, -0.948888888888889, -0.9377777777777778, -0.9266666666666667, -0.9155555555555557, -0.9044444444444445, -0.8933333333333334, -0.8822222222222224, -0.8711111111111112, -0.8600000000000001, -0.8600000000000001, -0.8600000000000001, -0.8600000000000001, -0.8600000000000001, -0.8600000000000001, -0.8600000000000001, -0.8600000000000001, -0.8600000000000001, -0.8600000000000001, -0.8600000000000001, -0.8600000000000001, -0.8600000000000001, -0.8600000000000001, -0.8600000000000001, -0.8600000000000001, -0.8600000000000001, -0.8600000000000001, -0.8600000000000001, -0.8711111111111112, -0.8822222222222224, -0.8933333333333334, -0.9044444444444445, -0.9155555555555557, -0.9266666666666667, -0.9377777777777778, -0.948888888888889, -0.9600000000000001, -0.9711111111111111, -0.9822222222222223, -0.9933333333333334]\n"
     ]
    }
   ],
   "source": [
    "ctr = 0\n",
    "# clock_period = DRAWING_TIME/len(df[DIGIT])\n",
    "clock_period = 0.5\n",
    "\n",
    "raw_sequence_x = df[DIGIT]['x'].tolist()\n",
    "raw_sequence_y = df[DIGIT]['y'].tolist()\n",
    "\n",
    "sampled_sequence_x = []\n",
    "sampled_sequence_y = []\n",
    "\n",
    "\n",
    "for i in range(len(raw_sequence_x)-1):\n",
    "    samples_x, samples_y = sample_line((raw_sequence_x[i],raw_sequence_y[i]),\n",
    "                            (raw_sequence_x[i+1],raw_sequence_y[i+1]))\n",
    "\n",
    "    sampled_sequence_x.append(raw_sequence_x[i])\n",
    "    sampled_sequence_y.append(raw_sequence_y[i])\n",
    "\n",
    "    sampled_sequence_x = sampled_sequence_x + [x for x in samples_x]\n",
    "    sampled_sequence_y = sampled_sequence_y + [y for y in samples_y]\n",
    "\n",
    "sampled_sequence_x.append(raw_sequence_x[-1])\n",
    "sampled_sequence_y.append(raw_sequence_y[-1])\n",
    "\n",
    "print(sampled_sequence_x)\n",
    "print(len(sampled_sequence_x))\n",
    "print(sampled_sequence_y)\n"
   ]
  },
  {
   "cell_type": "code",
   "execution_count": null,
   "metadata": {},
   "outputs": [],
   "source": []
  },
  {
   "cell_type": "code",
   "execution_count": null,
   "metadata": {},
   "outputs": [],
   "source": []
  },
  {
   "cell_type": "code",
   "execution_count": null,
   "metadata": {},
   "outputs": [],
   "source": []
  }
 ],
 "metadata": {
  "kernelspec": {
   "display_name": "Python 3",
   "language": "python",
   "name": "python3"
  },
  "language_info": {
   "codemirror_mode": {
    "name": "ipython",
    "version": 3
   },
   "file_extension": ".py",
   "mimetype": "text/x-python",
   "name": "python",
   "nbconvert_exporter": "python",
   "pygments_lexer": "ipython3",
   "version": "3.7.5"
  }
 },
 "nbformat": 4,
 "nbformat_minor": 2
}
