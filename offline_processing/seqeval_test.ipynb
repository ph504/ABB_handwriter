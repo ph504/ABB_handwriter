{
 "cells": [
  {
   "cell_type": "code",
   "execution_count": 1,
   "metadata": {},
   "outputs": [
    {
     "name": "stdout",
     "output_type": "stream",
     "text": [
      "initialized data is stored in the following directory:\n",
      "..\\data\\generated image numbers\n"
     ]
    }
   ],
   "source": [
    "import seqeval\n",
    "import ppg_init as ppg\n",
    "import pandas as pd\n",
    "import matplotlib.pyplot as plt\n",
    "import numpy as np"
   ]
  },
  {
   "cell_type": "code",
   "execution_count": 2,
   "metadata": {},
   "outputs": [
    {
     "data": {
      "text/plain": [
       "[(7, 9),\n",
       " (7, 8),\n",
       " (6, 5),\n",
       " (6, 6),\n",
       " (5, 6),\n",
       " (7, 6),\n",
       " (7, 5),\n",
       " (4, 7),\n",
       " (5, 7),\n",
       " (7, 4),\n",
       " (7, 3),\n",
       " (7, 7),\n",
       " (3, 3),\n",
       " (2, 3),\n",
       " (2, 4),\n",
       " (2, 8),\n",
       " (3, 8),\n",
       " (2, 7),\n",
       " (1, 4),\n",
       " (1, 6),\n",
       " (1, 7),\n",
       " (1, 5)]"
      ]
     },
     "execution_count": 2,
     "metadata": {},
     "output_type": "execute_result"
    }
   ],
   "source": [
    "data_dir = '..\\\\data\\\\pathgen out\\\\'\n",
    "data_fname = 'path_Num_ea_'\n",
    "\n",
    "df = []\n",
    "for i in range(ppg.NO_DIGITS):\n",
    "    df.append(pd.read_csv(data_dir+\n",
    "        data_fname+str(i)+'.csv'))\n",
    "    \n",
    "x2 = df[2]['x']\n",
    "y2 = df[2]['y']\n",
    "z = [(x2[i],y2[i]) for i in range(len(x2))]\n",
    "z"
   ]
  },
  {
   "cell_type": "code",
   "execution_count": 3,
   "metadata": {},
   "outputs": [
    {
     "data": {
      "text/plain": [
       "(-0.5, 9.5, 9.5, -0.5)"
      ]
     },
     "execution_count": 3,
     "metadata": {},
     "output_type": "execute_result"
    },
    {
     "data": {
      "image/png": "[encoded data removed]",
      "text/plain": [
       "<Figure size 432x288 with 1 Axes>"
      ]
     },
     "metadata": {
      "needs_background": "light"
     },
     "output_type": "display_data"
    }
   ],
   "source": [
    "img = seqeval.draw_digit(z, ppg.LOW_RESOLUTION_IMG_SIZE)\n",
    "plt.figure()\n",
    "plt.imshow(img, cmap='gray')\n",
    "plt.axis('off')"
   ]
  },
  {
   "cell_type": "code",
   "execution_count": 4,
   "metadata": {},
   "outputs": [],
   "source": [
    "estimated_image = np.ones([ppg.LOW_RESOLUTION_IMG_SIZE,ppg.LOW_RESOLUTION_IMG_SIZE], dtype=int)\n",
    "p2 = (7,7)\n",
    "p1 = (3,3)\n",
    "seqeval.draw_line(estimated_image, p1, p2)"
   ]
  },
  {
   "cell_type": "code",
   "execution_count": 5,
   "metadata": {},
   "outputs": [
    {
     "data": {
      "text/plain": [
       "(-0.5, 9.5, 9.5, -0.5)"
      ]
     },
     "execution_count": 5,
     "metadata": {},
     "output_type": "execute_result"
    },
    {
     "data": {
      "image/png": "[encoded data removed]",
      "text/plain": [
       "<Figure size 432x288 with 1 Axes>"
      ]
     },
     "metadata": {
      "needs_background": "light"
     },
     "output_type": "display_data"
    }
   ],
   "source": [
    "plt.figure()\n",
    "plt.imshow(estimated_image, cmap='gray')\n",
    "plt.axis('off')"
   ]
  },
  {
   "cell_type": "code",
   "execution_count": null,
   "metadata": {},
   "outputs": [],
   "source": []
  }
 ],
 "metadata": {
  "kernelspec": {
   "display_name": "Python 3",
   "language": "python",
   "name": "python3"
  },
  "language_info": {
   "codemirror_mode": {
    "name": "ipython",
    "version": 3
   },
   "file_extension": ".py",
   "mimetype": "text/x-python",
   "name": "python",
   "nbconvert_exporter": "python",
   "pygments_lexer": "ipython3",
   "version": "3.7.5"
  }
 },
 "nbformat": 4,
 "nbformat_minor": 2
}
