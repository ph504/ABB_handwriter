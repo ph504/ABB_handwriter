{
 "cells": [
  {
   "cell_type": "markdown",
   "metadata": {},
   "source": [
    "# Sequence evaluation\n",
    "\n",
    "computing the error from the sequence that is given from the pathgen module.\n",
    "\n",
    "or in evolutionary computing literature it is called fitness computing."
   ]
  },
  {
   "cell_type": "markdown",
   "metadata": {},
   "source": [
    "## Libraries"
   ]
  },
  {
   "cell_type": "code",
   "execution_count": 1,
   "metadata": {},
   "outputs": [],
   "source": [
    "import numpy as np\n",
    "import matplotlib.pyplot as plt"
   ]
  },
  {
   "cell_type": "markdown",
   "metadata": {},
   "source": [
    "## modules"
   ]
  },
  {
   "cell_type": "code",
   "execution_count": 2,
   "metadata": {},
   "outputs": [],
   "source": [
    "# point1 and point2 are paired tuples from a standard image matrix.\n",
    "# standard image matrix means that coordinates are (rows, columns) \n",
    "# and the coordinate center is at the top-left of the image (0,0)\n",
    "def draw_line(estimated_image, point1, point2):\n",
    "    # i+0.5 = m(j+0.5) + b or i-i0-0.5 = m(j-j0-0.5)\n",
    "    # j = column number\n",
    "    # i = row number\n",
    "    h_dir = np.sign(point2[1] - point1[1]) # horizontal direction \n",
    "    v_dir = np.sign(point2[0] - point1[0]) # vertical direction\n",
    "    #  1 is the positive direction (x1 - x0)>0\n",
    "    # -1 is the negative direction (x1 - x0)<0\n",
    "    # reminder: x/abs(x) = sign(x)\n",
    "    \n",
    "    if(point2[1]-point1[1]==0): # to avoid division by zero\n",
    "        for i in range(point2[0]-point1[0]):\n",
    "            v_offset = i*v_dir\n",
    "            estimated_image[point1[0]+v_offset][point1[1]] = 0\n",
    "    elif(point2[0]-point1[0]==0):\n",
    "        for j in range(point2[1]-point1[1]==0):\n",
    "            h_offset = j*h_dir\n",
    "            estimated_image[point1[0]][point1[1]+h_offset] = 0\n",
    "    else:\n",
    "        m = (point2[0] - point1[0]) / (point2[1] - point1[1])\n",
    "        for i in range(abs(point2[0]-point1[0])+1):\n",
    "            for j in range(abs(point2[1]-point1[1])+1):\n",
    "                # ignoring the end points of the line.\n",
    "                h_offset = j*h_dir\n",
    "                v_offset = i*v_dir\n",
    "                if(h_offset==0 and v_offset==0):\n",
    "                    continue\n",
    "                if(point1[1]+ h_offset== point2[1] and point1[0]+ v_offset== point2[0]):\n",
    "                    continue\n",
    "                for hc in range(2):\n",
    "                    for vc in range(2):\n",
    "                        i_online = (point1[1]+hc+h_offset - (point1[1]+0.5))*m + (point1[0]+0.5)\n",
    "                        j_online = (point1[0]+vc+v_offset - (point1[0]+0.5))/m + (point1[1]+0.5)\n",
    "                        if((point1[0]+ v_offset <= i_online and i_online <= point1[0]+ v_offset+ v_dir) \n",
    "                           or (point1[1]+ h_offset <= j_online and j_online <= point1[1]+ h_offset+ h_dir)):\n",
    "                            estimated_image[ point1[0]+v_offset ][ point1[1]+h_offset ] = 0\n",
    "    "
   ]
  },
  {
   "cell_type": "code",
   "execution_count": 3,
   "metadata": {},
   "outputs": [],
   "source": [
    "# the sequence is a series of paired tuples that have the order of the desired picture.\n",
    "# this order is further used to draw a picture on the paper.\n",
    "# we are using MSE because the values are normalized between 1 and 0 \n",
    "# so the pixels whose shades are close to black  become lesser value by getting squared.\n",
    "def seqeval_MSE(sequence, img_size, desired_image):\n",
    "    estimated_image = np.ones([img_size,img_size], dtype=int)\n",
    "    # 2 = white\n",
    "    # 0 = black\n",
    "    # not 255 in order to avoid large number of variances.\n",
    "    # not 1 in order to make use of the variance and not just absolute function of errors.\n",
    "    \n",
    "    # normalize the input data\n",
    "    max_intensity = np.max(desired_image)\n",
    "    normalized_desired = desired_image/max_intensity\n",
    "    \n",
    "    for i in range(len(sequence)-1):\n",
    "        first_point = sequence[i] \n",
    "        consecutive_point = sequence[i+1]\n",
    "        draw_line(estimated_image, first_point, consecutive_point)\n",
    "    \n",
    "    for i in range(len(sequence)):\n",
    "        estimated_image[sequence[i]] = 0\n",
    "        \n",
    "    \n",
    "    # --------- outputting and logging and testing some of the results.\n",
    "    norm_estimate = estimated_image*255\n",
    "    norm_estimate //= 1\n",
    "    plt.figure()\n",
    "    plt.imshow(norm_estimate,cmap='gray')\n",
    "    plt.axis(\"off\")\n",
    "    \n",
    "    error = estimated_image - normalized_desired\n",
    "    MSE = np.sum(error**2)\n",
    "    return MSE"
   ]
  },
  {
   "cell_type": "markdown",
   "metadata": {},
   "source": [
    "## testing the evaluation module"
   ]
  },
  {
   "cell_type": "code",
   "execution_count": 5,
   "metadata": {},
   "outputs": [
    {
     "data": {
      "text/plain": [
       "27.0"
      ]
     },
     "execution_count": 5,
     "metadata": {},
     "output_type": "execute_result"
    },
    {
     "data": {
      "image/png": "[encoded data removed]",
      "text/plain": [
       "<Figure size 432x288 with 1 Axes>"
      ]
     },
     "metadata": {
      "needs_background": "light"
     },
     "output_type": "display_data"
    }
   ],
   "source": [
    "seqeval_MSE([(5,3), (2,6), (9,1), (4,8)], 10, np.ones([10,10])*255)"
   ]
  },
  {
   "cell_type": "code",
   "execution_count": 7,
   "metadata": {},
   "outputs": [
    {
     "data": {
      "text/plain": [
       "2.0"
      ]
     },
     "execution_count": 7,
     "metadata": {},
     "output_type": "execute_result"
    },
    {
     "data": {
      "image/png": "[encoded data removed]",
      "text/plain": [
       "<Figure size 432x288 with 1 Axes>"
      ]
     },
     "metadata": {
      "needs_background": "light"
     },
     "output_type": "display_data"
    }
   ],
   "source": [
    "seqeval_MSE([(8,8), (1,1)], 10, np.ones([10,10])*255)"
   ]
  },
  {
   "cell_type": "code",
   "execution_count": 209,
   "metadata": {},
   "outputs": [
    {
     "data": {
      "text/plain": [
       "56.0"
      ]
     },
     "execution_count": 209,
     "metadata": {},
     "output_type": "execute_result"
    },
    {
     "data": {
      "image/png": "[encoded data removed]",
      "text/plain": [
       "<Figure size 432x288 with 1 Axes>"
      ]
     },
     "metadata": {
      "needs_background": "light"
     },
     "output_type": "display_data"
    },
    {
     "data": {
      "image/png": "[encoded data removed]",
      "text/plain": [
       "<Figure size 432x288 with 1 Axes>"
      ]
     },
     "metadata": {
      "needs_background": "light"
     },
     "output_type": "display_data"
    }
   ],
   "source": [
    "seqeval_MSE2([(9,1), (4,8)], 10, np.ones([10,10])*255)\n",
    "seqeval_MSE2([(4,8), (9,1)], 10, np.ones([10,10])*255)"
   ]
  },
  {
   "cell_type": "code",
   "execution_count": null,
   "metadata": {},
   "outputs": [],
   "source": []
  }
 ],
 "metadata": {
  "kernelspec": {
   "display_name": "Python 3",
   "language": "python",
   "name": "python3"
  },
  "language_info": {
   "codemirror_mode": {
    "name": "ipython",
    "version": 3
   },
   "file_extension": ".py",
   "mimetype": "text/x-python",
   "name": "python",
   "nbconvert_exporter": "python",
   "pygments_lexer": "ipython3",
   "version": "3.7.5"
  }
 },
 "nbformat": 4,
 "nbformat_minor": 2
}
