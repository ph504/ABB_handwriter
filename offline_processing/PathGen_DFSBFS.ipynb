{
 "cells": [
  {
   "cell_type": "markdown",
   "metadata": {},
   "source": [
    "# Path pattern Generating using BFS & DFS"
   ]
  },
  {
   "cell_type": "markdown",
   "metadata": {},
   "source": [
    "## Libraries"
   ]
  },
  {
   "cell_type": "code",
   "execution_count": 21,
   "metadata": {},
   "outputs": [],
   "source": [
    "import ppg_init as ppg\n",
    "import cv2 as cv\n",
    "import numpy as np\n",
    "import pandas as pd\n",
    "import matplotlib.pyplot as plt\n",
    "from queue import Queue\n",
    "from queue import LifoQueue\n",
    "import math"
   ]
  },
  {
   "cell_type": "markdown",
   "metadata": {},
   "source": [
    "## Fetch preprocessed data"
   ]
  },
  {
   "cell_type": "code",
   "execution_count": 20,
   "metadata": {},
   "outputs": [],
   "source": [
    "number_gray = np.zeros((ppg.NO_DIGITS, ppg.IMG_WIDTH ,ppg.IMG_HEIGHT))\n",
    "for i in range (ppg.NO_DIGITS):\n",
    "    number_image = cv.imread(ppg.IMAGE_PATH+' '+str(i)+' dilated.png')\n",
    "    number_gray[i] = cv.cvtColor(number_image, cv.COLOR_BGR2GRAY)"
   ]
  },
  {
   "cell_type": "markdown",
   "metadata": {},
   "source": [
    "## Find endpoints\n",
    "finding the endpoints of each number with an algorithm."
   ]
  },
  {
   "cell_type": "markdown",
   "metadata": {},
   "source": [
    "### find the first black pixel\n",
    "since the pixel might be isolated we have to iterate all of the pixels."
   ]
  },
  {
   "cell_type": "code",
   "execution_count": 27,
   "metadata": {},
   "outputs": [
    {
     "name": "stdout",
     "output_type": "stream",
     "text": [
      "digit =  0 ----------------\n",
      "number of black pixels connected to the first black pixel : 863\n",
      "digit =  1 ----------------\n",
      "number of black pixels connected to the first black pixel : 563\n",
      "digit =  2 ----------------\n",
      "number of black pixels connected to the first black pixel : 1531\n",
      "digit =  3 ----------------\n",
      "number of black pixels connected to the first black pixel : 1447\n",
      "digit =  4 ----------------\n",
      "number of black pixels connected to the first black pixel : 927\n",
      "digit =  5 ----------------\n",
      "number of black pixels connected to the first black pixel : 1262\n",
      "digit =  6 ----------------\n",
      "number of black pixels connected to the first black pixel : 1299\n",
      "digit =  7 ----------------\n",
      "number of black pixels connected to the first black pixel : 929\n",
      "digit =  8 ----------------\n",
      "number of black pixels connected to the first black pixel : 1805\n",
      "digit =  9 ----------------\n",
      "number of black pixels connected to the first black pixel : 1459\n",
      "------------------------------ done.\n",
      "all recorded first black pixels [(80, 130), (53, 156), (23, 156), (25, 138), (30, 99), (43, 169), (25, 181), (34, 64), (26, 105), (40, 117)]\n"
     ]
    }
   ],
   "source": [
    "# normalize x, y values based on the input image sizes\n",
    "# norm_x = x/300\n",
    "# norm_y = y/300\n",
    "#TODO ^\n",
    "\n",
    "firstpxl_img = []\n",
    "visited_img = np.empty((10, 300, 300))\n",
    "# visit status\n",
    "unvisited_status = -4\n",
    "# -3 for not visited at all.\n",
    "# -2 for not iterated for location extraction phase.\n",
    "# any other value represents the pixel value intensity from the image.\n",
    "for i in range(10):\n",
    "    print('digit = ', i, '----------------')\n",
    "    BFSqueue = Queue()\n",
    "    myimg = number_gray[i]\n",
    "    found = False\n",
    "    # 0 is balck and 255 is white\n",
    "    # anything under 50 pixel value is considered black here.\n",
    "    visited_img[i, :, :] = (myimg<50)*unvisited_status\n",
    "    firstpxl_img.append((0,0)) # default # to extend the length of the list.\n",
    "    for x in range(len(myimg)):\n",
    "        for y in range(len(myimg[x])):\n",
    "            max_black_num = -1 # the number of black pixels which are connected to this pixel.\n",
    "            # store each potential first black pixel point\n",
    "            # using BFS to determine all adjacent pixels.\n",
    "            if(visited_img[i, x,y]== unvisited_status): # is black and unvisited.\n",
    "                pxl_counter = 0\n",
    "                BFSqueue.put((x,y))\n",
    "                while(not BFSqueue.empty()):\n",
    "                    xt,yt = BFSqueue.get()\n",
    "                    for xtt in range(xt-1, xt+2):\n",
    "                        for ytt in range(yt-1, yt+2):\n",
    "                            if(xtt==xt and ytt==yt):\n",
    "                                continue\n",
    "                            if(visited_img[i, xtt,ytt] == unvisited_status): # is black and unvisited.\n",
    "                                pxl_counter+=1\n",
    "                                visited_img[i, xtt,ytt] = unvisited_status + 1 # visited once\n",
    "                                BFSqueue.put((xtt,ytt))\n",
    "                if(max_black_num<pxl_counter):\n",
    "                    print('number of black pixels connected to the first black pixel :', pxl_counter)\n",
    "                    firstpxl_img[i] = (x,y)\n",
    "                    max_black_num = pxl_counter\n",
    "\n",
    "print('------------------------------ done.')\n",
    "print('all recorded first black pixels', firstpxl_img)\n",
    "unvisited_status += 1"
   ]
  },
  {
   "cell_type": "markdown",
   "metadata": {},
   "source": [
    "### Find last(lowest) black pixel\n",
    "for drawing an eight digit we need the zero digit and to do that, we have to extract the zero digit image lowest position and highest position. the reason is we need two zero digits vertically connected to each other for drawing an eight."
   ]
  },
  {
   "cell_type": "code",
   "execution_count": 29,
   "metadata": {},
   "outputs": [
    {
     "name": "stdout",
     "output_type": "stream",
     "text": [
      "digit =  0 ----------------\n",
      "number of black pixels connected to the first black pixel : 863\n",
      "digit =  1 ----------------\n",
      "number of black pixels connected to the first black pixel : 563\n",
      "digit =  2 ----------------\n",
      "number of black pixels connected to the first black pixel : 1531\n",
      "digit =  3 ----------------\n",
      "number of black pixels connected to the first black pixel : 1447\n",
      "digit =  4 ----------------\n",
      "number of black pixels connected to the first black pixel : 927\n",
      "digit =  5 ----------------\n",
      "number of black pixels connected to the first black pixel : 1262\n",
      "digit =  6 ----------------\n",
      "number of black pixels connected to the first black pixel : 1299\n",
      "digit =  7 ----------------\n",
      "number of black pixels connected to the first black pixel : 929\n",
      "digit =  8 ----------------\n",
      "number of black pixels connected to the first black pixel : 1805\n",
      "digit =  9 ----------------\n",
      "number of black pixels connected to the first black pixel : 1459\n",
      "------------------------------ done.\n",
      "all recorded first black pixels [(190, 131), (244, 139), (211, 141), (285, 141), (151, 27), (231, 146), (216, 185), (240, 100), (226, 156), (250, 141)]\n"
     ]
    }
   ],
   "source": [
    "# in order to have more readability we extract lowest point for all digits,\n",
    "# regardless of the necessity.\n",
    "\n",
    "lowestpxl_img = []\n",
    "visited_lastpxl_img = np.empty((10, 300, 300)) # not to be confused with \n",
    "# visit status\n",
    "# -3 for not visited at all.\n",
    "# -1 for not iterated for location extraction phase.\n",
    "# any other value represents the pixel value intensity from the image.\n",
    "for i in range(10):\n",
    "    print('digit = ', i, '----------------')\n",
    "    BFSqueue = Queue()\n",
    "    myimg = number_gray[i]\n",
    "    found = False\n",
    "    # 0 is balck and 255 is white\n",
    "    # anything under 50 pixel value is considered black here.\n",
    "    visited_lastpxl_img[i, :, :] = (myimg<50)*-4\n",
    "    lowestpxl_img.append((0,0)) # default # to extend the length of the list.\n",
    "    for x in range(len(myimg)-1, -1, -1): # bottom-up\n",
    "        for y in range(len(myimg[x])-1, -1, -1): # left-right\n",
    "            max_black_num = -1 # the number of black pixels which are connected to this pixel.\n",
    "            # store each potential first black pixel point\n",
    "            # using BFS to determine all adjacent pixels.\n",
    "            if(visited_lastpxl_img[i, x,y]==-4): # is black and unvisited.\n",
    "                pxl_counter = 0\n",
    "                BFSqueue.put((x,y))\n",
    "                while(not BFSqueue.empty()):\n",
    "                    xt,yt = BFSqueue.get()\n",
    "                    for xtt in range(xt-1, xt+2):\n",
    "                        for ytt in range(yt-1, yt+2):\n",
    "                            if(xtt==xt and ytt==yt):\n",
    "                                continue\n",
    "                            if(visited_lastpxl_img[i, xtt,ytt]==-4): # is black and unvisited.\n",
    "                                pxl_counter+=1\n",
    "                                visited_lastpxl_img[i, xtt,ytt] = -3 # visited once\n",
    "                                BFSqueue.put((xtt,ytt))\n",
    "                if(max_black_num<pxl_counter):\n",
    "                    print('number of black pixels connected to the first black pixel :', pxl_counter)\n",
    "                    lowestpxl_img[i] = (x,y)\n",
    "                    max_black_num = pxl_counter\n",
    "print('------------------------------ done.')\n",
    "print('all recorded first black pixels', lowestpxl_img)"
   ]
  },
  {
   "cell_type": "markdown",
   "metadata": {},
   "source": [
    "### global datastructures"
   ]
  },
  {
   "cell_type": "code",
   "execution_count": 31,
   "metadata": {},
   "outputs": [],
   "source": [
    "# previous datastructures.\n",
    "# BFSqueue\n",
    "# firstpxl_img\n",
    "# visited_img\n",
    "# unvisited_status\n",
    "# visited_lastpxl_img\n",
    "# img_dilation\n",
    "# need a queue to iterate the them, this is a BFS algorithm,\n",
    "# to iterate all the image and find the endpoints for each image using the visited_img matrix.\n",
    "endpoint_stack_img = []\n",
    "for i in range(10):\n",
    "    endpoint_stack_img.append(LifoQueue())\n",
    "\n",
    "# the endpoints at the end are saved in the endpoint stack as there are expected to be multiple endpoints."
   ]
  },
  {
   "cell_type": "markdown",
   "metadata": {},
   "source": [
    "### the algorithm\n",
    "used BFS and visit matrix to determine the last point which is surrounded with -1 in visit matrix. and the last point will be marked as an endpoint\n",
    "and it will be stored in the queue."
   ]
  },
  {
   "cell_type": "code",
   "execution_count": 32,
   "metadata": {},
   "outputs": [],
   "source": [
    "for i in range(10):\n",
    "    x, y = firstpxl_img[i]\n",
    "    BFSqueue = Queue()\n",
    "    BFSqueue.put((x,y))\n",
    "\n",
    "    while(not BFSqueue.empty()):\n",
    "        has_unvisited_neighb = False\n",
    "        x,y = BFSqueue.get()\n",
    "        # check unvisited neighbors.\n",
    "        for xt in range(x-1, x+2):\n",
    "            for yt in range(y-1, y+2):\n",
    "                if(y==yt and x==xt):\n",
    "                    visited_img[i, xt, yt] = unvisited_status+1\n",
    "                    continue\n",
    "                if(visited_img[i, xt,yt]== unvisited_status):\n",
    "                    has_unvisited_neighb = True;\n",
    "                    BFSqueue.put((xt,yt))\n",
    "                    visited_img[i, xt,yt] = unvisited_status+1\n",
    "                    # i.e. visited for finding endpoints.\n",
    "\n",
    "            if(not has_unvisited_neighb):\n",
    "                  endpoint_stack_img[i].put((x, y))"
   ]
  },
  {
   "cell_type": "markdown",
   "metadata": {},
   "source": [
    "### warnings about the algorithm above:\n",
    "- the sides of the image aren't checked due to being handcrafted so it is guaranteed that the black pixles aren't on the sides."
   ]
  },
  {
   "cell_type": "markdown",
   "metadata": {},
   "source": []
  },
  {
   "cell_type": "markdown",
   "metadata": {},
   "source": []
  },
  {
   "cell_type": "code",
   "execution_count": null,
   "metadata": {},
   "outputs": [],
   "source": []
  }
 ],
 "metadata": {
  "kernelspec": {
   "display_name": "Python 3",
   "language": "python",
   "name": "python3"
  },
  "language_info": {
   "codemirror_mode": {
    "name": "ipython",
    "version": 3
   },
   "file_extension": ".py",
   "mimetype": "text/x-python",
   "name": "python",
   "nbconvert_exporter": "python",
   "pygments_lexer": "ipython3",
   "version": "3.7.5"
  }
 },
 "nbformat": 4,
 "nbformat_minor": 2
}
